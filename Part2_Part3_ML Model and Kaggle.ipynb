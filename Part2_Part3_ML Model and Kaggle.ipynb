{
 "cells": [
  {
   "cell_type": "markdown",
   "metadata": {},
   "source": [
    "## 4. Part 2: Supervised Learning Model\n",
    "\n",
    "Now that you've found which parts of the population are more likely to be customers of the mail-order company, it's time to build a prediction model. Each of the rows in the \"MAILOUT\" data files represents an individual that was targeted for a mailout campaign. Ideally, we should be able to use the demographic information from each individual to decide whether or not it will be worth it to include that person in the campaign.\n",
    "\n",
    "The \"MAILOUT\" data has been split into two approximately equal parts, each with almost 43 000 data rows. In this part, you can verify your model with the \"TRAIN\" partition, which includes a column, \"RESPONSE\", that states whether or not a person became a customer of the company following the campaign. In the next part, you'll need to create predictions on the \"TEST\" partition, where the \"RESPONSE\" column has been withheld."
   ]
  },
  {
   "cell_type": "markdown",
   "metadata": {},
   "source": [
    "### 4.1 Import Libraries and Load Datas"
   ]
  },
  {
   "cell_type": "code",
   "execution_count": 2,
   "metadata": {},
   "outputs": [],
   "source": [
    "import pandas as pd\n",
    "import numpy as np\n",
    "import matplotlib.pyplot as plt\n",
    "import pickle\n",
    "\n",
    "from sklearn.preprocessing import StandardScaler\n",
    "\n",
    "\n",
    "from sklearn.cluster import KMeans\n",
    "from sklearn.metrics import accuracy_score, roc_curve\n",
    "from sklearn.model_selection import train_test_split, StratifiedKFold, GridSearchCV\n",
    "from sklearn.linear_model import LogisticRegression\n",
    "from sklearn.ensemble import RandomForestClassifier, VotingClassifier\n",
    "from sklearn.ensemble import AdaBoostClassifier\n",
    "from sklearn.ensemble import GradientBoostingClassifier\n",
    "from sklearn.neighbors import KNeighborsClassifier\n",
    "from sklearn.tree import DecisionTreeClassifier\n",
    "from sklearn.svm import SVC\n",
    "\n",
    "\n",
    "from sklearn.model_selection import cross_val_score\n",
    "\n",
    "import warnings\n",
    "warnings.filterwarnings(\"ignore\")"
   ]
  },
  {
   "cell_type": "code",
   "execution_count": 3,
   "metadata": {},
   "outputs": [],
   "source": [
    "# Read the cleaned and dummy-encoded train data\n",
    "\n",
    "train_cleaned = pickle.load(open(r\"U:\\arvato_data\\train_cleaned.pickle\", \"rb\"))"
   ]
  },
  {
   "cell_type": "code",
   "execution_count": 4,
   "metadata": {},
   "outputs": [],
   "source": [
    "# Read the cleaned and dummy-encoded test data\n",
    "\n",
    "test_cleaned = pickle.load(open(r\"U:\\arvato_data\\test_cleaned.pickle\", \"rb\"))"
   ]
  },
  {
   "cell_type": "markdown",
   "metadata": {},
   "source": [
    "### 4.2 Feature Scaling of Train Data"
   ]
  },
  {
   "cell_type": "code",
   "execution_count": 5,
   "metadata": {},
   "outputs": [
    {
     "data": {
      "text/plain": [
       "(34165, 614)"
      ]
     },
     "execution_count": 5,
     "metadata": {},
     "output_type": "execute_result"
    }
   ],
   "source": [
    "train_cleaned.shape"
   ]
  },
  {
   "cell_type": "code",
   "execution_count": 6,
   "metadata": {
    "scrolled": true
   },
   "outputs": [
    {
     "data": {
      "text/plain": [
       "((34165,), (423,))"
      ]
     },
     "execution_count": 6,
     "metadata": {},
     "output_type": "execute_result"
    }
   ],
   "source": [
    "# Create labels from Response column of Train data\n",
    "y = train_cleaned.RESPONSE\n",
    "y.shape,y[y ==1].shape"
   ]
  },
  {
   "cell_type": "code",
   "execution_count": 7,
   "metadata": {},
   "outputs": [
    {
     "data": {
      "text/plain": [
       "(34165, 613)"
      ]
     },
     "execution_count": 7,
     "metadata": {},
     "output_type": "execute_result"
    }
   ],
   "source": [
    "# Drop Response column from train data and create X data\n",
    "X = train_cleaned.drop(columns = \"RESPONSE\", axis = 1, inplace = False)\n",
    "X.shape"
   ]
  },
  {
   "cell_type": "code",
   "execution_count": 8,
   "metadata": {},
   "outputs": [
    {
     "data": {
      "text/html": [
       "<div>\n",
       "<style scoped>\n",
       "    .dataframe tbody tr th:only-of-type {\n",
       "        vertical-align: middle;\n",
       "    }\n",
       "\n",
       "    .dataframe tbody tr th {\n",
       "        vertical-align: top;\n",
       "    }\n",
       "\n",
       "    .dataframe thead th {\n",
       "        text-align: right;\n",
       "    }\n",
       "</style>\n",
       "<table border=\"1\" class=\"dataframe\">\n",
       "  <thead>\n",
       "    <tr style=\"text-align: right;\">\n",
       "      <th></th>\n",
       "      <th>ANZ_HAUSHALTE_AKTIV</th>\n",
       "      <th>ANZ_HH_TITEL</th>\n",
       "      <th>ANZ_KINDER</th>\n",
       "      <th>ANZ_PERSONEN</th>\n",
       "      <th>ANZ_STATISTISCHE_HAUSHALTE</th>\n",
       "      <th>ANZ_TITEL</th>\n",
       "      <th>ARBEIT</th>\n",
       "      <th>BALLRAUM</th>\n",
       "      <th>CAMEO_DEUG_2015</th>\n",
       "      <th>D19_BANKEN_DIREKT</th>\n",
       "      <th>...</th>\n",
       "      <th>CJT_KATALOGNUTZER_2.0</th>\n",
       "      <th>CJT_KATALOGNUTZER_3.0</th>\n",
       "      <th>CJT_KATALOGNUTZER_4.0</th>\n",
       "      <th>CJT_KATALOGNUTZER_5.0</th>\n",
       "      <th>UMFELD_ALT_2.0</th>\n",
       "      <th>UMFELD_ALT_3.0</th>\n",
       "      <th>UMFELD_ALT_4.0</th>\n",
       "      <th>UMFELD_ALT_5.0</th>\n",
       "      <th>HEALTH_TYP_2.0</th>\n",
       "      <th>HEALTH_TYP_3.0</th>\n",
       "    </tr>\n",
       "  </thead>\n",
       "  <tbody>\n",
       "    <tr>\n",
       "      <th>0</th>\n",
       "      <td>0.554097</td>\n",
       "      <td>-0.132703</td>\n",
       "      <td>-0.220702</td>\n",
       "      <td>-0.751759</td>\n",
       "      <td>0.477006</td>\n",
       "      <td>-0.091371</td>\n",
       "      <td>-0.051604</td>\n",
       "      <td>0.338352</td>\n",
       "      <td>0.010117</td>\n",
       "      <td>-0.427354</td>\n",
       "      <td>...</td>\n",
       "      <td>-0.272525</td>\n",
       "      <td>-0.410309</td>\n",
       "      <td>-0.440023</td>\n",
       "      <td>1.050167</td>\n",
       "      <td>2.018293</td>\n",
       "      <td>-0.609674</td>\n",
       "      <td>-0.525814</td>\n",
       "      <td>-0.366824</td>\n",
       "      <td>1.025407</td>\n",
       "      <td>-0.543376</td>\n",
       "    </tr>\n",
       "    <tr>\n",
       "      <th>1</th>\n",
       "      <td>-0.377802</td>\n",
       "      <td>-0.132703</td>\n",
       "      <td>-0.220702</td>\n",
       "      <td>-0.018542</td>\n",
       "      <td>-0.369718</td>\n",
       "      <td>-0.091371</td>\n",
       "      <td>-1.017668</td>\n",
       "      <td>0.338352</td>\n",
       "      <td>0.010117</td>\n",
       "      <td>-0.427354</td>\n",
       "      <td>...</td>\n",
       "      <td>3.669392</td>\n",
       "      <td>-0.410309</td>\n",
       "      <td>-0.440023</td>\n",
       "      <td>-0.952230</td>\n",
       "      <td>2.018293</td>\n",
       "      <td>-0.609674</td>\n",
       "      <td>-0.525814</td>\n",
       "      <td>-0.366824</td>\n",
       "      <td>1.025407</td>\n",
       "      <td>-0.543376</td>\n",
       "    </tr>\n",
       "    <tr>\n",
       "      <th>2</th>\n",
       "      <td>-0.444366</td>\n",
       "      <td>0.000445</td>\n",
       "      <td>-0.220702</td>\n",
       "      <td>-1.484976</td>\n",
       "      <td>-0.369718</td>\n",
       "      <td>-0.091371</td>\n",
       "      <td>0.914459</td>\n",
       "      <td>-1.483091</td>\n",
       "      <td>-1.228820</td>\n",
       "      <td>-0.427354</td>\n",
       "      <td>...</td>\n",
       "      <td>-0.272525</td>\n",
       "      <td>-0.410309</td>\n",
       "      <td>-0.440023</td>\n",
       "      <td>1.050167</td>\n",
       "      <td>-0.495468</td>\n",
       "      <td>-0.609674</td>\n",
       "      <td>-0.525814</td>\n",
       "      <td>-0.366824</td>\n",
       "      <td>-0.975223</td>\n",
       "      <td>-0.543376</td>\n",
       "    </tr>\n",
       "  </tbody>\n",
       "</table>\n",
       "<p>3 rows × 613 columns</p>\n",
       "</div>"
      ],
      "text/plain": [
       "   ANZ_HAUSHALTE_AKTIV  ANZ_HH_TITEL  ANZ_KINDER  ANZ_PERSONEN  \\\n",
       "0             0.554097     -0.132703   -0.220702     -0.751759   \n",
       "1            -0.377802     -0.132703   -0.220702     -0.018542   \n",
       "2            -0.444366      0.000445   -0.220702     -1.484976   \n",
       "\n",
       "   ANZ_STATISTISCHE_HAUSHALTE  ANZ_TITEL    ARBEIT  BALLRAUM  CAMEO_DEUG_2015  \\\n",
       "0                    0.477006  -0.091371 -0.051604  0.338352         0.010117   \n",
       "1                   -0.369718  -0.091371 -1.017668  0.338352         0.010117   \n",
       "2                   -0.369718  -0.091371  0.914459 -1.483091        -1.228820   \n",
       "\n",
       "   D19_BANKEN_DIREKT  ...  CJT_KATALOGNUTZER_2.0  CJT_KATALOGNUTZER_3.0  \\\n",
       "0          -0.427354  ...              -0.272525              -0.410309   \n",
       "1          -0.427354  ...               3.669392              -0.410309   \n",
       "2          -0.427354  ...              -0.272525              -0.410309   \n",
       "\n",
       "   CJT_KATALOGNUTZER_4.0  CJT_KATALOGNUTZER_5.0  UMFELD_ALT_2.0  \\\n",
       "0              -0.440023               1.050167        2.018293   \n",
       "1              -0.440023              -0.952230        2.018293   \n",
       "2              -0.440023               1.050167       -0.495468   \n",
       "\n",
       "   UMFELD_ALT_3.0  UMFELD_ALT_4.0  UMFELD_ALT_5.0  HEALTH_TYP_2.0  \\\n",
       "0       -0.609674       -0.525814       -0.366824        1.025407   \n",
       "1       -0.609674       -0.525814       -0.366824        1.025407   \n",
       "2       -0.609674       -0.525814       -0.366824       -0.975223   \n",
       "\n",
       "   HEALTH_TYP_3.0  \n",
       "0       -0.543376  \n",
       "1       -0.543376  \n",
       "2       -0.543376  \n",
       "\n",
       "[3 rows x 613 columns]"
      ]
     },
     "execution_count": 8,
     "metadata": {},
     "output_type": "execute_result"
    }
   ],
   "source": [
    "# Apply scaling to X data\n",
    "scaler = StandardScaler()\n",
    "X = pd.DataFrame(scaler.fit_transform(X), columns = X.columns)\n",
    "X.head(3)"
   ]
  },
  {
   "cell_type": "markdown",
   "metadata": {},
   "source": [
    "### 4.3 Building Classification Model"
   ]
  },
  {
   "cell_type": "markdown",
   "metadata": {},
   "source": [
    "I wll create classification model by comparing 4 models through Grid Search Cross Validation. \n",
    "I will find the best model that gives best auc-roc score; after i will tune the hyperparameters of selected model.\n",
    "Finally i will fit the model and make the predictions."
   ]
  },
  {
   "cell_type": "code",
   "execution_count": 375,
   "metadata": {},
   "outputs": [],
   "source": [
    "# Create a dict to store the classifier names and models\n",
    "random_state = 42\n",
    "classifiers = {\"DecisionTreeClassifier\":DecisionTreeClassifier(random_state = random_state),\n",
    "             \"RandomForestClassifier\":RandomForestClassifier(random_state = random_state),\n",
    "             \"AdaBoostClassifier\":AdaBoostClassifier(random_state = random_state),\n",
    "             \"GradientBoostingClassifier\":GradientBoostingClassifier(random_state = random_state) \n",
    "             }\n",
    "\n",
    "# Create a list to store empty dicts of parameters\n",
    "classifier_params = [ {} for i in range(len(classifiers)) ]\n"
   ]
  },
  {
   "cell_type": "code",
   "execution_count": 377,
   "metadata": {},
   "outputs": [],
   "source": [
    "def grid_search(X,y, classifiers, classifier_params, scoring = \"roc_auc\"):\n",
    "    \n",
    "    '''\n",
    "    Input --> X : Dataframe,features of dataset\n",
    "              y : Labels of dataset\n",
    "              classifiers: list of classifiers to fit such as \"DecisionTreeClassifier()\"\n",
    "              classifier_params : list of parameter of classifier models\n",
    "              scoring: evaluation metric of model \"roc_auc\" or \"accuracy\" etc\n",
    "    \n",
    "    Output --> scores : list of the scores of the models\n",
    "               best_estimators: List of the best estimators of models              \n",
    "    \n",
    "    '''\n",
    "    classifier_list = list(classifiers.values())\n",
    "    scores = []\n",
    "    best_estimators = []\n",
    "    for i in range(len(classifier_list)):\n",
    "        clf = GridSearchCV(classifier_list[i], \n",
    "                           param_grid=classifier_params[i], \n",
    "                           cv = StratifiedKFold(n_splits = 5), \n",
    "                           scoring = scoring, \n",
    "                           n_jobs = -1,\n",
    "                           verbose = 3,\n",
    "                           return_train_score=True\n",
    "                          )\n",
    "        clf.fit(X,y)\n",
    "        scores.append(clf.best_score_)\n",
    "        best_estimators.append(clf.best_estimator_)\n",
    "        print(\"Best score of {} : {}\".format(classifier_list[i],clf.best_score_)) \n",
    "        print(\"Best estimator of {} : {}\".format(classifier_list[i],clf.best_estimator_)) \n",
    "        \n",
    "    return scores, best_estimators"
   ]
  },
  {
   "cell_type": "code",
   "execution_count": 193,
   "metadata": {
    "scrolled": false
   },
   "outputs": [
    {
     "name": "stdout",
     "output_type": "stream",
     "text": [
      "Fitting 5 folds for each of 1 candidates, totalling 5 fits\n"
     ]
    },
    {
     "name": "stderr",
     "output_type": "stream",
     "text": [
      "[Parallel(n_jobs=-1)]: Using backend LokyBackend with 4 concurrent workers.\n",
      "[Parallel(n_jobs=-1)]: Done   2 out of   5 | elapsed:    9.1s remaining:   13.7s\n",
      "[Parallel(n_jobs=-1)]: Done   5 out of   5 | elapsed:   13.3s finished\n"
     ]
    },
    {
     "name": "stdout",
     "output_type": "stream",
     "text": [
      "Best score of DecisionTreeClassifier(random_state=42) : 0.5057996763093754\n",
      "Fitting 5 folds for each of 1 candidates, totalling 5 fits\n"
     ]
    },
    {
     "name": "stderr",
     "output_type": "stream",
     "text": [
      "[Parallel(n_jobs=-1)]: Using backend LokyBackend with 4 concurrent workers.\n",
      "[Parallel(n_jobs=-1)]: Done   2 out of   5 | elapsed:   11.8s remaining:   17.8s\n",
      "[Parallel(n_jobs=-1)]: Done   5 out of   5 | elapsed:   22.4s finished\n"
     ]
    },
    {
     "name": "stdout",
     "output_type": "stream",
     "text": [
      "Best score of RandomForestClassifier(random_state=42) : 0.5663297904840835\n",
      "Fitting 5 folds for each of 1 candidates, totalling 5 fits\n"
     ]
    },
    {
     "name": "stderr",
     "output_type": "stream",
     "text": [
      "[Parallel(n_jobs=-1)]: Using backend LokyBackend with 4 concurrent workers.\n",
      "[Parallel(n_jobs=-1)]: Done   2 out of   5 | elapsed:   23.5s remaining:   35.2s\n",
      "[Parallel(n_jobs=-1)]: Done   5 out of   5 | elapsed:   44.5s finished\n"
     ]
    },
    {
     "name": "stdout",
     "output_type": "stream",
     "text": [
      "Best score of AdaBoostClassifier(random_state=42) : 0.6649924852200984\n",
      "Fitting 5 folds for each of 1 candidates, totalling 5 fits\n"
     ]
    },
    {
     "name": "stderr",
     "output_type": "stream",
     "text": [
      "[Parallel(n_jobs=-1)]: Using backend LokyBackend with 4 concurrent workers.\n",
      "[Parallel(n_jobs=-1)]: Done   2 out of   5 | elapsed:  1.1min remaining:  1.7min\n",
      "[Parallel(n_jobs=-1)]: Done   5 out of   5 | elapsed:  2.1min finished\n"
     ]
    },
    {
     "name": "stdout",
     "output_type": "stream",
     "text": [
      "Best score of GradientBoostingClassifier(random_state=42) : 0.7034452557740594\n"
     ]
    }
   ],
   "source": [
    "# Grid Search with X and y data with scoring \"roc_auc\"\n",
    "scores, best_estimators = grid_search(\n",
    "                                       X,\n",
    "                                       y,\n",
    "                                       classifiers = classifiers, \n",
    "                                       classifier_params = classifier_params, \n",
    "                                       scoring = \"roc_auc\")"
   ]
  },
  {
   "cell_type": "code",
   "execution_count": 197,
   "metadata": {},
   "outputs": [
    {
     "data": {
      "text/plain": [
       "[DecisionTreeClassifier(random_state=42),\n",
       " RandomForestClassifier(random_state=42),\n",
       " AdaBoostClassifier(random_state=42),\n",
       " GradientBoostingClassifier(random_state=42)]"
      ]
     },
     "execution_count": 197,
     "metadata": {},
     "output_type": "execute_result"
    }
   ],
   "source": [
    "best_estimators"
   ]
  },
  {
   "cell_type": "code",
   "execution_count": 194,
   "metadata": {},
   "outputs": [
    {
     "data": {
      "text/html": [
       "<div>\n",
       "<style scoped>\n",
       "    .dataframe tbody tr th:only-of-type {\n",
       "        vertical-align: middle;\n",
       "    }\n",
       "\n",
       "    .dataframe tbody tr th {\n",
       "        vertical-align: top;\n",
       "    }\n",
       "\n",
       "    .dataframe thead th {\n",
       "        text-align: right;\n",
       "    }\n",
       "</style>\n",
       "<table border=\"1\" class=\"dataframe\">\n",
       "  <thead>\n",
       "    <tr style=\"text-align: right;\">\n",
       "      <th></th>\n",
       "      <th>Classifier</th>\n",
       "      <th>Scores</th>\n",
       "    </tr>\n",
       "  </thead>\n",
       "  <tbody>\n",
       "    <tr>\n",
       "      <th>0</th>\n",
       "      <td>DecisionTreeClassifier</td>\n",
       "      <td>0.505800</td>\n",
       "    </tr>\n",
       "    <tr>\n",
       "      <th>1</th>\n",
       "      <td>RandomForestClassifier</td>\n",
       "      <td>0.566330</td>\n",
       "    </tr>\n",
       "    <tr>\n",
       "      <th>2</th>\n",
       "      <td>AdaBoostClassifier</td>\n",
       "      <td>0.664992</td>\n",
       "    </tr>\n",
       "    <tr>\n",
       "      <th>3</th>\n",
       "      <td>GradientBoostingClassifier</td>\n",
       "      <td>0.703445</td>\n",
       "    </tr>\n",
       "  </tbody>\n",
       "</table>\n",
       "</div>"
      ],
      "text/plain": [
       "                   Classifier    Scores\n",
       "0      DecisionTreeClassifier  0.505800\n",
       "1      RandomForestClassifier  0.566330\n",
       "2          AdaBoostClassifier  0.664992\n",
       "3  GradientBoostingClassifier  0.703445"
      ]
     },
     "execution_count": 194,
     "metadata": {},
     "output_type": "execute_result"
    }
   ],
   "source": [
    "# Create DataFrame for score results\n",
    "scores_df = pd.DataFrame({\"Classifier\":list(classifiers.keys()),\n",
    "                          \"Scores\": scores})\n",
    "scores_df"
   ]
  },
  {
   "cell_type": "code",
   "execution_count": 195,
   "metadata": {},
   "outputs": [
    {
     "data": {
      "image/png": "[encoded data removed]",
      "text/plain": [
       "<Figure size 432x288 with 1 Axes>"
      ]
     },
     "metadata": {
      "needs_background": "light"
     },
     "output_type": "display_data"
    }
   ],
   "source": [
    "# Plot scores\n",
    "plt.barh(scores_df.sort_values(by = \"Scores\").Classifier,\n",
    "         scores_df.sort_values(by = \"Scores\").Scores)\n",
    "plt.title(\"Roc-Auc Scores of Classifiers\")\n",
    "plt.xlabel(\"Scores\")\n",
    "plt.show()"
   ]
  },
  {
   "cell_type": "markdown",
   "metadata": {},
   "source": [
    "So, as we see from above, best score has been achieved by Gradient Boosting Classifir.\n",
    "This classifier is selected and to be tuned to increase the score. "
   ]
  },
  {
   "cell_type": "markdown",
   "metadata": {},
   "source": [
    "### 4.4 Hyperparameter tuning of Gradient Boosting Classifer"
   ]
  },
  {
   "cell_type": "code",
   "execution_count": 392,
   "metadata": {},
   "outputs": [
    {
     "name": "stdout",
     "output_type": "stream",
     "text": [
      "Fitting 5 folds for each of 1 candidates, totalling 5 fits\n"
     ]
    },
    {
     "name": "stderr",
     "output_type": "stream",
     "text": [
      "[Parallel(n_jobs=-1)]: Using backend LokyBackend with 4 concurrent workers.\n",
      "[Parallel(n_jobs=-1)]: Done   5 out of   5 | elapsed:  2.2min finished\n"
     ]
    },
    {
     "name": "stdout",
     "output_type": "stream",
     "text": [
      "Best score of GB Classifier : 0.7034452557740594\n",
      "Parameters of GB classifier: {'ccp_alpha': 0.0, 'criterion': 'friedman_mse', 'init': None, 'learning_rate': 0.1, 'loss': 'deviance', 'max_depth': 3, 'max_features': None, 'max_leaf_nodes': None, 'min_impurity_decrease': 0.0, 'min_impurity_split': None, 'min_samples_leaf': 1, 'min_samples_split': 2, 'min_weight_fraction_leaf': 0.0, 'n_estimators': 100, 'n_iter_no_change': None, 'presort': 'deprecated', 'random_state': 42, 'subsample': 1.0, 'tol': 0.0001, 'validation_fraction': 0.1, 'verbose': 0, 'warm_start': False}\n"
     ]
    }
   ],
   "source": [
    "# Fitting GB Classifier and looking at parameters\n",
    "gb_clf = GridSearchCV(GradientBoostingClassifier(random_state=42), \n",
    "                      param_grid={}, \n",
    "                      cv = StratifiedKFold(n_splits = 5), \n",
    "                      scoring = \"roc_auc\", \n",
    "                      n_jobs = -1,\n",
    "                      verbose = 1,\n",
    "                      return_train_score=True)\n",
    "gb_clf.fit(X,y)\n",
    "params = gb_clf.best_estimator_.get_params()\n",
    "print(\"Best score of GB Classifier : {}\".format(gb_clf.best_score_)) \n",
    "print(\"Parameters of GB classifier: {}\".format(params))"
   ]
  },
  {
   "cell_type": "markdown",
   "metadata": {},
   "source": [
    "#### Tuninng the parameters:"
   ]
  },
  {
   "cell_type": "markdown",
   "metadata": {},
   "source": [
    "Tuning the parameters as below, increased the score from 0.703 to 0.717"
   ]
  },
  {
   "cell_type": "code",
   "execution_count": 246,
   "metadata": {},
   "outputs": [],
   "source": [
    "gb_clf = {\"GradientBoostingClassifier\":GradientBoostingClassifier(random_state = 42)}"
   ]
  },
  {
   "cell_type": "code",
   "execution_count": 378,
   "metadata": {},
   "outputs": [],
   "source": [
    "t_gb_param_grid= [\n",
    "    {\n",
    "        'criterion': [\"mse\"],\n",
    "        'max_depth': [1],\n",
    "        'max_leaf_nodes' : [5],\n",
    "        'n_estimators' :[38],\n",
    "        'max_features' : ['auto'],\n",
    "        'n_iter_no_change':[29],\n",
    "        'learning_rate' : [0.145],\n",
    "        'subsample':[1],\n",
    "        'warm_start': [\"True\"],\n",
    "        'min_samples_split':[0.01]       \n",
    "    }\n",
    "]"
   ]
  },
  {
   "cell_type": "code",
   "execution_count": 379,
   "metadata": {},
   "outputs": [
    {
     "name": "stdout",
     "output_type": "stream",
     "text": [
      "Fitting 5 folds for each of 1 candidates, totalling 5 fits\n"
     ]
    },
    {
     "name": "stderr",
     "output_type": "stream",
     "text": [
      "[Parallel(n_jobs=-1)]: Using backend LokyBackend with 4 concurrent workers.\n",
      "[Parallel(n_jobs=-1)]: Done   2 out of   5 | elapsed:   20.6s remaining:   30.9s\n",
      "[Parallel(n_jobs=-1)]: Done   5 out of   5 | elapsed:   35.2s finished\n"
     ]
    },
    {
     "name": "stdout",
     "output_type": "stream",
     "text": [
      "Best score of GradientBoostingClassifier(random_state=42) : 0.7169817661483524\n",
      "Best estimator of GradientBoostingClassifier(random_state=42) : GradientBoostingClassifier(criterion='mse', learning_rate=0.145, max_depth=1,\n",
      "                           max_features='auto', max_leaf_nodes=5,\n",
      "                           min_samples_split=0.01, n_estimators=38,\n",
      "                           n_iter_no_change=29, random_state=42, subsample=1,\n",
      "                           warm_start='True')\n"
     ]
    }
   ],
   "source": [
    "t_scores, t_best_estimators = grid_search(\n",
    "                                       X,\n",
    "                                       y,\n",
    "                                       classifiers = gb_clf, \n",
    "                                       classifier_params = t_gb_param_grid, \n",
    "                                       scoring = \"roc_auc\")"
   ]
  },
  {
   "cell_type": "markdown",
   "metadata": {},
   "source": [
    "In order to increase the score, i will increase the kfold number while fitting the best classifier in GridSearch:"
   ]
  },
  {
   "cell_type": "code",
   "execution_count": 380,
   "metadata": {},
   "outputs": [
    {
     "name": "stdout",
     "output_type": "stream",
     "text": [
      "Fitting 15 folds for each of 1 candidates, totalling 15 fits\n"
     ]
    },
    {
     "name": "stderr",
     "output_type": "stream",
     "text": [
      "[Parallel(n_jobs=-1)]: Using backend LokyBackend with 4 concurrent workers.\n",
      "[Parallel(n_jobs=-1)]: Done  15 out of  15 | elapsed:  1.4min finished\n"
     ]
    },
    {
     "name": "stdout",
     "output_type": "stream",
     "text": [
      "Best score of Tuned GB Classifier : 0.7177439564982518\n"
     ]
    }
   ],
   "source": [
    "best_gb_clf = GridSearchCV(GradientBoostingClassifier(random_state=42), \n",
    "                      param_grid= t_gb_param_grid, \n",
    "                      cv = StratifiedKFold(n_splits = 15), \n",
    "                      scoring = \"roc_auc\", \n",
    "                      n_jobs = -1,\n",
    "                      verbose = 1,\n",
    "                      return_train_score=True)\n",
    "best_gb_clf.fit(X,y)\n",
    "params = best_gb_clf.best_estimator_\n",
    "print(\"Best score of Tuned GB Classifier : {}\".format(best_gb_clf.best_score_)) \n"
   ]
  },
  {
   "cell_type": "markdown",
   "metadata": {},
   "source": [
    "## 5. Part 3: Kaggle Competition\n",
    "\n",
    "Now that you've created a model to predict which individuals are most likely to respond to a mailout campaign, it's time to test that model in competition through Kaggle. If you click on the link [here](http://www.kaggle.com/t/21e6d45d4c574c7fa2d868f0e8c83140), you'll be taken to the competition page where, if you have a Kaggle account, you can enter. If you're one of the top performers, you may have the chance to be contacted by a hiring manager from Arvato or Bertelsmann for an interview!\n",
    "\n",
    "Your entry to the competition should be a CSV file with two columns. The first column should be a copy of \"LNR\", which acts as an ID number for each individual in the \"TEST\" partition. The second column, \"RESPONSE\", should be some measure of how likely each individual became a customer – this might not be a straightforward probability. As you should have found in Part 2, there is a large output class imbalance, where most individuals did not respond to the mailout. Thus, predicting individual classes and using accuracy does not seem to be an appropriate performance evaluation method. Instead, the competition will be using AUC to evaluate performance. The exact values of the \"RESPONSE\" column do not matter as much: only that the higher values try to capture as many of the actual customers as possible, early in the ROC curve sweep."
   ]
  },
  {
   "cell_type": "markdown",
   "metadata": {},
   "source": [
    "### 5.1 Feature Scaling of Test Data"
   ]
  },
  {
   "cell_type": "code",
   "execution_count": 381,
   "metadata": {},
   "outputs": [
    {
     "data": {
      "text/html": [
       "<div>\n",
       "<style scoped>\n",
       "    .dataframe tbody tr th:only-of-type {\n",
       "        vertical-align: middle;\n",
       "    }\n",
       "\n",
       "    .dataframe tbody tr th {\n",
       "        vertical-align: top;\n",
       "    }\n",
       "\n",
       "    .dataframe thead th {\n",
       "        text-align: right;\n",
       "    }\n",
       "</style>\n",
       "<table border=\"1\" class=\"dataframe\">\n",
       "  <thead>\n",
       "    <tr style=\"text-align: right;\">\n",
       "      <th></th>\n",
       "      <th>ANZ_HAUSHALTE_AKTIV</th>\n",
       "      <th>ANZ_HH_TITEL</th>\n",
       "      <th>ANZ_KINDER</th>\n",
       "      <th>ANZ_PERSONEN</th>\n",
       "      <th>ANZ_STATISTISCHE_HAUSHALTE</th>\n",
       "      <th>ANZ_TITEL</th>\n",
       "      <th>ARBEIT</th>\n",
       "      <th>BALLRAUM</th>\n",
       "      <th>CAMEO_DEUG_2015</th>\n",
       "      <th>D19_BANKEN_DIREKT</th>\n",
       "      <th>...</th>\n",
       "      <th>CJT_KATALOGNUTZER_2.0</th>\n",
       "      <th>CJT_KATALOGNUTZER_3.0</th>\n",
       "      <th>CJT_KATALOGNUTZER_4.0</th>\n",
       "      <th>CJT_KATALOGNUTZER_5.0</th>\n",
       "      <th>UMFELD_ALT_2.0</th>\n",
       "      <th>UMFELD_ALT_3.0</th>\n",
       "      <th>UMFELD_ALT_4.0</th>\n",
       "      <th>UMFELD_ALT_5.0</th>\n",
       "      <th>HEALTH_TYP_2.0</th>\n",
       "      <th>HEALTH_TYP_3.0</th>\n",
       "    </tr>\n",
       "  </thead>\n",
       "  <tbody>\n",
       "    <tr>\n",
       "      <th>0</th>\n",
       "      <td>2.0</td>\n",
       "      <td>0.0</td>\n",
       "      <td>0.0</td>\n",
       "      <td>2.0</td>\n",
       "      <td>2.0</td>\n",
       "      <td>0.0</td>\n",
       "      <td>3.0</td>\n",
       "      <td>6.0</td>\n",
       "      <td>2.0</td>\n",
       "      <td>0</td>\n",
       "      <td>...</td>\n",
       "      <td>0</td>\n",
       "      <td>0</td>\n",
       "      <td>0</td>\n",
       "      <td>1</td>\n",
       "      <td>1</td>\n",
       "      <td>0</td>\n",
       "      <td>0</td>\n",
       "      <td>0</td>\n",
       "      <td>0</td>\n",
       "      <td>0</td>\n",
       "    </tr>\n",
       "    <tr>\n",
       "      <th>1</th>\n",
       "      <td>20.0</td>\n",
       "      <td>0.0</td>\n",
       "      <td>0.0</td>\n",
       "      <td>1.0</td>\n",
       "      <td>21.0</td>\n",
       "      <td>0.0</td>\n",
       "      <td>4.0</td>\n",
       "      <td>7.0</td>\n",
       "      <td>5.0</td>\n",
       "      <td>0</td>\n",
       "      <td>...</td>\n",
       "      <td>0</td>\n",
       "      <td>0</td>\n",
       "      <td>0</td>\n",
       "      <td>1</td>\n",
       "      <td>0</td>\n",
       "      <td>0</td>\n",
       "      <td>1</td>\n",
       "      <td>0</td>\n",
       "      <td>1</td>\n",
       "      <td>0</td>\n",
       "    </tr>\n",
       "    <tr>\n",
       "      <th>2</th>\n",
       "      <td>2.0</td>\n",
       "      <td>0.0</td>\n",
       "      <td>0.0</td>\n",
       "      <td>4.0</td>\n",
       "      <td>2.0</td>\n",
       "      <td>0.0</td>\n",
       "      <td>4.0</td>\n",
       "      <td>1.0</td>\n",
       "      <td>7.0</td>\n",
       "      <td>0</td>\n",
       "      <td>...</td>\n",
       "      <td>0</td>\n",
       "      <td>0</td>\n",
       "      <td>0</td>\n",
       "      <td>1</td>\n",
       "      <td>0</td>\n",
       "      <td>0</td>\n",
       "      <td>0</td>\n",
       "      <td>0</td>\n",
       "      <td>1</td>\n",
       "      <td>0</td>\n",
       "    </tr>\n",
       "    <tr>\n",
       "      <th>3</th>\n",
       "      <td>1.0</td>\n",
       "      <td>0.0</td>\n",
       "      <td>0.0</td>\n",
       "      <td>0.0</td>\n",
       "      <td>1.0</td>\n",
       "      <td>0.0</td>\n",
       "      <td>4.0</td>\n",
       "      <td>1.0</td>\n",
       "      <td>2.0</td>\n",
       "      <td>0</td>\n",
       "      <td>...</td>\n",
       "      <td>0</td>\n",
       "      <td>0</td>\n",
       "      <td>0</td>\n",
       "      <td>1</td>\n",
       "      <td>1</td>\n",
       "      <td>0</td>\n",
       "      <td>0</td>\n",
       "      <td>0</td>\n",
       "      <td>1</td>\n",
       "      <td>0</td>\n",
       "    </tr>\n",
       "    <tr>\n",
       "      <th>4</th>\n",
       "      <td>1.0</td>\n",
       "      <td>0.0</td>\n",
       "      <td>0.0</td>\n",
       "      <td>4.0</td>\n",
       "      <td>1.0</td>\n",
       "      <td>0.0</td>\n",
       "      <td>3.0</td>\n",
       "      <td>6.0</td>\n",
       "      <td>5.0</td>\n",
       "      <td>2</td>\n",
       "      <td>...</td>\n",
       "      <td>0</td>\n",
       "      <td>0</td>\n",
       "      <td>0</td>\n",
       "      <td>0</td>\n",
       "      <td>0</td>\n",
       "      <td>0</td>\n",
       "      <td>0</td>\n",
       "      <td>1</td>\n",
       "      <td>1</td>\n",
       "      <td>0</td>\n",
       "    </tr>\n",
       "  </tbody>\n",
       "</table>\n",
       "<p>5 rows × 613 columns</p>\n",
       "</div>"
      ],
      "text/plain": [
       "   ANZ_HAUSHALTE_AKTIV  ANZ_HH_TITEL  ANZ_KINDER  ANZ_PERSONEN  \\\n",
       "0                  2.0           0.0         0.0           2.0   \n",
       "1                 20.0           0.0         0.0           1.0   \n",
       "2                  2.0           0.0         0.0           4.0   \n",
       "3                  1.0           0.0         0.0           0.0   \n",
       "4                  1.0           0.0         0.0           4.0   \n",
       "\n",
       "   ANZ_STATISTISCHE_HAUSHALTE  ANZ_TITEL  ARBEIT  BALLRAUM  CAMEO_DEUG_2015  \\\n",
       "0                         2.0        0.0     3.0       6.0              2.0   \n",
       "1                        21.0        0.0     4.0       7.0              5.0   \n",
       "2                         2.0        0.0     4.0       1.0              7.0   \n",
       "3                         1.0        0.0     4.0       1.0              2.0   \n",
       "4                         1.0        0.0     3.0       6.0              5.0   \n",
       "\n",
       "   D19_BANKEN_DIREKT  ...  CJT_KATALOGNUTZER_2.0  CJT_KATALOGNUTZER_3.0  \\\n",
       "0                  0  ...                      0                      0   \n",
       "1                  0  ...                      0                      0   \n",
       "2                  0  ...                      0                      0   \n",
       "3                  0  ...                      0                      0   \n",
       "4                  2  ...                      0                      0   \n",
       "\n",
       "   CJT_KATALOGNUTZER_4.0  CJT_KATALOGNUTZER_5.0  UMFELD_ALT_2.0  \\\n",
       "0                      0                      1               1   \n",
       "1                      0                      1               0   \n",
       "2                      0                      1               0   \n",
       "3                      0                      1               1   \n",
       "4                      0                      0               0   \n",
       "\n",
       "   UMFELD_ALT_3.0  UMFELD_ALT_4.0  UMFELD_ALT_5.0  HEALTH_TYP_2.0  \\\n",
       "0               0               0               0               0   \n",
       "1               0               1               0               1   \n",
       "2               0               0               0               1   \n",
       "3               0               0               0               1   \n",
       "4               0               0               1               1   \n",
       "\n",
       "   HEALTH_TYP_3.0  \n",
       "0               0  \n",
       "1               0  \n",
       "2               0  \n",
       "3               0  \n",
       "4               0  \n",
       "\n",
       "[5 rows x 613 columns]"
      ]
     },
     "execution_count": 381,
     "metadata": {},
     "output_type": "execute_result"
    }
   ],
   "source": [
    "# Show head\n",
    "test_cleaned.head()"
   ]
  },
  {
   "cell_type": "code",
   "execution_count": 382,
   "metadata": {},
   "outputs": [
    {
     "data": {
      "text/plain": [
       "(42833, 613)"
      ]
     },
     "execution_count": 382,
     "metadata": {},
     "output_type": "execute_result"
    }
   ],
   "source": [
    "# Show row & column count\n",
    "test_cleaned.shape"
   ]
  },
  {
   "cell_type": "code",
   "execution_count": 383,
   "metadata": {},
   "outputs": [
    {
     "data": {
      "text/html": [
       "<div>\n",
       "<style scoped>\n",
       "    .dataframe tbody tr th:only-of-type {\n",
       "        vertical-align: middle;\n",
       "    }\n",
       "\n",
       "    .dataframe tbody tr th {\n",
       "        vertical-align: top;\n",
       "    }\n",
       "\n",
       "    .dataframe thead th {\n",
       "        text-align: right;\n",
       "    }\n",
       "</style>\n",
       "<table border=\"1\" class=\"dataframe\">\n",
       "  <thead>\n",
       "    <tr style=\"text-align: right;\">\n",
       "      <th></th>\n",
       "      <th>ANZ_HAUSHALTE_AKTIV</th>\n",
       "      <th>ANZ_HH_TITEL</th>\n",
       "      <th>ANZ_KINDER</th>\n",
       "      <th>ANZ_PERSONEN</th>\n",
       "      <th>ANZ_STATISTISCHE_HAUSHALTE</th>\n",
       "      <th>ANZ_TITEL</th>\n",
       "      <th>ARBEIT</th>\n",
       "      <th>BALLRAUM</th>\n",
       "      <th>CAMEO_DEUG_2015</th>\n",
       "      <th>D19_BANKEN_DIREKT</th>\n",
       "      <th>...</th>\n",
       "      <th>CJT_KATALOGNUTZER_2.0</th>\n",
       "      <th>CJT_KATALOGNUTZER_3.0</th>\n",
       "      <th>CJT_KATALOGNUTZER_4.0</th>\n",
       "      <th>CJT_KATALOGNUTZER_5.0</th>\n",
       "      <th>UMFELD_ALT_2.0</th>\n",
       "      <th>UMFELD_ALT_3.0</th>\n",
       "      <th>UMFELD_ALT_4.0</th>\n",
       "      <th>UMFELD_ALT_5.0</th>\n",
       "      <th>HEALTH_TYP_2.0</th>\n",
       "      <th>HEALTH_TYP_3.0</th>\n",
       "    </tr>\n",
       "  </thead>\n",
       "  <tbody>\n",
       "    <tr>\n",
       "      <th>0</th>\n",
       "      <td>-0.353063</td>\n",
       "      <td>-0.149514</td>\n",
       "      <td>-0.247607</td>\n",
       "      <td>-0.018874</td>\n",
       "      <td>-0.340189</td>\n",
       "      <td>-0.105655</td>\n",
       "      <td>-0.211076</td>\n",
       "      <td>0.674524</td>\n",
       "      <td>-1.419477</td>\n",
       "      <td>-0.386287</td>\n",
       "      <td>...</td>\n",
       "      <td>-0.256701</td>\n",
       "      <td>-0.376667</td>\n",
       "      <td>-0.400196</td>\n",
       "      <td>0.916162</td>\n",
       "      <td>2.308612</td>\n",
       "      <td>-0.81383</td>\n",
       "      <td>-0.459830</td>\n",
       "      <td>-0.338313</td>\n",
       "      <td>-1.137366</td>\n",
       "      <td>-0.484496</td>\n",
       "    </tr>\n",
       "    <tr>\n",
       "      <th>1</th>\n",
       "      <td>0.984863</td>\n",
       "      <td>-0.149514</td>\n",
       "      <td>-0.247607</td>\n",
       "      <td>-0.822656</td>\n",
       "      <td>1.151929</td>\n",
       "      <td>-0.105655</td>\n",
       "      <td>0.774537</td>\n",
       "      <td>1.153740</td>\n",
       "      <td>-0.069416</td>\n",
       "      <td>-0.386287</td>\n",
       "      <td>...</td>\n",
       "      <td>-0.256701</td>\n",
       "      <td>-0.376667</td>\n",
       "      <td>-0.400196</td>\n",
       "      <td>0.916162</td>\n",
       "      <td>-0.433161</td>\n",
       "      <td>-0.81383</td>\n",
       "      <td>2.174719</td>\n",
       "      <td>-0.338313</td>\n",
       "      <td>0.879225</td>\n",
       "      <td>-0.484496</td>\n",
       "    </tr>\n",
       "    <tr>\n",
       "      <th>2</th>\n",
       "      <td>-0.353063</td>\n",
       "      <td>-0.149514</td>\n",
       "      <td>-0.247607</td>\n",
       "      <td>1.588691</td>\n",
       "      <td>-0.340189</td>\n",
       "      <td>-0.105655</td>\n",
       "      <td>0.774537</td>\n",
       "      <td>-1.721553</td>\n",
       "      <td>0.830625</td>\n",
       "      <td>-0.386287</td>\n",
       "      <td>...</td>\n",
       "      <td>-0.256701</td>\n",
       "      <td>-0.376667</td>\n",
       "      <td>-0.400196</td>\n",
       "      <td>0.916162</td>\n",
       "      <td>-0.433161</td>\n",
       "      <td>-0.81383</td>\n",
       "      <td>-0.459830</td>\n",
       "      <td>-0.338313</td>\n",
       "      <td>0.879225</td>\n",
       "      <td>-0.484496</td>\n",
       "    </tr>\n",
       "  </tbody>\n",
       "</table>\n",
       "<p>3 rows × 613 columns</p>\n",
       "</div>"
      ],
      "text/plain": [
       "   ANZ_HAUSHALTE_AKTIV  ANZ_HH_TITEL  ANZ_KINDER  ANZ_PERSONEN  \\\n",
       "0            -0.353063     -0.149514   -0.247607     -0.018874   \n",
       "1             0.984863     -0.149514   -0.247607     -0.822656   \n",
       "2            -0.353063     -0.149514   -0.247607      1.588691   \n",
       "\n",
       "   ANZ_STATISTISCHE_HAUSHALTE  ANZ_TITEL    ARBEIT  BALLRAUM  CAMEO_DEUG_2015  \\\n",
       "0                   -0.340189  -0.105655 -0.211076  0.674524        -1.419477   \n",
       "1                    1.151929  -0.105655  0.774537  1.153740        -0.069416   \n",
       "2                   -0.340189  -0.105655  0.774537 -1.721553         0.830625   \n",
       "\n",
       "   D19_BANKEN_DIREKT  ...  CJT_KATALOGNUTZER_2.0  CJT_KATALOGNUTZER_3.0  \\\n",
       "0          -0.386287  ...              -0.256701              -0.376667   \n",
       "1          -0.386287  ...              -0.256701              -0.376667   \n",
       "2          -0.386287  ...              -0.256701              -0.376667   \n",
       "\n",
       "   CJT_KATALOGNUTZER_4.0  CJT_KATALOGNUTZER_5.0  UMFELD_ALT_2.0  \\\n",
       "0              -0.400196               0.916162        2.308612   \n",
       "1              -0.400196               0.916162       -0.433161   \n",
       "2              -0.400196               0.916162       -0.433161   \n",
       "\n",
       "   UMFELD_ALT_3.0  UMFELD_ALT_4.0  UMFELD_ALT_5.0  HEALTH_TYP_2.0  \\\n",
       "0        -0.81383       -0.459830       -0.338313       -1.137366   \n",
       "1        -0.81383        2.174719       -0.338313        0.879225   \n",
       "2        -0.81383       -0.459830       -0.338313        0.879225   \n",
       "\n",
       "   HEALTH_TYP_3.0  \n",
       "0       -0.484496  \n",
       "1       -0.484496  \n",
       "2       -0.484496  \n",
       "\n",
       "[3 rows x 613 columns]"
      ]
     },
     "execution_count": 383,
     "metadata": {},
     "output_type": "execute_result"
    }
   ],
   "source": [
    "# Apply scaling to X data\n",
    "scaler = StandardScaler()\n",
    "test_scaled = pd.DataFrame(scaler.fit_transform(test_cleaned), columns = test_cleaned.columns)\n",
    "test_scaled.head(3)"
   ]
  },
  {
   "cell_type": "markdown",
   "metadata": {},
   "source": [
    "### 5.2 Getting Predictions from Tuned Model"
   ]
  },
  {
   "cell_type": "code",
   "execution_count": 384,
   "metadata": {},
   "outputs": [],
   "source": [
    "# Getting predicted probabilities by Tuned GB classifier\n",
    "#probability = ensemble.predict_proba(test_scaled)\n",
    "probability = best_gb_clf.predict_proba(test_scaled)"
   ]
  },
  {
   "cell_type": "code",
   "execution_count": 385,
   "metadata": {},
   "outputs": [
    {
     "data": {
      "text/plain": [
       "array([[0.9877776 , 0.0122224 ],\n",
       "       [0.98856878, 0.01143122],\n",
       "       [0.99434271, 0.00565729],\n",
       "       [0.994446  , 0.005554  ],\n",
       "       [0.99190128, 0.00809872]])"
      ]
     },
     "execution_count": 385,
     "metadata": {},
     "output_type": "execute_result"
    }
   ],
   "source": [
    "# First 5 value in probability matris\n",
    "probability[:5]"
   ]
  },
  {
   "cell_type": "code",
   "execution_count": 386,
   "metadata": {},
   "outputs": [
    {
     "data": {
      "text/plain": [
       "RESPONSE    0.996958\n",
       "dtype: float64"
      ]
     },
     "execution_count": 386,
     "metadata": {},
     "output_type": "execute_result"
    }
   ],
   "source": [
    "# Creating response values with column 1 of probability array.\n",
    "# Column 0 indicates the probability of being label 0\n",
    "# Column 1 indicated the probability of being label 1\n",
    "probability_of_test = pd.DataFrame({\"RESPONSE\":probability[:,1]})\n",
    "probability_of_test.max()"
   ]
  },
  {
   "cell_type": "code",
   "execution_count": 387,
   "metadata": {},
   "outputs": [
    {
     "data": {
      "text/html": [
       "<div>\n",
       "<style scoped>\n",
       "    .dataframe tbody tr th:only-of-type {\n",
       "        vertical-align: middle;\n",
       "    }\n",
       "\n",
       "    .dataframe tbody tr th {\n",
       "        vertical-align: top;\n",
       "    }\n",
       "\n",
       "    .dataframe thead th {\n",
       "        text-align: right;\n",
       "    }\n",
       "</style>\n",
       "<table border=\"1\" class=\"dataframe\">\n",
       "  <thead>\n",
       "    <tr style=\"text-align: right;\">\n",
       "      <th></th>\n",
       "      <th>RESPONSE</th>\n",
       "    </tr>\n",
       "  </thead>\n",
       "  <tbody>\n",
       "    <tr>\n",
       "      <th>0</th>\n",
       "      <td>0.012222</td>\n",
       "    </tr>\n",
       "    <tr>\n",
       "      <th>1</th>\n",
       "      <td>0.011431</td>\n",
       "    </tr>\n",
       "    <tr>\n",
       "      <th>2</th>\n",
       "      <td>0.005657</td>\n",
       "    </tr>\n",
       "    <tr>\n",
       "      <th>3</th>\n",
       "      <td>0.005554</td>\n",
       "    </tr>\n",
       "    <tr>\n",
       "      <th>4</th>\n",
       "      <td>0.008099</td>\n",
       "    </tr>\n",
       "  </tbody>\n",
       "</table>\n",
       "</div>"
      ],
      "text/plain": [
       "   RESPONSE\n",
       "0  0.012222\n",
       "1  0.011431\n",
       "2  0.005657\n",
       "3  0.005554\n",
       "4  0.008099"
      ]
     },
     "execution_count": 387,
     "metadata": {},
     "output_type": "execute_result"
    }
   ],
   "source": [
    "probability_of_test.head()"
   ]
  },
  {
   "cell_type": "code",
   "execution_count": 388,
   "metadata": {},
   "outputs": [
    {
     "data": {
      "text/html": [
       "<div>\n",
       "<style scoped>\n",
       "    .dataframe tbody tr th:only-of-type {\n",
       "        vertical-align: middle;\n",
       "    }\n",
       "\n",
       "    .dataframe tbody tr th {\n",
       "        vertical-align: top;\n",
       "    }\n",
       "\n",
       "    .dataframe thead th {\n",
       "        text-align: right;\n",
       "    }\n",
       "</style>\n",
       "<table border=\"1\" class=\"dataframe\">\n",
       "  <thead>\n",
       "    <tr style=\"text-align: right;\">\n",
       "      <th></th>\n",
       "      <th>LNR</th>\n",
       "    </tr>\n",
       "  </thead>\n",
       "  <tbody>\n",
       "    <tr>\n",
       "      <th>0</th>\n",
       "      <td>1754</td>\n",
       "    </tr>\n",
       "    <tr>\n",
       "      <th>1</th>\n",
       "      <td>1770</td>\n",
       "    </tr>\n",
       "    <tr>\n",
       "      <th>2</th>\n",
       "      <td>1465</td>\n",
       "    </tr>\n",
       "    <tr>\n",
       "      <th>3</th>\n",
       "      <td>1470</td>\n",
       "    </tr>\n",
       "    <tr>\n",
       "      <th>4</th>\n",
       "      <td>1478</td>\n",
       "    </tr>\n",
       "  </tbody>\n",
       "</table>\n",
       "</div>"
      ],
      "text/plain": [
       "    LNR\n",
       "0  1754\n",
       "1  1770\n",
       "2  1465\n",
       "3  1470\n",
       "4  1478"
      ]
     },
     "execution_count": 388,
     "metadata": {},
     "output_type": "execute_result"
    }
   ],
   "source": [
    "# Loading LNR column from original test data\n",
    "LNR = pd.read_csv(r\"U:\\arvato_data\\Udacity_MAILOUT_052018_TEST.csv\", \n",
    "                     delimiter=\";\", usecols = [\"LNR\"])\n",
    "LNR.head()"
   ]
  },
  {
   "cell_type": "code",
   "execution_count": 389,
   "metadata": {},
   "outputs": [
    {
     "data": {
      "text/html": [
       "<div>\n",
       "<style scoped>\n",
       "    .dataframe tbody tr th:only-of-type {\n",
       "        vertical-align: middle;\n",
       "    }\n",
       "\n",
       "    .dataframe tbody tr th {\n",
       "        vertical-align: top;\n",
       "    }\n",
       "\n",
       "    .dataframe thead th {\n",
       "        text-align: right;\n",
       "    }\n",
       "</style>\n",
       "<table border=\"1\" class=\"dataframe\">\n",
       "  <thead>\n",
       "    <tr style=\"text-align: right;\">\n",
       "      <th></th>\n",
       "      <th>LNR</th>\n",
       "      <th>RESPONSE</th>\n",
       "    </tr>\n",
       "  </thead>\n",
       "  <tbody>\n",
       "    <tr>\n",
       "      <th>0</th>\n",
       "      <td>1754</td>\n",
       "      <td>0.012222</td>\n",
       "    </tr>\n",
       "    <tr>\n",
       "      <th>1</th>\n",
       "      <td>1770</td>\n",
       "      <td>0.011431</td>\n",
       "    </tr>\n",
       "    <tr>\n",
       "      <th>2</th>\n",
       "      <td>1465</td>\n",
       "      <td>0.005657</td>\n",
       "    </tr>\n",
       "    <tr>\n",
       "      <th>3</th>\n",
       "      <td>1470</td>\n",
       "      <td>0.005554</td>\n",
       "    </tr>\n",
       "    <tr>\n",
       "      <th>4</th>\n",
       "      <td>1478</td>\n",
       "      <td>0.008099</td>\n",
       "    </tr>\n",
       "  </tbody>\n",
       "</table>\n",
       "</div>"
      ],
      "text/plain": [
       "    LNR  RESPONSE\n",
       "0  1754  0.012222\n",
       "1  1770  0.011431\n",
       "2  1465  0.005657\n",
       "3  1470  0.005554\n",
       "4  1478  0.008099"
      ]
     },
     "execution_count": 389,
     "metadata": {},
     "output_type": "execute_result"
    }
   ],
   "source": [
    "# Creating Kaggle data\n",
    "kaggle = pd.concat([LNR, probability_of_test], axis = 1)\n",
    "kaggle.head()"
   ]
  },
  {
   "cell_type": "code",
   "execution_count": 390,
   "metadata": {},
   "outputs": [
    {
     "data": {
      "text/plain": [
       "array([0.0122224 , 0.01143122, 0.00565729, ..., 0.01281577, 0.00663351,\n",
       "       0.0072237 ])"
      ]
     },
     "execution_count": 390,
     "metadata": {},
     "output_type": "execute_result"
    }
   ],
   "source": [
    "kaggle.RESPONSE.unique()"
   ]
  },
  {
   "cell_type": "code",
   "execution_count": 391,
   "metadata": {},
   "outputs": [],
   "source": [
    "kaggle.to_csv(r\"U:\\arvato_data\\kaggle.csv\", index = False)"
   ]
  },
  {
   "cell_type": "markdown",
   "metadata": {},
   "source": [
    "#### With above submission, achieved public score is 0.63078."
   ]
  }
 ],
 "metadata": {
  "kernelspec": {
   "display_name": "Python 3",
   "language": "python",
   "name": "python3"
  },
  "language_info": {
   "codemirror_mode": {
    "name": "ipython",
    "version": 3
   },
   "file_extension": ".py",
   "mimetype": "text/x-python",
   "name": "python",
   "nbconvert_exporter": "python",
   "pygments_lexer": "ipython3",
   "version": "3.7.3"
  }
 },
 "nbformat": 4,
 "nbformat_minor": 4
}
