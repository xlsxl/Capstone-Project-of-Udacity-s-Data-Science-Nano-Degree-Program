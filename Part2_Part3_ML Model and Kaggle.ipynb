{
 "cells": [
  {
   "cell_type": "markdown",
   "metadata": {},
   "source": [
    "## 4. Part 2: Supervised Learning Model\n",
    "\n",
    "Now that you've found which parts of the population are more likely to be customers of the mail-order company, it's time to build a prediction model. Each of the rows in the \"MAILOUT\" data files represents an individual that was targeted for a mailout campaign. Ideally, we should be able to use the demographic information from each individual to decide whether or not it will be worth it to include that person in the campaign.\n",
    "\n",
    "The \"MAILOUT\" data has been split into two approximately equal parts, each with almost 43 000 data rows. In this part, you can verify your model with the \"TRAIN\" partition, which includes a column, \"RESPONSE\", that states whether or not a person became a customer of the company following the campaign. In the next part, you'll need to create predictions on the \"TEST\" partition, where the \"RESPONSE\" column has been withheld."
   ]
  },
  {
   "cell_type": "markdown",
   "metadata": {},
   "source": [
    "### 4.1 Import Libraries and Load Datas"
   ]
  },
  {
   "cell_type": "code",
   "execution_count": 1,
   "metadata": {},
   "outputs": [],
   "source": [
    "import pandas as pd\n",
    "import numpy as np\n",
    "import matplotlib.pyplot as plt\n",
    "import pickle\n",
    "\n",
    "from sklearn.preprocessing import StandardScaler\n",
    "\n",
    "\n",
    "from sklearn.cluster import KMeans\n",
    "from sklearn.metrics import accuracy_score, roc_auc_score\n",
    "from sklearn.model_selection import train_test_split, StratifiedKFold, GridSearchCV\n",
    "from sklearn.linear_model import LogisticRegression\n",
    "from sklearn.ensemble import RandomForestClassifier, VotingClassifier\n",
    "from sklearn.ensemble import AdaBoostClassifier\n",
    "from sklearn.ensemble import GradientBoostingClassifier\n",
    "from sklearn.neighbors import KNeighborsClassifier\n",
    "from sklearn.tree import DecisionTreeClassifier\n",
    "from sklearn.svm import SVC\n",
    "\n",
    "\n",
    "from sklearn.model_selection import cross_val_score\n",
    "\n",
    "import warnings\n",
    "warnings.filterwarnings(\"ignore\")"
   ]
  },
  {
   "cell_type": "code",
   "execution_count": 2,
   "metadata": {},
   "outputs": [],
   "source": [
    "# Read the cleaned and dummy-encoded train data\n",
    "\n",
    "train_cleaned = pickle.load(open(r\"U:\\arvato_data\\train_cleaned.pickle\", \"rb\"))"
   ]
  },
  {
   "cell_type": "code",
   "execution_count": 3,
   "metadata": {},
   "outputs": [],
   "source": [
    "# Read the cleaned and dummy-encoded test data\n",
    "\n",
    "test_cleaned = pickle.load(open(r\"U:\\arvato_data\\test_cleaned.pickle\", \"rb\"))"
   ]
  },
  {
   "cell_type": "markdown",
   "metadata": {},
   "source": [
    "### 4.2 Feature Scaling of Train Data"
   ]
  },
  {
   "cell_type": "code",
   "execution_count": 4,
   "metadata": {},
   "outputs": [
    {
     "data": {
      "text/plain": [
       "(34165, 614)"
      ]
     },
     "execution_count": 4,
     "metadata": {},
     "output_type": "execute_result"
    }
   ],
   "source": [
    "train_cleaned.shape"
   ]
  },
  {
   "cell_type": "code",
   "execution_count": 5,
   "metadata": {
    "scrolled": true
   },
   "outputs": [
    {
     "data": {
      "text/plain": [
       "((34165,), (423,))"
      ]
     },
     "execution_count": 5,
     "metadata": {},
     "output_type": "execute_result"
    }
   ],
   "source": [
    "# Create labels from Response column of Train data\n",
    "y = train_cleaned.RESPONSE\n",
    "y.shape,y[y ==1].shape"
   ]
  },
  {
   "cell_type": "code",
   "execution_count": 6,
   "metadata": {},
   "outputs": [
    {
     "data": {
      "text/plain": [
       "(34165, 613)"
      ]
     },
     "execution_count": 6,
     "metadata": {},
     "output_type": "execute_result"
    }
   ],
   "source": [
    "# Drop Response column from train data and create X data\n",
    "X = train_cleaned.drop(columns = \"RESPONSE\", axis = 1, inplace = False)\n",
    "X.shape"
   ]
  },
  {
   "cell_type": "code",
   "execution_count": 7,
   "metadata": {},
   "outputs": [
    {
     "data": {
      "text/html": [
       "<div>\n",
       "<style scoped>\n",
       "    .dataframe tbody tr th:only-of-type {\n",
       "        vertical-align: middle;\n",
       "    }\n",
       "\n",
       "    .dataframe tbody tr th {\n",
       "        vertical-align: top;\n",
       "    }\n",
       "\n",
       "    .dataframe thead th {\n",
       "        text-align: right;\n",
       "    }\n",
       "</style>\n",
       "<table border=\"1\" class=\"dataframe\">\n",
       "  <thead>\n",
       "    <tr style=\"text-align: right;\">\n",
       "      <th></th>\n",
       "      <th>ANZ_HAUSHALTE_AKTIV</th>\n",
       "      <th>ANZ_HH_TITEL</th>\n",
       "      <th>ANZ_KINDER</th>\n",
       "      <th>ANZ_PERSONEN</th>\n",
       "      <th>ANZ_STATISTISCHE_HAUSHALTE</th>\n",
       "      <th>ANZ_TITEL</th>\n",
       "      <th>ARBEIT</th>\n",
       "      <th>BALLRAUM</th>\n",
       "      <th>CAMEO_DEUG_2015</th>\n",
       "      <th>D19_BANKEN_DIREKT</th>\n",
       "      <th>...</th>\n",
       "      <th>DSL_FLAG_1.0</th>\n",
       "      <th>UMFELD_JUNG_2.0</th>\n",
       "      <th>UMFELD_JUNG_3.0</th>\n",
       "      <th>UMFELD_JUNG_4.0</th>\n",
       "      <th>UMFELD_JUNG_5.0</th>\n",
       "      <th>MOBI_RASTER_2.0</th>\n",
       "      <th>MOBI_RASTER_3.0</th>\n",
       "      <th>MOBI_RASTER_4.0</th>\n",
       "      <th>MOBI_RASTER_5.0</th>\n",
       "      <th>MOBI_RASTER_6.0</th>\n",
       "    </tr>\n",
       "  </thead>\n",
       "  <tbody>\n",
       "    <tr>\n",
       "      <th>0</th>\n",
       "      <td>0.554097</td>\n",
       "      <td>-0.132703</td>\n",
       "      <td>-0.220702</td>\n",
       "      <td>-0.751759</td>\n",
       "      <td>0.477006</td>\n",
       "      <td>-0.091371</td>\n",
       "      <td>-0.051604</td>\n",
       "      <td>0.338352</td>\n",
       "      <td>0.010117</td>\n",
       "      <td>-0.427354</td>\n",
       "      <td>...</td>\n",
       "      <td>0.106337</td>\n",
       "      <td>-0.214888</td>\n",
       "      <td>-0.369029</td>\n",
       "      <td>1.660632</td>\n",
       "      <td>-1.096580</td>\n",
       "      <td>-0.410261</td>\n",
       "      <td>-0.462252</td>\n",
       "      <td>-0.414875</td>\n",
       "      <td>-0.391570</td>\n",
       "      <td>-0.210225</td>\n",
       "    </tr>\n",
       "    <tr>\n",
       "      <th>1</th>\n",
       "      <td>-0.377802</td>\n",
       "      <td>-0.132703</td>\n",
       "      <td>-0.220702</td>\n",
       "      <td>-0.018542</td>\n",
       "      <td>-0.369718</td>\n",
       "      <td>-0.091371</td>\n",
       "      <td>-1.017668</td>\n",
       "      <td>0.338352</td>\n",
       "      <td>0.010117</td>\n",
       "      <td>-0.427354</td>\n",
       "      <td>...</td>\n",
       "      <td>0.106337</td>\n",
       "      <td>-0.214888</td>\n",
       "      <td>-0.369029</td>\n",
       "      <td>-0.602180</td>\n",
       "      <td>0.911926</td>\n",
       "      <td>-0.410261</td>\n",
       "      <td>-0.462252</td>\n",
       "      <td>2.410362</td>\n",
       "      <td>-0.391570</td>\n",
       "      <td>-0.210225</td>\n",
       "    </tr>\n",
       "    <tr>\n",
       "      <th>2</th>\n",
       "      <td>-0.444366</td>\n",
       "      <td>0.000445</td>\n",
       "      <td>-0.220702</td>\n",
       "      <td>-1.484976</td>\n",
       "      <td>-0.369718</td>\n",
       "      <td>-0.091371</td>\n",
       "      <td>0.914459</td>\n",
       "      <td>-1.483091</td>\n",
       "      <td>-1.228820</td>\n",
       "      <td>-0.427354</td>\n",
       "      <td>...</td>\n",
       "      <td>0.106337</td>\n",
       "      <td>-0.214888</td>\n",
       "      <td>-0.369029</td>\n",
       "      <td>-0.602180</td>\n",
       "      <td>0.911926</td>\n",
       "      <td>-0.410261</td>\n",
       "      <td>-0.462252</td>\n",
       "      <td>-0.414875</td>\n",
       "      <td>2.553824</td>\n",
       "      <td>-0.210225</td>\n",
       "    </tr>\n",
       "  </tbody>\n",
       "</table>\n",
       "<p>3 rows × 613 columns</p>\n",
       "</div>"
      ],
      "text/plain": [
       "   ANZ_HAUSHALTE_AKTIV  ANZ_HH_TITEL  ANZ_KINDER  ANZ_PERSONEN  \\\n",
       "0             0.554097     -0.132703   -0.220702     -0.751759   \n",
       "1            -0.377802     -0.132703   -0.220702     -0.018542   \n",
       "2            -0.444366      0.000445   -0.220702     -1.484976   \n",
       "\n",
       "   ANZ_STATISTISCHE_HAUSHALTE  ANZ_TITEL    ARBEIT  BALLRAUM  CAMEO_DEUG_2015  \\\n",
       "0                    0.477006  -0.091371 -0.051604  0.338352         0.010117   \n",
       "1                   -0.369718  -0.091371 -1.017668  0.338352         0.010117   \n",
       "2                   -0.369718  -0.091371  0.914459 -1.483091        -1.228820   \n",
       "\n",
       "   D19_BANKEN_DIREKT  ...  DSL_FLAG_1.0  UMFELD_JUNG_2.0  UMFELD_JUNG_3.0  \\\n",
       "0          -0.427354  ...      0.106337        -0.214888        -0.369029   \n",
       "1          -0.427354  ...      0.106337        -0.214888        -0.369029   \n",
       "2          -0.427354  ...      0.106337        -0.214888        -0.369029   \n",
       "\n",
       "   UMFELD_JUNG_4.0  UMFELD_JUNG_5.0  MOBI_RASTER_2.0  MOBI_RASTER_3.0  \\\n",
       "0         1.660632        -1.096580        -0.410261        -0.462252   \n",
       "1        -0.602180         0.911926        -0.410261        -0.462252   \n",
       "2        -0.602180         0.911926        -0.410261        -0.462252   \n",
       "\n",
       "   MOBI_RASTER_4.0  MOBI_RASTER_5.0  MOBI_RASTER_6.0  \n",
       "0        -0.414875        -0.391570        -0.210225  \n",
       "1         2.410362        -0.391570        -0.210225  \n",
       "2        -0.414875         2.553824        -0.210225  \n",
       "\n",
       "[3 rows x 613 columns]"
      ]
     },
     "execution_count": 7,
     "metadata": {},
     "output_type": "execute_result"
    }
   ],
   "source": [
    "# Apply scaling to X data\n",
    "scaler = StandardScaler()\n",
    "X = pd.DataFrame(scaler.fit_transform(X), columns = X.columns)\n",
    "X.head(3)"
   ]
  },
  {
   "cell_type": "markdown",
   "metadata": {},
   "source": [
    "### 4.3 Building Classification Model"
   ]
  },
  {
   "cell_type": "markdown",
   "metadata": {},
   "source": [
    "I wll create classification model by comparing 4 models through Grid Search Cross Validation. \n",
    "I will find the best model that gives best auc-roc score; after i will tune the hyperparameters of selected model.\n",
    "Finally i will fit the model and make the predictions."
   ]
  },
  {
   "cell_type": "code",
   "execution_count": 8,
   "metadata": {},
   "outputs": [],
   "source": [
    "# Create a dict to store the classifier names and models\n",
    "random_state = 42\n",
    "classifiers = {\"DecisionTreeClassifier\":DecisionTreeClassifier(random_state = random_state),\n",
    "             \"RandomForestClassifier\":RandomForestClassifier(random_state = random_state),\n",
    "             \"AdaBoostClassifier\":AdaBoostClassifier(random_state = random_state),\n",
    "             \"GradientBoostingClassifier\":GradientBoostingClassifier(random_state = random_state) \n",
    "             }\n",
    "\n",
    "# Create a list to store empty dicts of parameters\n",
    "classifier_params = [ {} for i in range(len(classifiers)) ]\n"
   ]
  },
  {
   "cell_type": "code",
   "execution_count": 9,
   "metadata": {},
   "outputs": [],
   "source": [
    "def grid_search(X,y, classifiers, classifier_params, scoring = \"roc_auc\"):\n",
    "    \n",
    "    '''\n",
    "    Input --> X : Dataframe,features of dataset\n",
    "              y : Labels of dataset\n",
    "              classifiers: list of classifiers to fit such as \"DecisionTreeClassifier()\"\n",
    "              classifier_params : list of parameter of classifier models\n",
    "              scoring: evaluation metric of model \"roc_auc\" or \"accuracy\" etc\n",
    "    \n",
    "    Output --> scores : list of the scores of the models\n",
    "               best_estimators: List of the best estimators of models              \n",
    "    \n",
    "    '''\n",
    "    classifier_list = list(classifiers.values())\n",
    "    scores = []\n",
    "    best_estimators = []\n",
    "    for i in range(len(classifier_list)):\n",
    "        clf = GridSearchCV(classifier_list[i], \n",
    "                           param_grid=classifier_params[i], \n",
    "                           cv = StratifiedKFold(n_splits = 5), \n",
    "                           scoring = scoring, \n",
    "                           n_jobs = -1,\n",
    "                           verbose = 3,\n",
    "                           return_train_score=True\n",
    "                          )\n",
    "        clf.fit(X,y)\n",
    "        scores.append(clf.best_score_)\n",
    "        best_estimators.append(clf.best_estimator_)\n",
    "        print(\"Best score of {} : {}\".format(classifier_list[i],clf.best_score_)) \n",
    "        print(\"Best estimator of {} : {}\".format(classifier_list[i],clf.best_estimator_)) \n",
    "        \n",
    "    return scores, best_estimators"
   ]
  },
  {
   "cell_type": "code",
   "execution_count": 10,
   "metadata": {
    "scrolled": false
   },
   "outputs": [
    {
     "name": "stdout",
     "output_type": "stream",
     "text": [
      "Fitting 5 folds for each of 1 candidates, totalling 5 fits\n"
     ]
    },
    {
     "name": "stderr",
     "output_type": "stream",
     "text": [
      "[Parallel(n_jobs=-1)]: Using backend LokyBackend with 4 concurrent workers.\n",
      "[Parallel(n_jobs=-1)]: Done   2 out of   5 | elapsed:    8.3s remaining:   12.4s\n",
      "[Parallel(n_jobs=-1)]: Done   5 out of   5 | elapsed:   12.0s finished\n"
     ]
    },
    {
     "name": "stdout",
     "output_type": "stream",
     "text": [
      "Best score of DecisionTreeClassifier(random_state=42) : 0.504475046600682\n",
      "Best estimator of DecisionTreeClassifier(random_state=42) : DecisionTreeClassifier(random_state=42)\n",
      "Fitting 5 folds for each of 1 candidates, totalling 5 fits\n"
     ]
    },
    {
     "name": "stderr",
     "output_type": "stream",
     "text": [
      "[Parallel(n_jobs=-1)]: Using backend LokyBackend with 4 concurrent workers.\n",
      "[Parallel(n_jobs=-1)]: Done   2 out of   5 | elapsed:   12.2s remaining:   18.4s\n",
      "[Parallel(n_jobs=-1)]: Done   5 out of   5 | elapsed:   22.3s finished\n"
     ]
    },
    {
     "name": "stdout",
     "output_type": "stream",
     "text": [
      "Best score of RandomForestClassifier(random_state=42) : 0.5585029692134386\n",
      "Best estimator of RandomForestClassifier(random_state=42) : RandomForestClassifier(random_state=42)\n",
      "Fitting 5 folds for each of 1 candidates, totalling 5 fits\n"
     ]
    },
    {
     "name": "stderr",
     "output_type": "stream",
     "text": [
      "[Parallel(n_jobs=-1)]: Using backend LokyBackend with 4 concurrent workers.\n",
      "[Parallel(n_jobs=-1)]: Done   2 out of   5 | elapsed:   24.2s remaining:   36.3s\n",
      "[Parallel(n_jobs=-1)]: Done   5 out of   5 | elapsed:   44.6s finished\n"
     ]
    },
    {
     "name": "stdout",
     "output_type": "stream",
     "text": [
      "Best score of AdaBoostClassifier(random_state=42) : 0.6649924852200984\n",
      "Best estimator of AdaBoostClassifier(random_state=42) : AdaBoostClassifier(random_state=42)\n",
      "Fitting 5 folds for each of 1 candidates, totalling 5 fits\n"
     ]
    },
    {
     "name": "stderr",
     "output_type": "stream",
     "text": [
      "[Parallel(n_jobs=-1)]: Using backend LokyBackend with 4 concurrent workers.\n",
      "[Parallel(n_jobs=-1)]: Done   2 out of   5 | elapsed:  1.1min remaining:  1.6min\n",
      "[Parallel(n_jobs=-1)]: Done   5 out of   5 | elapsed:  2.1min finished\n"
     ]
    },
    {
     "name": "stdout",
     "output_type": "stream",
     "text": [
      "Best score of GradientBoostingClassifier(random_state=42) : 0.7046441500814087\n",
      "Best estimator of GradientBoostingClassifier(random_state=42) : GradientBoostingClassifier(random_state=42)\n"
     ]
    }
   ],
   "source": [
    "# Grid Search with X and y data with scoring \"roc_auc\"\n",
    "scores, best_estimators = grid_search(\n",
    "                                       X,\n",
    "                                       y,\n",
    "                                       classifiers = classifiers, \n",
    "                                       classifier_params = classifier_params, \n",
    "                                       scoring = \"roc_auc\")"
   ]
  },
  {
   "cell_type": "code",
   "execution_count": 11,
   "metadata": {},
   "outputs": [
    {
     "data": {
      "text/plain": [
       "[DecisionTreeClassifier(random_state=42),\n",
       " RandomForestClassifier(random_state=42),\n",
       " AdaBoostClassifier(random_state=42),\n",
       " GradientBoostingClassifier(random_state=42)]"
      ]
     },
     "execution_count": 11,
     "metadata": {},
     "output_type": "execute_result"
    }
   ],
   "source": [
    "best_estimators"
   ]
  },
  {
   "cell_type": "code",
   "execution_count": 12,
   "metadata": {},
   "outputs": [
    {
     "data": {
      "text/html": [
       "<div>\n",
       "<style scoped>\n",
       "    .dataframe tbody tr th:only-of-type {\n",
       "        vertical-align: middle;\n",
       "    }\n",
       "\n",
       "    .dataframe tbody tr th {\n",
       "        vertical-align: top;\n",
       "    }\n",
       "\n",
       "    .dataframe thead th {\n",
       "        text-align: right;\n",
       "    }\n",
       "</style>\n",
       "<table border=\"1\" class=\"dataframe\">\n",
       "  <thead>\n",
       "    <tr style=\"text-align: right;\">\n",
       "      <th></th>\n",
       "      <th>Classifier</th>\n",
       "      <th>Scores</th>\n",
       "    </tr>\n",
       "  </thead>\n",
       "  <tbody>\n",
       "    <tr>\n",
       "      <th>0</th>\n",
       "      <td>DecisionTreeClassifier</td>\n",
       "      <td>0.504475</td>\n",
       "    </tr>\n",
       "    <tr>\n",
       "      <th>1</th>\n",
       "      <td>RandomForestClassifier</td>\n",
       "      <td>0.558503</td>\n",
       "    </tr>\n",
       "    <tr>\n",
       "      <th>2</th>\n",
       "      <td>AdaBoostClassifier</td>\n",
       "      <td>0.664992</td>\n",
       "    </tr>\n",
       "    <tr>\n",
       "      <th>3</th>\n",
       "      <td>GradientBoostingClassifier</td>\n",
       "      <td>0.704644</td>\n",
       "    </tr>\n",
       "  </tbody>\n",
       "</table>\n",
       "</div>"
      ],
      "text/plain": [
       "                   Classifier    Scores\n",
       "0      DecisionTreeClassifier  0.504475\n",
       "1      RandomForestClassifier  0.558503\n",
       "2          AdaBoostClassifier  0.664992\n",
       "3  GradientBoostingClassifier  0.704644"
      ]
     },
     "execution_count": 12,
     "metadata": {},
     "output_type": "execute_result"
    }
   ],
   "source": [
    "# Create DataFrame for score results\n",
    "scores_df = pd.DataFrame({\"Classifier\":list(classifiers.keys()),\n",
    "                          \"Scores\": scores})\n",
    "scores_df"
   ]
  },
  {
   "cell_type": "code",
   "execution_count": 13,
   "metadata": {},
   "outputs": [
    {
     "data": {
      "image/png": "[encoded data removed]",
      "text/plain": [
       "<Figure size 432x288 with 1 Axes>"
      ]
     },
     "metadata": {
      "needs_background": "light"
     },
     "output_type": "display_data"
    }
   ],
   "source": [
    "# Plot scores\n",
    "plt.barh(scores_df.sort_values(by = \"Scores\").Classifier,\n",
    "         scores_df.sort_values(by = \"Scores\").Scores)\n",
    "plt.title(\"Roc-Auc Scores of Classifiers\")\n",
    "plt.xlabel(\"Scores\")\n",
    "plt.show()"
   ]
  },
  {
   "cell_type": "markdown",
   "metadata": {},
   "source": [
    "So, as we see from above, best score has been achieved by Gradient Boosting Classifir.\n",
    "This classifier is selected and to be tuned to increase the score. "
   ]
  },
  {
   "cell_type": "markdown",
   "metadata": {},
   "source": [
    "### 4.4 Hyperparameter tuning of Gradient Boosting Classifer"
   ]
  },
  {
   "cell_type": "code",
   "execution_count": 14,
   "metadata": {},
   "outputs": [
    {
     "name": "stdout",
     "output_type": "stream",
     "text": [
      "Fitting 5 folds for each of 1 candidates, totalling 5 fits\n"
     ]
    },
    {
     "name": "stderr",
     "output_type": "stream",
     "text": [
      "[Parallel(n_jobs=-1)]: Using backend LokyBackend with 4 concurrent workers.\n",
      "[Parallel(n_jobs=-1)]: Done   2 out of   5 | elapsed:  1.1min remaining:  1.7min\n",
      "[Parallel(n_jobs=-1)]: Done   5 out of   5 | elapsed:  2.1min finished\n"
     ]
    },
    {
     "name": "stdout",
     "output_type": "stream",
     "text": [
      "Best score of GB Classifier : 0.7046441500814087\n",
      "Parameters of GB classifier: {'ccp_alpha': 0.0, 'criterion': 'friedman_mse', 'init': None, 'learning_rate': 0.1, 'loss': 'deviance', 'max_depth': 3, 'max_features': None, 'max_leaf_nodes': None, 'min_impurity_decrease': 0.0, 'min_impurity_split': None, 'min_samples_leaf': 1, 'min_samples_split': 2, 'min_weight_fraction_leaf': 0.0, 'n_estimators': 100, 'n_iter_no_change': None, 'presort': 'deprecated', 'random_state': 42, 'subsample': 1.0, 'tol': 0.0001, 'validation_fraction': 0.1, 'verbose': 0, 'warm_start': False}\n"
     ]
    }
   ],
   "source": [
    "# Fitting GB Classifier and looking at parameters\n",
    "gb_clf = GridSearchCV(GradientBoostingClassifier(random_state=42), \n",
    "                      param_grid={}, \n",
    "                      cv = StratifiedKFold(n_splits = 5), \n",
    "                      scoring = \"roc_auc\", \n",
    "                      n_jobs = -1,\n",
    "                      verbose = 3,\n",
    "                      return_train_score=True)\n",
    "gb_clf.fit(X,y)\n",
    "params = gb_clf.best_estimator_.get_params()\n",
    "print(\"Best score of GB Classifier : {}\".format(gb_clf.best_score_)) \n",
    "print(\"Parameters of GB classifier: {}\".format(params))"
   ]
  },
  {
   "cell_type": "markdown",
   "metadata": {},
   "source": [
    "#### Tuninng the parameters:"
   ]
  },
  {
   "cell_type": "markdown",
   "metadata": {},
   "source": [
    "Tuning the parameters as below, increased the score from 0.703 to 0.717"
   ]
  },
  {
   "cell_type": "code",
   "execution_count": 18,
   "metadata": {},
   "outputs": [],
   "source": [
    "gb_clf = {\"GradientBoostingClassifier\":GradientBoostingClassifier(random_state = 42)}"
   ]
  },
  {
   "cell_type": "code",
   "execution_count": 126,
   "metadata": {},
   "outputs": [
    {
     "name": "stdout",
     "output_type": "stream",
     "text": [
      "Fitting 5 folds for each of 1 candidates, totalling 5 fits\n"
     ]
    },
    {
     "name": "stderr",
     "output_type": "stream",
     "text": [
      "[Parallel(n_jobs=-1)]: Using backend LokyBackend with 4 concurrent workers.\n",
      "[Parallel(n_jobs=-1)]: Done   2 out of   5 | elapsed:   28.2s remaining:   42.4s\n",
      "[Parallel(n_jobs=-1)]: Done   5 out of   5 | elapsed:   52.0s finished\n"
     ]
    },
    {
     "name": "stdout",
     "output_type": "stream",
     "text": [
      "Best score of GradientBoostingClassifier(random_state=42) : 0.72760239553664\n",
      "Best estimator of GradientBoostingClassifier(random_state=42) : GradientBoostingClassifier(learning_rate=0.05, max_depth=4, max_features='auto',\n",
      "                           min_samples_leaf=0.02, min_samples_split=0.015,\n",
      "                           n_estimators=40, random_state=42, subsample=0.68)\n"
     ]
    }
   ],
   "source": [
    "t_gb_param_grid= [\n",
    "    {\n",
    "        # To tune learn.rate and n of tree starting other parameters wit default values\n",
    " \n",
    "        'learning_rate' : [0.05], # best parameter is 0.05 out of [0.05, 0.1]\n",
    "        'n_estimators' :[40],   # best parameter is 40 out of [30,40,50]\n",
    "                \n",
    "        #----------------- Score of all above params 0.7188494348793585  --------------------------\n",
    "        \n",
    "        'max_depth' : [4],  # 4 out of [3,4,5]\n",
    "        'min_samples_split' : [0.015], # 0.015 out of [0.013,0.015,0.016]\n",
    "    \n",
    "        #----------------- Score of all above params 0.7160726575400795  --------------------------\n",
    "        \n",
    "        'max_features' : ['auto'], # 'auto' out of ['auto','sqrt','log2']\n",
    "        \n",
    "        #----------------- Score of all above params 0.7160726575400795  --------------------------\n",
    "        \n",
    "        'subsample':[0.68],    # best parameter is 0.68 out of [0.68,0.69,0.70]\n",
    "        \n",
    "        #----------------- Score of all above params 0.7180175893219627  --------------------------\n",
    "\n",
    "        'min_samples_leaf' : [0.02],  # best parameter is 0.02 out of [0.020,0.022,0.024]\n",
    "        \n",
    "        #----------------- Score of all above params 0.72760239553664  --------------------------\n",
    "\n",
    "    }]\n",
    "\n",
    "\n",
    "t_scores, t_best_estimators = grid_search(\n",
    "                                       X,\n",
    "                                       y,\n",
    "                                       classifiers = gb_clf, \n",
    "                                       classifier_params = t_gb_param_grid, \n",
    "                                       scoring = \"roc_auc\")"
   ]
  },
  {
   "cell_type": "markdown",
   "metadata": {},
   "source": [
    "Fitting the best classifier in GridSearch with tuned parameters:"
   ]
  },
  {
   "cell_type": "code",
   "execution_count": 128,
   "metadata": {},
   "outputs": [
    {
     "name": "stdout",
     "output_type": "stream",
     "text": [
      "Fitting 5 folds for each of 1 candidates, totalling 5 fits\n"
     ]
    },
    {
     "name": "stderr",
     "output_type": "stream",
     "text": [
      "[Parallel(n_jobs=-1)]: Using backend LokyBackend with 4 concurrent workers.\n",
      "[Parallel(n_jobs=-1)]: Done   5 out of   5 | elapsed:   48.7s finished\n"
     ]
    },
    {
     "name": "stdout",
     "output_type": "stream",
     "text": [
      "Best score of Tuned GB Classifier : 0.72760239553664\n"
     ]
    }
   ],
   "source": [
    "best_gb_clf = GridSearchCV(GradientBoostingClassifier(random_state=42), \n",
    "                      param_grid= t_gb_param_grid, \n",
    "                      cv = StratifiedKFold(n_splits = 5), \n",
    "                      scoring = \"roc_auc\", \n",
    "                      n_jobs = -1,\n",
    "                      verbose = 1,\n",
    "                      return_train_score=True)\n",
    "best_gb_clf.fit(X,y)\n",
    "params = best_gb_clf.best_estimator_\n",
    "print(\"Best score of Tuned GB Classifier : {}\".format(best_gb_clf.best_score_)) \n"
   ]
  },
  {
   "cell_type": "markdown",
   "metadata": {},
   "source": [
    "## 5. Part 3: Kaggle Competition\n",
    "\n",
    "Now that you've created a model to predict which individuals are most likely to respond to a mailout campaign, it's time to test that model in competition through Kaggle. If you click on the link [here](http://www.kaggle.com/t/21e6d45d4c574c7fa2d868f0e8c83140), you'll be taken to the competition page where, if you have a Kaggle account, you can enter. If you're one of the top performers, you may have the chance to be contacted by a hiring manager from Arvato or Bertelsmann for an interview!\n",
    "\n",
    "Your entry to the competition should be a CSV file with two columns. The first column should be a copy of \"LNR\", which acts as an ID number for each individual in the \"TEST\" partition. The second column, \"RESPONSE\", should be some measure of how likely each individual became a customer – this might not be a straightforward probability. As you should have found in Part 2, there is a large output class imbalance, where most individuals did not respond to the mailout. Thus, predicting individual classes and using accuracy does not seem to be an appropriate performance evaluation method. Instead, the competition will be using AUC to evaluate performance. The exact values of the \"RESPONSE\" column do not matter as much: only that the higher values try to capture as many of the actual customers as possible, early in the ROC curve sweep."
   ]
  },
  {
   "cell_type": "markdown",
   "metadata": {},
   "source": [
    "### 5.1 Feature Scaling of Test Data"
   ]
  },
  {
   "cell_type": "code",
   "execution_count": 129,
   "metadata": {},
   "outputs": [
    {
     "data": {
      "text/html": [
       "<div>\n",
       "<style scoped>\n",
       "    .dataframe tbody tr th:only-of-type {\n",
       "        vertical-align: middle;\n",
       "    }\n",
       "\n",
       "    .dataframe tbody tr th {\n",
       "        vertical-align: top;\n",
       "    }\n",
       "\n",
       "    .dataframe thead th {\n",
       "        text-align: right;\n",
       "    }\n",
       "</style>\n",
       "<table border=\"1\" class=\"dataframe\">\n",
       "  <thead>\n",
       "    <tr style=\"text-align: right;\">\n",
       "      <th></th>\n",
       "      <th>ANZ_HAUSHALTE_AKTIV</th>\n",
       "      <th>ANZ_HH_TITEL</th>\n",
       "      <th>ANZ_KINDER</th>\n",
       "      <th>ANZ_PERSONEN</th>\n",
       "      <th>ANZ_STATISTISCHE_HAUSHALTE</th>\n",
       "      <th>ANZ_TITEL</th>\n",
       "      <th>ARBEIT</th>\n",
       "      <th>BALLRAUM</th>\n",
       "      <th>CAMEO_DEUG_2015</th>\n",
       "      <th>D19_BANKEN_DIREKT</th>\n",
       "      <th>...</th>\n",
       "      <th>DSL_FLAG_1.0</th>\n",
       "      <th>UMFELD_JUNG_2.0</th>\n",
       "      <th>UMFELD_JUNG_3.0</th>\n",
       "      <th>UMFELD_JUNG_4.0</th>\n",
       "      <th>UMFELD_JUNG_5.0</th>\n",
       "      <th>MOBI_RASTER_2.0</th>\n",
       "      <th>MOBI_RASTER_3.0</th>\n",
       "      <th>MOBI_RASTER_4.0</th>\n",
       "      <th>MOBI_RASTER_5.0</th>\n",
       "      <th>MOBI_RASTER_6.0</th>\n",
       "    </tr>\n",
       "  </thead>\n",
       "  <tbody>\n",
       "    <tr>\n",
       "      <th>0</th>\n",
       "      <td>2.0</td>\n",
       "      <td>0.0</td>\n",
       "      <td>0.0</td>\n",
       "      <td>2.0</td>\n",
       "      <td>2.0</td>\n",
       "      <td>0.0</td>\n",
       "      <td>3.0</td>\n",
       "      <td>6.0</td>\n",
       "      <td>2.0</td>\n",
       "      <td>0</td>\n",
       "      <td>...</td>\n",
       "      <td>1</td>\n",
       "      <td>0</td>\n",
       "      <td>0</td>\n",
       "      <td>0</td>\n",
       "      <td>1</td>\n",
       "      <td>0</td>\n",
       "      <td>0</td>\n",
       "      <td>0</td>\n",
       "      <td>1</td>\n",
       "      <td>0</td>\n",
       "    </tr>\n",
       "    <tr>\n",
       "      <th>1</th>\n",
       "      <td>20.0</td>\n",
       "      <td>0.0</td>\n",
       "      <td>0.0</td>\n",
       "      <td>1.0</td>\n",
       "      <td>21.0</td>\n",
       "      <td>0.0</td>\n",
       "      <td>4.0</td>\n",
       "      <td>7.0</td>\n",
       "      <td>5.0</td>\n",
       "      <td>0</td>\n",
       "      <td>...</td>\n",
       "      <td>1</td>\n",
       "      <td>0</td>\n",
       "      <td>1</td>\n",
       "      <td>0</td>\n",
       "      <td>0</td>\n",
       "      <td>0</td>\n",
       "      <td>0</td>\n",
       "      <td>0</td>\n",
       "      <td>0</td>\n",
       "      <td>0</td>\n",
       "    </tr>\n",
       "    <tr>\n",
       "      <th>2</th>\n",
       "      <td>2.0</td>\n",
       "      <td>0.0</td>\n",
       "      <td>0.0</td>\n",
       "      <td>4.0</td>\n",
       "      <td>2.0</td>\n",
       "      <td>0.0</td>\n",
       "      <td>4.0</td>\n",
       "      <td>1.0</td>\n",
       "      <td>7.0</td>\n",
       "      <td>0</td>\n",
       "      <td>...</td>\n",
       "      <td>1</td>\n",
       "      <td>0</td>\n",
       "      <td>0</td>\n",
       "      <td>0</td>\n",
       "      <td>1</td>\n",
       "      <td>1</td>\n",
       "      <td>0</td>\n",
       "      <td>0</td>\n",
       "      <td>0</td>\n",
       "      <td>0</td>\n",
       "    </tr>\n",
       "    <tr>\n",
       "      <th>3</th>\n",
       "      <td>1.0</td>\n",
       "      <td>0.0</td>\n",
       "      <td>0.0</td>\n",
       "      <td>0.0</td>\n",
       "      <td>1.0</td>\n",
       "      <td>0.0</td>\n",
       "      <td>4.0</td>\n",
       "      <td>1.0</td>\n",
       "      <td>2.0</td>\n",
       "      <td>0</td>\n",
       "      <td>...</td>\n",
       "      <td>1</td>\n",
       "      <td>0</td>\n",
       "      <td>0</td>\n",
       "      <td>0</td>\n",
       "      <td>1</td>\n",
       "      <td>0</td>\n",
       "      <td>0</td>\n",
       "      <td>0</td>\n",
       "      <td>1</td>\n",
       "      <td>0</td>\n",
       "    </tr>\n",
       "    <tr>\n",
       "      <th>4</th>\n",
       "      <td>1.0</td>\n",
       "      <td>0.0</td>\n",
       "      <td>0.0</td>\n",
       "      <td>4.0</td>\n",
       "      <td>1.0</td>\n",
       "      <td>0.0</td>\n",
       "      <td>3.0</td>\n",
       "      <td>6.0</td>\n",
       "      <td>5.0</td>\n",
       "      <td>2</td>\n",
       "      <td>...</td>\n",
       "      <td>1</td>\n",
       "      <td>0</td>\n",
       "      <td>0</td>\n",
       "      <td>0</td>\n",
       "      <td>1</td>\n",
       "      <td>0</td>\n",
       "      <td>0</td>\n",
       "      <td>0</td>\n",
       "      <td>1</td>\n",
       "      <td>0</td>\n",
       "    </tr>\n",
       "  </tbody>\n",
       "</table>\n",
       "<p>5 rows × 613 columns</p>\n",
       "</div>"
      ],
      "text/plain": [
       "   ANZ_HAUSHALTE_AKTIV  ANZ_HH_TITEL  ANZ_KINDER  ANZ_PERSONEN  \\\n",
       "0                  2.0           0.0         0.0           2.0   \n",
       "1                 20.0           0.0         0.0           1.0   \n",
       "2                  2.0           0.0         0.0           4.0   \n",
       "3                  1.0           0.0         0.0           0.0   \n",
       "4                  1.0           0.0         0.0           4.0   \n",
       "\n",
       "   ANZ_STATISTISCHE_HAUSHALTE  ANZ_TITEL  ARBEIT  BALLRAUM  CAMEO_DEUG_2015  \\\n",
       "0                         2.0        0.0     3.0       6.0              2.0   \n",
       "1                        21.0        0.0     4.0       7.0              5.0   \n",
       "2                         2.0        0.0     4.0       1.0              7.0   \n",
       "3                         1.0        0.0     4.0       1.0              2.0   \n",
       "4                         1.0        0.0     3.0       6.0              5.0   \n",
       "\n",
       "   D19_BANKEN_DIREKT  ...  DSL_FLAG_1.0  UMFELD_JUNG_2.0  UMFELD_JUNG_3.0  \\\n",
       "0                  0  ...             1                0                0   \n",
       "1                  0  ...             1                0                1   \n",
       "2                  0  ...             1                0                0   \n",
       "3                  0  ...             1                0                0   \n",
       "4                  2  ...             1                0                0   \n",
       "\n",
       "   UMFELD_JUNG_4.0  UMFELD_JUNG_5.0  MOBI_RASTER_2.0  MOBI_RASTER_3.0  \\\n",
       "0                0                1                0                0   \n",
       "1                0                0                0                0   \n",
       "2                0                1                1                0   \n",
       "3                0                1                0                0   \n",
       "4                0                1                0                0   \n",
       "\n",
       "   MOBI_RASTER_4.0  MOBI_RASTER_5.0  MOBI_RASTER_6.0  \n",
       "0                0                1                0  \n",
       "1                0                0                0  \n",
       "2                0                0                0  \n",
       "3                0                1                0  \n",
       "4                0                1                0  \n",
       "\n",
       "[5 rows x 613 columns]"
      ]
     },
     "execution_count": 129,
     "metadata": {},
     "output_type": "execute_result"
    }
   ],
   "source": [
    "# Show head\n",
    "test_cleaned.head()"
   ]
  },
  {
   "cell_type": "code",
   "execution_count": 130,
   "metadata": {},
   "outputs": [
    {
     "data": {
      "text/plain": [
       "(42833, 613)"
      ]
     },
     "execution_count": 130,
     "metadata": {},
     "output_type": "execute_result"
    }
   ],
   "source": [
    "# Show row & column count\n",
    "test_cleaned.shape"
   ]
  },
  {
   "cell_type": "code",
   "execution_count": 131,
   "metadata": {},
   "outputs": [
    {
     "data": {
      "text/html": [
       "<div>\n",
       "<style scoped>\n",
       "    .dataframe tbody tr th:only-of-type {\n",
       "        vertical-align: middle;\n",
       "    }\n",
       "\n",
       "    .dataframe tbody tr th {\n",
       "        vertical-align: top;\n",
       "    }\n",
       "\n",
       "    .dataframe thead th {\n",
       "        text-align: right;\n",
       "    }\n",
       "</style>\n",
       "<table border=\"1\" class=\"dataframe\">\n",
       "  <thead>\n",
       "    <tr style=\"text-align: right;\">\n",
       "      <th></th>\n",
       "      <th>ANZ_HAUSHALTE_AKTIV</th>\n",
       "      <th>ANZ_HH_TITEL</th>\n",
       "      <th>ANZ_KINDER</th>\n",
       "      <th>ANZ_PERSONEN</th>\n",
       "      <th>ANZ_STATISTISCHE_HAUSHALTE</th>\n",
       "      <th>ANZ_TITEL</th>\n",
       "      <th>ARBEIT</th>\n",
       "      <th>BALLRAUM</th>\n",
       "      <th>CAMEO_DEUG_2015</th>\n",
       "      <th>D19_BANKEN_DIREKT</th>\n",
       "      <th>...</th>\n",
       "      <th>DSL_FLAG_1.0</th>\n",
       "      <th>UMFELD_JUNG_2.0</th>\n",
       "      <th>UMFELD_JUNG_3.0</th>\n",
       "      <th>UMFELD_JUNG_4.0</th>\n",
       "      <th>UMFELD_JUNG_5.0</th>\n",
       "      <th>MOBI_RASTER_2.0</th>\n",
       "      <th>MOBI_RASTER_3.0</th>\n",
       "      <th>MOBI_RASTER_4.0</th>\n",
       "      <th>MOBI_RASTER_5.0</th>\n",
       "      <th>MOBI_RASTER_6.0</th>\n",
       "    </tr>\n",
       "  </thead>\n",
       "  <tbody>\n",
       "    <tr>\n",
       "      <th>0</th>\n",
       "      <td>-0.353063</td>\n",
       "      <td>-0.149514</td>\n",
       "      <td>-0.247607</td>\n",
       "      <td>-0.018874</td>\n",
       "      <td>-0.340189</td>\n",
       "      <td>-0.105655</td>\n",
       "      <td>-0.211076</td>\n",
       "      <td>0.674524</td>\n",
       "      <td>-1.419477</td>\n",
       "      <td>-0.386287</td>\n",
       "      <td>...</td>\n",
       "      <td>0.125003</td>\n",
       "      <td>-0.19609</td>\n",
       "      <td>-0.332542</td>\n",
       "      <td>-0.521527</td>\n",
       "      <td>0.769767</td>\n",
       "      <td>-0.361890</td>\n",
       "      <td>-0.41027</td>\n",
       "      <td>-0.370703</td>\n",
       "      <td>2.784589</td>\n",
       "      <td>-0.1847</td>\n",
       "    </tr>\n",
       "    <tr>\n",
       "      <th>1</th>\n",
       "      <td>0.984863</td>\n",
       "      <td>-0.149514</td>\n",
       "      <td>-0.247607</td>\n",
       "      <td>-0.822656</td>\n",
       "      <td>1.151929</td>\n",
       "      <td>-0.105655</td>\n",
       "      <td>0.774537</td>\n",
       "      <td>1.153740</td>\n",
       "      <td>-0.069416</td>\n",
       "      <td>-0.386287</td>\n",
       "      <td>...</td>\n",
       "      <td>0.125003</td>\n",
       "      <td>-0.19609</td>\n",
       "      <td>3.007143</td>\n",
       "      <td>-0.521527</td>\n",
       "      <td>-1.299094</td>\n",
       "      <td>-0.361890</td>\n",
       "      <td>-0.41027</td>\n",
       "      <td>-0.370703</td>\n",
       "      <td>-0.359119</td>\n",
       "      <td>-0.1847</td>\n",
       "    </tr>\n",
       "    <tr>\n",
       "      <th>2</th>\n",
       "      <td>-0.353063</td>\n",
       "      <td>-0.149514</td>\n",
       "      <td>-0.247607</td>\n",
       "      <td>1.588691</td>\n",
       "      <td>-0.340189</td>\n",
       "      <td>-0.105655</td>\n",
       "      <td>0.774537</td>\n",
       "      <td>-1.721553</td>\n",
       "      <td>0.830625</td>\n",
       "      <td>-0.386287</td>\n",
       "      <td>...</td>\n",
       "      <td>0.125003</td>\n",
       "      <td>-0.19609</td>\n",
       "      <td>-0.332542</td>\n",
       "      <td>-0.521527</td>\n",
       "      <td>0.769767</td>\n",
       "      <td>2.763274</td>\n",
       "      <td>-0.41027</td>\n",
       "      <td>-0.370703</td>\n",
       "      <td>-0.359119</td>\n",
       "      <td>-0.1847</td>\n",
       "    </tr>\n",
       "  </tbody>\n",
       "</table>\n",
       "<p>3 rows × 613 columns</p>\n",
       "</div>"
      ],
      "text/plain": [
       "   ANZ_HAUSHALTE_AKTIV  ANZ_HH_TITEL  ANZ_KINDER  ANZ_PERSONEN  \\\n",
       "0            -0.353063     -0.149514   -0.247607     -0.018874   \n",
       "1             0.984863     -0.149514   -0.247607     -0.822656   \n",
       "2            -0.353063     -0.149514   -0.247607      1.588691   \n",
       "\n",
       "   ANZ_STATISTISCHE_HAUSHALTE  ANZ_TITEL    ARBEIT  BALLRAUM  CAMEO_DEUG_2015  \\\n",
       "0                   -0.340189  -0.105655 -0.211076  0.674524        -1.419477   \n",
       "1                    1.151929  -0.105655  0.774537  1.153740        -0.069416   \n",
       "2                   -0.340189  -0.105655  0.774537 -1.721553         0.830625   \n",
       "\n",
       "   D19_BANKEN_DIREKT  ...  DSL_FLAG_1.0  UMFELD_JUNG_2.0  UMFELD_JUNG_3.0  \\\n",
       "0          -0.386287  ...      0.125003         -0.19609        -0.332542   \n",
       "1          -0.386287  ...      0.125003         -0.19609         3.007143   \n",
       "2          -0.386287  ...      0.125003         -0.19609        -0.332542   \n",
       "\n",
       "   UMFELD_JUNG_4.0  UMFELD_JUNG_5.0  MOBI_RASTER_2.0  MOBI_RASTER_3.0  \\\n",
       "0        -0.521527         0.769767        -0.361890         -0.41027   \n",
       "1        -0.521527        -1.299094        -0.361890         -0.41027   \n",
       "2        -0.521527         0.769767         2.763274         -0.41027   \n",
       "\n",
       "   MOBI_RASTER_4.0  MOBI_RASTER_5.0  MOBI_RASTER_6.0  \n",
       "0        -0.370703         2.784589          -0.1847  \n",
       "1        -0.370703        -0.359119          -0.1847  \n",
       "2        -0.370703        -0.359119          -0.1847  \n",
       "\n",
       "[3 rows x 613 columns]"
      ]
     },
     "execution_count": 131,
     "metadata": {},
     "output_type": "execute_result"
    }
   ],
   "source": [
    "# Apply scaling to X data\n",
    "scaler = StandardScaler()\n",
    "test_scaled = pd.DataFrame(scaler.fit_transform(test_cleaned), columns = test_cleaned.columns)\n",
    "test_scaled.head(3)"
   ]
  },
  {
   "cell_type": "markdown",
   "metadata": {},
   "source": [
    "### 5.2 Getting Predictions from Tuned Model"
   ]
  },
  {
   "cell_type": "code",
   "execution_count": 132,
   "metadata": {},
   "outputs": [],
   "source": [
    "# Getting predicted probabilities by Tuned GB classifier\n",
    "#probability = ensemble.predict_proba(test_scaled)\n",
    "probability = best_gb_clf.predict_proba(test_scaled)"
   ]
  },
  {
   "cell_type": "code",
   "execution_count": 133,
   "metadata": {},
   "outputs": [
    {
     "data": {
      "text/plain": [
       "array([[0.97667285, 0.02332715],\n",
       "       [0.99085004, 0.00914996],\n",
       "       [0.99461573, 0.00538427],\n",
       "       [0.99468844, 0.00531156],\n",
       "       [0.98948668, 0.01051332]])"
      ]
     },
     "execution_count": 133,
     "metadata": {},
     "output_type": "execute_result"
    }
   ],
   "source": [
    "# First 5 value in probability matris\n",
    "probability[:5]"
   ]
  },
  {
   "cell_type": "code",
   "execution_count": 134,
   "metadata": {},
   "outputs": [
    {
     "data": {
      "text/plain": [
       "RESPONSE    0.061392\n",
       "dtype: float64"
      ]
     },
     "execution_count": 134,
     "metadata": {},
     "output_type": "execute_result"
    }
   ],
   "source": [
    "# Creating response values with column 1 of probability array.\n",
    "# Column 0 indicates the probability of being label 0\n",
    "# Column 1 indicated the probability of being label 1\n",
    "probability_of_test = pd.DataFrame({\"RESPONSE\":probability[:,1]})\n",
    "probability_of_test.max()"
   ]
  },
  {
   "cell_type": "code",
   "execution_count": 135,
   "metadata": {},
   "outputs": [
    {
     "data": {
      "text/html": [
       "<div>\n",
       "<style scoped>\n",
       "    .dataframe tbody tr th:only-of-type {\n",
       "        vertical-align: middle;\n",
       "    }\n",
       "\n",
       "    .dataframe tbody tr th {\n",
       "        vertical-align: top;\n",
       "    }\n",
       "\n",
       "    .dataframe thead th {\n",
       "        text-align: right;\n",
       "    }\n",
       "</style>\n",
       "<table border=\"1\" class=\"dataframe\">\n",
       "  <thead>\n",
       "    <tr style=\"text-align: right;\">\n",
       "      <th></th>\n",
       "      <th>RESPONSE</th>\n",
       "    </tr>\n",
       "  </thead>\n",
       "  <tbody>\n",
       "    <tr>\n",
       "      <th>0</th>\n",
       "      <td>0.023327</td>\n",
       "    </tr>\n",
       "    <tr>\n",
       "      <th>1</th>\n",
       "      <td>0.009150</td>\n",
       "    </tr>\n",
       "    <tr>\n",
       "      <th>2</th>\n",
       "      <td>0.005384</td>\n",
       "    </tr>\n",
       "    <tr>\n",
       "      <th>3</th>\n",
       "      <td>0.005312</td>\n",
       "    </tr>\n",
       "    <tr>\n",
       "      <th>4</th>\n",
       "      <td>0.010513</td>\n",
       "    </tr>\n",
       "  </tbody>\n",
       "</table>\n",
       "</div>"
      ],
      "text/plain": [
       "   RESPONSE\n",
       "0  0.023327\n",
       "1  0.009150\n",
       "2  0.005384\n",
       "3  0.005312\n",
       "4  0.010513"
      ]
     },
     "execution_count": 135,
     "metadata": {},
     "output_type": "execute_result"
    }
   ],
   "source": [
    "probability_of_test.head()"
   ]
  },
  {
   "cell_type": "code",
   "execution_count": 136,
   "metadata": {},
   "outputs": [
    {
     "data": {
      "text/html": [
       "<div>\n",
       "<style scoped>\n",
       "    .dataframe tbody tr th:only-of-type {\n",
       "        vertical-align: middle;\n",
       "    }\n",
       "\n",
       "    .dataframe tbody tr th {\n",
       "        vertical-align: top;\n",
       "    }\n",
       "\n",
       "    .dataframe thead th {\n",
       "        text-align: right;\n",
       "    }\n",
       "</style>\n",
       "<table border=\"1\" class=\"dataframe\">\n",
       "  <thead>\n",
       "    <tr style=\"text-align: right;\">\n",
       "      <th></th>\n",
       "      <th>LNR</th>\n",
       "    </tr>\n",
       "  </thead>\n",
       "  <tbody>\n",
       "    <tr>\n",
       "      <th>0</th>\n",
       "      <td>1754</td>\n",
       "    </tr>\n",
       "    <tr>\n",
       "      <th>1</th>\n",
       "      <td>1770</td>\n",
       "    </tr>\n",
       "    <tr>\n",
       "      <th>2</th>\n",
       "      <td>1465</td>\n",
       "    </tr>\n",
       "    <tr>\n",
       "      <th>3</th>\n",
       "      <td>1470</td>\n",
       "    </tr>\n",
       "    <tr>\n",
       "      <th>4</th>\n",
       "      <td>1478</td>\n",
       "    </tr>\n",
       "  </tbody>\n",
       "</table>\n",
       "</div>"
      ],
      "text/plain": [
       "    LNR\n",
       "0  1754\n",
       "1  1770\n",
       "2  1465\n",
       "3  1470\n",
       "4  1478"
      ]
     },
     "execution_count": 136,
     "metadata": {},
     "output_type": "execute_result"
    }
   ],
   "source": [
    "# Loading LNR column from original test data\n",
    "LNR = pd.read_csv(r\"U:\\arvato_data\\Udacity_MAILOUT_052018_TEST.csv\", \n",
    "                     delimiter=\";\", usecols = [\"LNR\"])\n",
    "LNR.head()"
   ]
  },
  {
   "cell_type": "code",
   "execution_count": 137,
   "metadata": {},
   "outputs": [
    {
     "data": {
      "text/html": [
       "<div>\n",
       "<style scoped>\n",
       "    .dataframe tbody tr th:only-of-type {\n",
       "        vertical-align: middle;\n",
       "    }\n",
       "\n",
       "    .dataframe tbody tr th {\n",
       "        vertical-align: top;\n",
       "    }\n",
       "\n",
       "    .dataframe thead th {\n",
       "        text-align: right;\n",
       "    }\n",
       "</style>\n",
       "<table border=\"1\" class=\"dataframe\">\n",
       "  <thead>\n",
       "    <tr style=\"text-align: right;\">\n",
       "      <th></th>\n",
       "      <th>LNR</th>\n",
       "      <th>RESPONSE</th>\n",
       "    </tr>\n",
       "  </thead>\n",
       "  <tbody>\n",
       "    <tr>\n",
       "      <th>0</th>\n",
       "      <td>1754</td>\n",
       "      <td>0.023327</td>\n",
       "    </tr>\n",
       "    <tr>\n",
       "      <th>1</th>\n",
       "      <td>1770</td>\n",
       "      <td>0.009150</td>\n",
       "    </tr>\n",
       "    <tr>\n",
       "      <th>2</th>\n",
       "      <td>1465</td>\n",
       "      <td>0.005384</td>\n",
       "    </tr>\n",
       "    <tr>\n",
       "      <th>3</th>\n",
       "      <td>1470</td>\n",
       "      <td>0.005312</td>\n",
       "    </tr>\n",
       "    <tr>\n",
       "      <th>4</th>\n",
       "      <td>1478</td>\n",
       "      <td>0.010513</td>\n",
       "    </tr>\n",
       "  </tbody>\n",
       "</table>\n",
       "</div>"
      ],
      "text/plain": [
       "    LNR  RESPONSE\n",
       "0  1754  0.023327\n",
       "1  1770  0.009150\n",
       "2  1465  0.005384\n",
       "3  1470  0.005312\n",
       "4  1478  0.010513"
      ]
     },
     "execution_count": 137,
     "metadata": {},
     "output_type": "execute_result"
    }
   ],
   "source": [
    "# Creating Kaggle data\n",
    "kaggle = pd.concat([LNR, probability_of_test], axis = 1)\n",
    "kaggle.head()"
   ]
  },
  {
   "cell_type": "code",
   "execution_count": 138,
   "metadata": {},
   "outputs": [
    {
     "data": {
      "text/plain": [
       "array([0.02332715, 0.00914996, 0.00538427, ..., 0.00828591, 0.00701634,\n",
       "       0.01080661])"
      ]
     },
     "execution_count": 138,
     "metadata": {},
     "output_type": "execute_result"
    }
   ],
   "source": [
    "kaggle.RESPONSE.unique()"
   ]
  },
  {
   "cell_type": "code",
   "execution_count": 139,
   "metadata": {},
   "outputs": [],
   "source": [
    "kaggle.to_csv(r\"U:\\arvato_data\\kaggle.csv\", index = False)"
   ]
  },
  {
   "cell_type": "markdown",
   "metadata": {},
   "source": [
    "#### With above submission, achieved public score is 0.606."
   ]
  }
 ],
 "metadata": {
  "kernelspec": {
   "display_name": "Python 3",
   "language": "python",
   "name": "python3"
  },
  "language_info": {
   "codemirror_mode": {
    "name": "ipython",
    "version": 3
   },
   "file_extension": ".py",
   "mimetype": "text/x-python",
   "name": "python",
   "nbconvert_exporter": "python",
   "pygments_lexer": "ipython3",
   "version": "3.7.3"
  }
 },
 "nbformat": 4,
 "nbformat_minor": 4
}
