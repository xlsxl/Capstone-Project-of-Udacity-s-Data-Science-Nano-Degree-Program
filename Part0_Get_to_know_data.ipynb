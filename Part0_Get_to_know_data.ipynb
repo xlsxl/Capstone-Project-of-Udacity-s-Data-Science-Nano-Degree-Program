{
 "cells": [
  {
   "cell_type": "markdown",
   "metadata": {},
   "source": [
    "# Capstone Project: <br>\n",
    "# Create a Customer Segmentation Report for Arvato Financial Services"
   ]
  },
  {
   "cell_type": "markdown",
   "metadata": {},
   "source": [
    "### Table of Content\n",
    "\n",
    "1. Introduction\n",
    "2. Part 0: Get to Know the Data<br>\n",
    "    2.1 Import Libraries and Load the Data<br>\n",
    "        2.1.1 Import Libraries\n",
    "        2.1.2 Load Demographics Data for general German population\n",
    "        2.1.3 Load Demographics Data for Customers of a Mail-order Company\n",
    "        2.1.4 Load Excel file : DIAS Attributes - Values 2017.xlsx\n",
    "    2.2 Cleaning the Data<br>\n",
    "        2.2.1 Explore the columns not exist in attributes excel file but exist in azdias\n",
    "            2.2.1.1 Attributes specified as non-numeric\n",
    "            2.2.1.2 Attributes specified as numeric\n",
    "        2.2.2 Explore the common columns exist both in azdias and excel file\n",
    "            2.2.2.1 Non-numeric specified columns in commons\n",
    "            2.2.2.2 Numeric specified columns in commons\n",
    "        2.2.3 Explore whole azdias data, check unkowns\n",
    "    2.3 Handle Missing Data<br>\n",
    "        2.3.1 Handle Missing Data in columns<br>\n",
    "        2.3.2 Handle Missing Data in Rows<br>\n",
    "        2.3.3 Imputation of Missing Values<br>\n",
    "    2.4 Handling Outliers<br>\n",
    "    2.5 Feature Encoding<br>\n",
    "    2.6 Define a function to clean Customer data<br>\n",
    "    2.7 Feature Scaling of Azdias and Customer Data<br>\n",
    "    2.8 Cleanign Train and Test Data<br>\n",
    "        2.8.1 Train Data<br>\n",
    "        2.8.2 Test Data<br>\n",
    "3. Part 1: Customer Segmentation Report <br>\n",
    "    3.1 Perform PCA - Principal Component Analysis<br>\n",
    "    3.2 Interpretation of Principal Components<br>\n",
    "    3.3 Perform K-Means Clustering\n",
    "    <br>\n",
    "    \n",
    "4. Part 2: Supervised Learning Model<br>\n",
    "    4.1 Import Libraries and Load Datas<br>\n",
    "    4.2 Feature Scaling of Train Data<br>\n",
    "    4.3 Building Classification Model<br>\n",
    "    4.4 Hyperparameter tuning of Gradient Boosting Classifer\n",
    "    <br>\n",
    "    \n",
    "5. Part 3: Kaggle Competition<br>\n",
    "    5.1 Feature Scaling of Test Data<br>\n",
    "    5.2 Getting Predictions from Tuned Model\n"
   ]
  },
  {
   "cell_type": "markdown",
   "metadata": {},
   "source": [
    "## 1. Introduction"
   ]
  },
  {
   "cell_type": "markdown",
   "metadata": {},
   "source": [
    "In this project, you will analyze demographics data for customers of a mail-order sales company in Germany, comparing it against demographics information for the general population. You'll use unsupervised learning techniques to perform customer segmentation, identifying the parts of the population that best describe the core customer base of the company. Then, you'll apply what you've learned on a third dataset with demographics information for targets of a marketing campaign for the company, and use a model to predict which individuals are most likely to convert into becoming customers for the company. The data that you will use has been provided by our partners at Bertelsmann Arvato Analytics, and represents a real-life data science task.\n",
    "\n",
    "If you completed the first term of this program, you will be familiar with the first part of this project, from the unsupervised learning project. The versions of those two datasets used in this project will include many more features and has not been pre-cleaned. You are also free to choose whatever approach you'd like to analyzing the data rather than follow pre-determined steps. In your work on this project, make sure that you carefully document your steps and decisions, since your main deliverable for this project will be a blog post reporting your findings."
   ]
  },
  {
   "cell_type": "markdown",
   "metadata": {},
   "source": [
    "## 2. Part 0: Get to Know the Data"
   ]
  },
  {
   "cell_type": "markdown",
   "metadata": {},
   "source": [
    "There are four data files associated with this project:\n",
    "\n",
    "- `Udacity_AZDIAS_052018.csv`: Demographics data for the general population of Germany; 891 211 persons (rows) x 366 features (columns).\n",
    "- `Udacity_CUSTOMERS_052018.csv`: Demographics data for customers of a mail-order company; 191 652 persons (rows) x 369 features (columns).\n",
    "- `Udacity_MAILOUT_052018_TRAIN.csv`: Demographics data for individuals who were targets of a marketing campaign; 42 982 persons (rows) x 367 (columns).\n",
    "- `Udacity_MAILOUT_052018_TEST.csv`: Demographics data for individuals who were targets of a marketing campaign; 42 833 persons (rows) x 366 (columns).\n",
    "\n",
    "Each row of the demographics files represents a single person, but also includes information outside of individuals, including information about their household, building, and neighborhood. Use the information from the first two files to figure out how customers (\"CUSTOMERS\") are similar to or differ from the general population at large (\"AZDIAS\"), then use your analysis to make predictions on the other two files (\"MAILOUT\"), predicting which recipients are most likely to become a customer for the mail-order company.\n",
    "\n",
    "The \"CUSTOMERS\" file contains three extra columns ('CUSTOMER_GROUP', 'ONLINE_PURCHASE', and 'PRODUCT_GROUP'), which provide broad information about the customers depicted in the file. The original \"MAILOUT\" file included one additional column, \"RESPONSE\", which indicated whether or not each recipient became a customer of the company. For the \"TRAIN\" subset, this column has been retained, but in the \"TEST\" subset it has been removed; it is against that withheld column that your final predictions will be assessed in the Kaggle competition.\n",
    "\n",
    "Otherwise, all of the remaining columns are the same between the three data files. For more information about the columns depicted in the files, you can refer to two Excel spreadsheets provided in the workspace. [One of them](./DIAS Information Levels - Attributes 2017.xlsx) is a top-level list of attributes and descriptions, organized by informational category. [The other](./DIAS Attributes - Values 2017.xlsx) is a detailed mapping of data values for each feature in alphabetical order.\n",
    "\n",
    "In the below cell, we've provided some initial code to load in the first two datasets. Note for all of the `.csv` data files in this project that they're semicolon (`;`) delimited, so an additional argument in the [`read_csv()`](https://pandas.pydata.org/pandas-docs/stable/generated/pandas.read_csv.html) call has been included to read in the data properly. Also, considering the size of the datasets, it may take some time for them to load completely.\n",
    "\n",
    "You'll notice when the data is loaded in that a warning message will immediately pop up. Before you really start digging into the modeling and analysis, you're going to need to perform some cleaning. Take some time to browse the structure of the data and look over the informational spreadsheets to understand the data values. Make some decisions on which features to keep, which features to drop, and if any revisions need to be made on data formats. It'll be a good idea to create a function with pre-processing steps, since you'll need to clean all of the datasets before you work with them."
   ]
  },
  {
   "cell_type": "markdown",
   "metadata": {},
   "source": [
    "### 2.1 Import Libraries and Load the Data"
   ]
  },
  {
   "cell_type": "markdown",
   "metadata": {},
   "source": [
    "#### 2.1.1 Import Libraries"
   ]
  },
  {
   "cell_type": "code",
   "execution_count": 2,
   "metadata": {},
   "outputs": [],
   "source": [
    "import pandas as pd\n",
    "import numpy as np\n",
    "import matplotlib.pyplot as plt\n",
    "\n",
    "import pickle\n",
    "\n",
    "from collections import Counter\n",
    "from sklearn.preprocessing import StandardScaler\n"
   ]
  },
  {
   "cell_type": "markdown",
   "metadata": {},
   "source": [
    "#### 2.1.2 Load Demographics Data for general German population"
   ]
  },
  {
   "cell_type": "code",
   "execution_count": 3,
   "metadata": {},
   "outputs": [
    {
     "name": "stderr",
     "output_type": "stream",
     "text": [
      "C:\\ProgramData\\Anaconda3\\lib\\site-packages\\IPython\\core\\interactiveshell.py:3072: DtypeWarning: Columns (18,19) have mixed types.Specify dtype option on import or set low_memory=False.\n",
      "  interactivity=interactivity, compiler=compiler, result=result)\n"
     ]
    }
   ],
   "source": [
    "# Read the data of Udacity_AZDIAS_052018.csv : Demographics data for the general population of Germany\n",
    "azdias = pd.read_csv(r\"U:\\arvato_data\\Udacity_AZDIAS_052018.csv\",delimiter=\";\")"
   ]
  },
  {
   "cell_type": "markdown",
   "metadata": {},
   "source": [
    "Above data type warning occured during file reading.<br>\n",
    "There are mixed type data under Columns 18 and 19; i want to look at the unique values under the columns:"
   ]
  },
  {
   "cell_type": "code",
   "execution_count": 4,
   "metadata": {},
   "outputs": [
    {
     "name": "stdout",
     "output_type": "stream",
     "text": [
      "column 18 : CAMEO_DEUG_2015\n"
     ]
    },
    {
     "data": {
      "text/plain": [
       "array([nan, 8.0, 4.0, 2.0, 6.0, 1.0, 9.0, 5.0, 7.0, 3.0, '4', '3', '7',\n",
       "       '2', '8', '9', '6', '5', '1', 'X'], dtype=object)"
      ]
     },
     "execution_count": 4,
     "metadata": {},
     "output_type": "execute_result"
    }
   ],
   "source": [
    "print(\"column 18 :\",azdias.columns[18])\n",
    "#Unique values\n",
    "azdias[azdias.columns[18]].unique()"
   ]
  },
  {
   "cell_type": "code",
   "execution_count": 5,
   "metadata": {},
   "outputs": [
    {
     "name": "stdout",
     "output_type": "stream",
     "text": [
      "column 19 : CAMEO_INTL_2015\n"
     ]
    },
    {
     "data": {
      "text/plain": [
       "array([nan, 51.0, 24.0, 12.0, 43.0, 54.0, 22.0, 14.0, 13.0, 15.0, 33.0,\n",
       "       41.0, 34.0, 55.0, 25.0, 23.0, 31.0, 52.0, 35.0, 45.0, 44.0, 32.0,\n",
       "       '22', '24', '41', '12', '54', '51', '44', '35', '23', '25', '14',\n",
       "       '34', '52', '55', '31', '32', '15', '13', '43', '33', '45', 'XX'],\n",
       "      dtype=object)"
      ]
     },
     "execution_count": 5,
     "metadata": {},
     "output_type": "execute_result"
    }
   ],
   "source": [
    "print(\"column 19 :\",azdias.columns[19])\n",
    "# Unique values\n",
    "azdias[azdias.columns[19]].unique()"
   ]
  },
  {
   "cell_type": "markdown",
   "metadata": {},
   "source": [
    "There are numerical and string values mixed under the columns.<br>\n",
    "I will specify the datatypes as str for those type while reading the file."
   ]
  },
  {
   "cell_type": "code",
   "execution_count": 5,
   "metadata": {},
   "outputs": [],
   "source": [
    "azdias = pd.read_csv(r\"U:\\arvato_data\\Udacity_AZDIAS_052018.csv\", \n",
    "                     delimiter=\";\",\n",
    "                    dtype = {\"CAMEO_DEUG_2015\": \"str\",\"CAMEO_INTL_2015\": \"str\" })"
   ]
  },
  {
   "cell_type": "code",
   "execution_count": 6,
   "metadata": {},
   "outputs": [
    {
     "data": {
      "text/html": [
       "<div>\n",
       "<style scoped>\n",
       "    .dataframe tbody tr th:only-of-type {\n",
       "        vertical-align: middle;\n",
       "    }\n",
       "\n",
       "    .dataframe tbody tr th {\n",
       "        vertical-align: top;\n",
       "    }\n",
       "\n",
       "    .dataframe thead th {\n",
       "        text-align: right;\n",
       "    }\n",
       "</style>\n",
       "<table border=\"1\" class=\"dataframe\">\n",
       "  <thead>\n",
       "    <tr style=\"text-align: right;\">\n",
       "      <th></th>\n",
       "      <th>LNR</th>\n",
       "      <th>AGER_TYP</th>\n",
       "      <th>AKT_DAT_KL</th>\n",
       "      <th>ALTER_HH</th>\n",
       "      <th>ALTER_KIND1</th>\n",
       "      <th>ALTER_KIND2</th>\n",
       "      <th>ALTER_KIND3</th>\n",
       "      <th>ALTER_KIND4</th>\n",
       "      <th>ALTERSKATEGORIE_FEIN</th>\n",
       "      <th>ANZ_HAUSHALTE_AKTIV</th>\n",
       "      <th>...</th>\n",
       "      <th>VHN</th>\n",
       "      <th>VK_DHT4A</th>\n",
       "      <th>VK_DISTANZ</th>\n",
       "      <th>VK_ZG11</th>\n",
       "      <th>W_KEIT_KIND_HH</th>\n",
       "      <th>WOHNDAUER_2008</th>\n",
       "      <th>WOHNLAGE</th>\n",
       "      <th>ZABEOTYP</th>\n",
       "      <th>ANREDE_KZ</th>\n",
       "      <th>ALTERSKATEGORIE_GROB</th>\n",
       "    </tr>\n",
       "  </thead>\n",
       "  <tbody>\n",
       "    <tr>\n",
       "      <th>0</th>\n",
       "      <td>910215</td>\n",
       "      <td>-1</td>\n",
       "      <td>NaN</td>\n",
       "      <td>NaN</td>\n",
       "      <td>NaN</td>\n",
       "      <td>NaN</td>\n",
       "      <td>NaN</td>\n",
       "      <td>NaN</td>\n",
       "      <td>NaN</td>\n",
       "      <td>NaN</td>\n",
       "      <td>...</td>\n",
       "      <td>NaN</td>\n",
       "      <td>NaN</td>\n",
       "      <td>NaN</td>\n",
       "      <td>NaN</td>\n",
       "      <td>NaN</td>\n",
       "      <td>NaN</td>\n",
       "      <td>NaN</td>\n",
       "      <td>3</td>\n",
       "      <td>1</td>\n",
       "      <td>2</td>\n",
       "    </tr>\n",
       "    <tr>\n",
       "      <th>1</th>\n",
       "      <td>910220</td>\n",
       "      <td>-1</td>\n",
       "      <td>9.0</td>\n",
       "      <td>0.0</td>\n",
       "      <td>NaN</td>\n",
       "      <td>NaN</td>\n",
       "      <td>NaN</td>\n",
       "      <td>NaN</td>\n",
       "      <td>21.0</td>\n",
       "      <td>11.0</td>\n",
       "      <td>...</td>\n",
       "      <td>4.0</td>\n",
       "      <td>8.0</td>\n",
       "      <td>11.0</td>\n",
       "      <td>10.0</td>\n",
       "      <td>3.0</td>\n",
       "      <td>9.0</td>\n",
       "      <td>4.0</td>\n",
       "      <td>5</td>\n",
       "      <td>2</td>\n",
       "      <td>1</td>\n",
       "    </tr>\n",
       "    <tr>\n",
       "      <th>2</th>\n",
       "      <td>910225</td>\n",
       "      <td>-1</td>\n",
       "      <td>9.0</td>\n",
       "      <td>17.0</td>\n",
       "      <td>NaN</td>\n",
       "      <td>NaN</td>\n",
       "      <td>NaN</td>\n",
       "      <td>NaN</td>\n",
       "      <td>17.0</td>\n",
       "      <td>10.0</td>\n",
       "      <td>...</td>\n",
       "      <td>2.0</td>\n",
       "      <td>9.0</td>\n",
       "      <td>9.0</td>\n",
       "      <td>6.0</td>\n",
       "      <td>3.0</td>\n",
       "      <td>9.0</td>\n",
       "      <td>2.0</td>\n",
       "      <td>5</td>\n",
       "      <td>2</td>\n",
       "      <td>3</td>\n",
       "    </tr>\n",
       "    <tr>\n",
       "      <th>3</th>\n",
       "      <td>910226</td>\n",
       "      <td>2</td>\n",
       "      <td>1.0</td>\n",
       "      <td>13.0</td>\n",
       "      <td>NaN</td>\n",
       "      <td>NaN</td>\n",
       "      <td>NaN</td>\n",
       "      <td>NaN</td>\n",
       "      <td>13.0</td>\n",
       "      <td>1.0</td>\n",
       "      <td>...</td>\n",
       "      <td>0.0</td>\n",
       "      <td>7.0</td>\n",
       "      <td>10.0</td>\n",
       "      <td>11.0</td>\n",
       "      <td>NaN</td>\n",
       "      <td>9.0</td>\n",
       "      <td>7.0</td>\n",
       "      <td>3</td>\n",
       "      <td>2</td>\n",
       "      <td>4</td>\n",
       "    </tr>\n",
       "    <tr>\n",
       "      <th>4</th>\n",
       "      <td>910241</td>\n",
       "      <td>-1</td>\n",
       "      <td>1.0</td>\n",
       "      <td>20.0</td>\n",
       "      <td>NaN</td>\n",
       "      <td>NaN</td>\n",
       "      <td>NaN</td>\n",
       "      <td>NaN</td>\n",
       "      <td>14.0</td>\n",
       "      <td>3.0</td>\n",
       "      <td>...</td>\n",
       "      <td>2.0</td>\n",
       "      <td>3.0</td>\n",
       "      <td>5.0</td>\n",
       "      <td>4.0</td>\n",
       "      <td>2.0</td>\n",
       "      <td>9.0</td>\n",
       "      <td>3.0</td>\n",
       "      <td>4</td>\n",
       "      <td>1</td>\n",
       "      <td>3</td>\n",
       "    </tr>\n",
       "  </tbody>\n",
       "</table>\n",
       "<p>5 rows × 366 columns</p>\n",
       "</div>"
      ],
      "text/plain": [
       "      LNR  AGER_TYP  AKT_DAT_KL  ALTER_HH  ALTER_KIND1  ALTER_KIND2  \\\n",
       "0  910215        -1         NaN       NaN          NaN          NaN   \n",
       "1  910220        -1         9.0       0.0          NaN          NaN   \n",
       "2  910225        -1         9.0      17.0          NaN          NaN   \n",
       "3  910226         2         1.0      13.0          NaN          NaN   \n",
       "4  910241        -1         1.0      20.0          NaN          NaN   \n",
       "\n",
       "   ALTER_KIND3  ALTER_KIND4  ALTERSKATEGORIE_FEIN  ANZ_HAUSHALTE_AKTIV  ...  \\\n",
       "0          NaN          NaN                   NaN                  NaN  ...   \n",
       "1          NaN          NaN                  21.0                 11.0  ...   \n",
       "2          NaN          NaN                  17.0                 10.0  ...   \n",
       "3          NaN          NaN                  13.0                  1.0  ...   \n",
       "4          NaN          NaN                  14.0                  3.0  ...   \n",
       "\n",
       "   VHN  VK_DHT4A  VK_DISTANZ  VK_ZG11  W_KEIT_KIND_HH  WOHNDAUER_2008  \\\n",
       "0  NaN       NaN         NaN      NaN             NaN             NaN   \n",
       "1  4.0       8.0        11.0     10.0             3.0             9.0   \n",
       "2  2.0       9.0         9.0      6.0             3.0             9.0   \n",
       "3  0.0       7.0        10.0     11.0             NaN             9.0   \n",
       "4  2.0       3.0         5.0      4.0             2.0             9.0   \n",
       "\n",
       "   WOHNLAGE ZABEOTYP ANREDE_KZ ALTERSKATEGORIE_GROB  \n",
       "0       NaN        3         1                    2  \n",
       "1       4.0        5         2                    1  \n",
       "2       2.0        5         2                    3  \n",
       "3       7.0        3         2                    4  \n",
       "4       3.0        4         1                    3  \n",
       "\n",
       "[5 rows x 366 columns]"
      ]
     },
     "execution_count": 6,
     "metadata": {},
     "output_type": "execute_result"
    }
   ],
   "source": [
    "# Show head\n",
    "azdias.head()"
   ]
  },
  {
   "cell_type": "code",
   "execution_count": 7,
   "metadata": {},
   "outputs": [
    {
     "name": "stdout",
     "output_type": "stream",
     "text": [
      "Count of rows in azdias : 891221\n",
      "Count of columns in azdias : 366\n"
     ]
    }
   ],
   "source": [
    "print(\"Count of rows in azdias :\", azdias.shape[0])\n",
    "print(\"Count of columns in azdias :\", azdias.shape[1])"
   ]
  },
  {
   "cell_type": "markdown",
   "metadata": {},
   "source": [
    "#### 2.1.3 Load Demographics Data for Customers of a Mail-order Company"
   ]
  },
  {
   "cell_type": "code",
   "execution_count": 8,
   "metadata": {},
   "outputs": [],
   "source": [
    "# Read the data of Udacity_CUSTOMERS_052018.csv : Demographics data for customers of a mail-order company\n",
    "customers = pd.read_csv(r\"U:\\arvato_data\\Udacity_CUSTOMERS_052018.csv\", \n",
    "                     delimiter=\";\",\n",
    "                    dtype = {\"CAMEO_DEUG_2015\": \"str\",\"CAMEO_INTL_2015\": \"str\" })"
   ]
  },
  {
   "cell_type": "code",
   "execution_count": 9,
   "metadata": {},
   "outputs": [
    {
     "data": {
      "text/html": [
       "<div>\n",
       "<style scoped>\n",
       "    .dataframe tbody tr th:only-of-type {\n",
       "        vertical-align: middle;\n",
       "    }\n",
       "\n",
       "    .dataframe tbody tr th {\n",
       "        vertical-align: top;\n",
       "    }\n",
       "\n",
       "    .dataframe thead th {\n",
       "        text-align: right;\n",
       "    }\n",
       "</style>\n",
       "<table border=\"1\" class=\"dataframe\">\n",
       "  <thead>\n",
       "    <tr style=\"text-align: right;\">\n",
       "      <th></th>\n",
       "      <th>LNR</th>\n",
       "      <th>AGER_TYP</th>\n",
       "      <th>AKT_DAT_KL</th>\n",
       "      <th>ALTER_HH</th>\n",
       "      <th>ALTER_KIND1</th>\n",
       "      <th>ALTER_KIND2</th>\n",
       "      <th>ALTER_KIND3</th>\n",
       "      <th>ALTER_KIND4</th>\n",
       "      <th>ALTERSKATEGORIE_FEIN</th>\n",
       "      <th>ANZ_HAUSHALTE_AKTIV</th>\n",
       "      <th>...</th>\n",
       "      <th>VK_ZG11</th>\n",
       "      <th>W_KEIT_KIND_HH</th>\n",
       "      <th>WOHNDAUER_2008</th>\n",
       "      <th>WOHNLAGE</th>\n",
       "      <th>ZABEOTYP</th>\n",
       "      <th>PRODUCT_GROUP</th>\n",
       "      <th>CUSTOMER_GROUP</th>\n",
       "      <th>ONLINE_PURCHASE</th>\n",
       "      <th>ANREDE_KZ</th>\n",
       "      <th>ALTERSKATEGORIE_GROB</th>\n",
       "    </tr>\n",
       "  </thead>\n",
       "  <tbody>\n",
       "    <tr>\n",
       "      <th>0</th>\n",
       "      <td>9626</td>\n",
       "      <td>2</td>\n",
       "      <td>1.0</td>\n",
       "      <td>10.0</td>\n",
       "      <td>NaN</td>\n",
       "      <td>NaN</td>\n",
       "      <td>NaN</td>\n",
       "      <td>NaN</td>\n",
       "      <td>10.0</td>\n",
       "      <td>1.0</td>\n",
       "      <td>...</td>\n",
       "      <td>2.0</td>\n",
       "      <td>6.0</td>\n",
       "      <td>9.0</td>\n",
       "      <td>7.0</td>\n",
       "      <td>3</td>\n",
       "      <td>COSMETIC_AND_FOOD</td>\n",
       "      <td>MULTI_BUYER</td>\n",
       "      <td>0</td>\n",
       "      <td>1</td>\n",
       "      <td>4</td>\n",
       "    </tr>\n",
       "    <tr>\n",
       "      <th>1</th>\n",
       "      <td>9628</td>\n",
       "      <td>-1</td>\n",
       "      <td>9.0</td>\n",
       "      <td>11.0</td>\n",
       "      <td>NaN</td>\n",
       "      <td>NaN</td>\n",
       "      <td>NaN</td>\n",
       "      <td>NaN</td>\n",
       "      <td>NaN</td>\n",
       "      <td>NaN</td>\n",
       "      <td>...</td>\n",
       "      <td>3.0</td>\n",
       "      <td>0.0</td>\n",
       "      <td>9.0</td>\n",
       "      <td>NaN</td>\n",
       "      <td>3</td>\n",
       "      <td>FOOD</td>\n",
       "      <td>SINGLE_BUYER</td>\n",
       "      <td>0</td>\n",
       "      <td>1</td>\n",
       "      <td>4</td>\n",
       "    </tr>\n",
       "    <tr>\n",
       "      <th>2</th>\n",
       "      <td>143872</td>\n",
       "      <td>-1</td>\n",
       "      <td>1.0</td>\n",
       "      <td>6.0</td>\n",
       "      <td>NaN</td>\n",
       "      <td>NaN</td>\n",
       "      <td>NaN</td>\n",
       "      <td>NaN</td>\n",
       "      <td>0.0</td>\n",
       "      <td>1.0</td>\n",
       "      <td>...</td>\n",
       "      <td>11.0</td>\n",
       "      <td>6.0</td>\n",
       "      <td>9.0</td>\n",
       "      <td>2.0</td>\n",
       "      <td>3</td>\n",
       "      <td>COSMETIC_AND_FOOD</td>\n",
       "      <td>MULTI_BUYER</td>\n",
       "      <td>0</td>\n",
       "      <td>2</td>\n",
       "      <td>4</td>\n",
       "    </tr>\n",
       "    <tr>\n",
       "      <th>3</th>\n",
       "      <td>143873</td>\n",
       "      <td>1</td>\n",
       "      <td>1.0</td>\n",
       "      <td>8.0</td>\n",
       "      <td>NaN</td>\n",
       "      <td>NaN</td>\n",
       "      <td>NaN</td>\n",
       "      <td>NaN</td>\n",
       "      <td>8.0</td>\n",
       "      <td>0.0</td>\n",
       "      <td>...</td>\n",
       "      <td>2.0</td>\n",
       "      <td>NaN</td>\n",
       "      <td>9.0</td>\n",
       "      <td>7.0</td>\n",
       "      <td>1</td>\n",
       "      <td>COSMETIC</td>\n",
       "      <td>MULTI_BUYER</td>\n",
       "      <td>0</td>\n",
       "      <td>1</td>\n",
       "      <td>4</td>\n",
       "    </tr>\n",
       "    <tr>\n",
       "      <th>4</th>\n",
       "      <td>143874</td>\n",
       "      <td>-1</td>\n",
       "      <td>1.0</td>\n",
       "      <td>20.0</td>\n",
       "      <td>NaN</td>\n",
       "      <td>NaN</td>\n",
       "      <td>NaN</td>\n",
       "      <td>NaN</td>\n",
       "      <td>14.0</td>\n",
       "      <td>7.0</td>\n",
       "      <td>...</td>\n",
       "      <td>4.0</td>\n",
       "      <td>2.0</td>\n",
       "      <td>9.0</td>\n",
       "      <td>3.0</td>\n",
       "      <td>1</td>\n",
       "      <td>FOOD</td>\n",
       "      <td>MULTI_BUYER</td>\n",
       "      <td>0</td>\n",
       "      <td>1</td>\n",
       "      <td>3</td>\n",
       "    </tr>\n",
       "  </tbody>\n",
       "</table>\n",
       "<p>5 rows × 369 columns</p>\n",
       "</div>"
      ],
      "text/plain": [
       "      LNR  AGER_TYP  AKT_DAT_KL  ALTER_HH  ALTER_KIND1  ALTER_KIND2  \\\n",
       "0    9626         2         1.0      10.0          NaN          NaN   \n",
       "1    9628        -1         9.0      11.0          NaN          NaN   \n",
       "2  143872        -1         1.0       6.0          NaN          NaN   \n",
       "3  143873         1         1.0       8.0          NaN          NaN   \n",
       "4  143874        -1         1.0      20.0          NaN          NaN   \n",
       "\n",
       "   ALTER_KIND3  ALTER_KIND4  ALTERSKATEGORIE_FEIN  ANZ_HAUSHALTE_AKTIV  ...  \\\n",
       "0          NaN          NaN                  10.0                  1.0  ...   \n",
       "1          NaN          NaN                   NaN                  NaN  ...   \n",
       "2          NaN          NaN                   0.0                  1.0  ...   \n",
       "3          NaN          NaN                   8.0                  0.0  ...   \n",
       "4          NaN          NaN                  14.0                  7.0  ...   \n",
       "\n",
       "   VK_ZG11  W_KEIT_KIND_HH  WOHNDAUER_2008  WOHNLAGE  ZABEOTYP  \\\n",
       "0      2.0             6.0             9.0       7.0         3   \n",
       "1      3.0             0.0             9.0       NaN         3   \n",
       "2     11.0             6.0             9.0       2.0         3   \n",
       "3      2.0             NaN             9.0       7.0         1   \n",
       "4      4.0             2.0             9.0       3.0         1   \n",
       "\n",
       "       PRODUCT_GROUP  CUSTOMER_GROUP ONLINE_PURCHASE ANREDE_KZ  \\\n",
       "0  COSMETIC_AND_FOOD     MULTI_BUYER               0         1   \n",
       "1               FOOD    SINGLE_BUYER               0         1   \n",
       "2  COSMETIC_AND_FOOD     MULTI_BUYER               0         2   \n",
       "3           COSMETIC     MULTI_BUYER               0         1   \n",
       "4               FOOD     MULTI_BUYER               0         1   \n",
       "\n",
       "  ALTERSKATEGORIE_GROB  \n",
       "0                    4  \n",
       "1                    4  \n",
       "2                    4  \n",
       "3                    4  \n",
       "4                    3  \n",
       "\n",
       "[5 rows x 369 columns]"
      ]
     },
     "execution_count": 9,
     "metadata": {},
     "output_type": "execute_result"
    }
   ],
   "source": [
    "# Show head\n",
    "customers.head()"
   ]
  },
  {
   "cell_type": "code",
   "execution_count": 10,
   "metadata": {},
   "outputs": [
    {
     "name": "stdout",
     "output_type": "stream",
     "text": [
      "Count of rows in customers : 191652\n",
      "Count of columns in customers : 369\n"
     ]
    }
   ],
   "source": [
    "print(\"Count of rows in customers :\", customers.shape[0])\n",
    "print(\"Count of columns in customers :\", customers.shape[1])"
   ]
  },
  {
   "cell_type": "code",
   "execution_count": 11,
   "metadata": {},
   "outputs": [
    {
     "data": {
      "text/plain": [
       "['PRODUCT_GROUP', 'CUSTOMER_GROUP', 'ONLINE_PURCHASE']"
      ]
     },
     "execution_count": 11,
     "metadata": {},
     "output_type": "execute_result"
    }
   ],
   "source": [
    "# Columns that exist in customers but not exist in azdias\n",
    "azdias_col = azdias.columns.values.tolist()\n",
    "customers_col = customers.columns.values.tolist()\n",
    "list(set.difference(set(customers_col), set(azdias_col)))"
   ]
  },
  {
   "cell_type": "markdown",
   "metadata": {},
   "source": [
    "I will drop those three columns from \"customers\" data:"
   ]
  },
  {
   "cell_type": "code",
   "execution_count": 12,
   "metadata": {},
   "outputs": [],
   "source": [
    "customers.drop(list(set.difference(set(customers_col), set(azdias_col))), axis = 1, inplace = True)"
   ]
  },
  {
   "cell_type": "markdown",
   "metadata": {},
   "source": [
    "#### 2.1.4 Load Excel file : DIAS Attributes - Values 2017.xlsx"
   ]
  },
  {
   "cell_type": "markdown",
   "metadata": {},
   "source": [
    "Originally this file did not contain \"Dtype\" column.<br>\n",
    "I manually went through all file and define if the column has categorical, ordinal or numerical data.<br>\n",
    "I will use those info afterward when it is required.                                                       "
   ]
  },
  {
   "cell_type": "code",
   "execution_count": 13,
   "metadata": {},
   "outputs": [
    {
     "data": {
      "text/html": [
       "<div>\n",
       "<style scoped>\n",
       "    .dataframe tbody tr th:only-of-type {\n",
       "        vertical-align: middle;\n",
       "    }\n",
       "\n",
       "    .dataframe tbody tr th {\n",
       "        vertical-align: top;\n",
       "    }\n",
       "\n",
       "    .dataframe thead th {\n",
       "        text-align: right;\n",
       "    }\n",
       "</style>\n",
       "<table border=\"1\" class=\"dataframe\">\n",
       "  <thead>\n",
       "    <tr style=\"text-align: right;\">\n",
       "      <th></th>\n",
       "      <th>Attribute</th>\n",
       "      <th>Description</th>\n",
       "      <th>Dtype</th>\n",
       "      <th>Value</th>\n",
       "      <th>Meaning</th>\n",
       "    </tr>\n",
       "  </thead>\n",
       "  <tbody>\n",
       "    <tr>\n",
       "      <th>0</th>\n",
       "      <td>AGER_TYP</td>\n",
       "      <td>best-ager typology</td>\n",
       "      <td>categorical</td>\n",
       "      <td>-1</td>\n",
       "      <td>unknown</td>\n",
       "    </tr>\n",
       "    <tr>\n",
       "      <th>1</th>\n",
       "      <td>NaN</td>\n",
       "      <td>NaN</td>\n",
       "      <td>NaN</td>\n",
       "      <td>0</td>\n",
       "      <td>no classification possible</td>\n",
       "    </tr>\n",
       "    <tr>\n",
       "      <th>2</th>\n",
       "      <td>NaN</td>\n",
       "      <td>NaN</td>\n",
       "      <td>NaN</td>\n",
       "      <td>1</td>\n",
       "      <td>passive elderly</td>\n",
       "    </tr>\n",
       "    <tr>\n",
       "      <th>3</th>\n",
       "      <td>NaN</td>\n",
       "      <td>NaN</td>\n",
       "      <td>NaN</td>\n",
       "      <td>2</td>\n",
       "      <td>cultural elderly</td>\n",
       "    </tr>\n",
       "    <tr>\n",
       "      <th>4</th>\n",
       "      <td>NaN</td>\n",
       "      <td>NaN</td>\n",
       "      <td>NaN</td>\n",
       "      <td>3</td>\n",
       "      <td>experience-driven elderly</td>\n",
       "    </tr>\n",
       "  </tbody>\n",
       "</table>\n",
       "</div>"
      ],
      "text/plain": [
       "  Attribute         Description        Dtype Value                     Meaning\n",
       "0  AGER_TYP  best-ager typology  categorical    -1                     unknown\n",
       "1       NaN                 NaN          NaN     0  no classification possible\n",
       "2       NaN                 NaN          NaN     1             passive elderly\n",
       "3       NaN                 NaN          NaN     2            cultural elderly\n",
       "4       NaN                 NaN          NaN     3   experience-driven elderly"
      ]
     },
     "execution_count": 13,
     "metadata": {},
     "output_type": "execute_result"
    }
   ],
   "source": [
    "attributes = pd.read_excel(r\"U:\\arvato_data\\excel\\DIAS Attributes - Values 2017.xlsx\",\n",
    "                          header = 0, index_col=None)\n",
    "attributes.head()"
   ]
  },
  {
   "cell_type": "markdown",
   "metadata": {},
   "source": [
    "I will use frontfill method to fill the NaN's in columns \"Attribute\", \"Description\", \"Dtype\"."
   ]
  },
  {
   "cell_type": "code",
   "execution_count": 14,
   "metadata": {},
   "outputs": [
    {
     "data": {
      "text/html": [
       "<div>\n",
       "<style scoped>\n",
       "    .dataframe tbody tr th:only-of-type {\n",
       "        vertical-align: middle;\n",
       "    }\n",
       "\n",
       "    .dataframe tbody tr th {\n",
       "        vertical-align: top;\n",
       "    }\n",
       "\n",
       "    .dataframe thead th {\n",
       "        text-align: right;\n",
       "    }\n",
       "</style>\n",
       "<table border=\"1\" class=\"dataframe\">\n",
       "  <thead>\n",
       "    <tr style=\"text-align: right;\">\n",
       "      <th></th>\n",
       "      <th>Attribute</th>\n",
       "      <th>Description</th>\n",
       "      <th>Dtype</th>\n",
       "      <th>Value</th>\n",
       "      <th>Meaning</th>\n",
       "    </tr>\n",
       "  </thead>\n",
       "  <tbody>\n",
       "    <tr>\n",
       "      <th>0</th>\n",
       "      <td>AGER_TYP</td>\n",
       "      <td>best-ager typology</td>\n",
       "      <td>categorical</td>\n",
       "      <td>-1</td>\n",
       "      <td>unknown</td>\n",
       "    </tr>\n",
       "    <tr>\n",
       "      <th>1</th>\n",
       "      <td>AGER_TYP</td>\n",
       "      <td>best-ager typology</td>\n",
       "      <td>categorical</td>\n",
       "      <td>0</td>\n",
       "      <td>no classification possible</td>\n",
       "    </tr>\n",
       "    <tr>\n",
       "      <th>2</th>\n",
       "      <td>AGER_TYP</td>\n",
       "      <td>best-ager typology</td>\n",
       "      <td>categorical</td>\n",
       "      <td>1</td>\n",
       "      <td>passive elderly</td>\n",
       "    </tr>\n",
       "    <tr>\n",
       "      <th>3</th>\n",
       "      <td>AGER_TYP</td>\n",
       "      <td>best-ager typology</td>\n",
       "      <td>categorical</td>\n",
       "      <td>2</td>\n",
       "      <td>cultural elderly</td>\n",
       "    </tr>\n",
       "    <tr>\n",
       "      <th>4</th>\n",
       "      <td>AGER_TYP</td>\n",
       "      <td>best-ager typology</td>\n",
       "      <td>categorical</td>\n",
       "      <td>3</td>\n",
       "      <td>experience-driven elderly</td>\n",
       "    </tr>\n",
       "  </tbody>\n",
       "</table>\n",
       "</div>"
      ],
      "text/plain": [
       "  Attribute         Description        Dtype Value                     Meaning\n",
       "0  AGER_TYP  best-ager typology  categorical    -1                     unknown\n",
       "1  AGER_TYP  best-ager typology  categorical     0  no classification possible\n",
       "2  AGER_TYP  best-ager typology  categorical     1             passive elderly\n",
       "3  AGER_TYP  best-ager typology  categorical     2            cultural elderly\n",
       "4  AGER_TYP  best-ager typology  categorical     3   experience-driven elderly"
      ]
     },
     "execution_count": 14,
     "metadata": {},
     "output_type": "execute_result"
    }
   ],
   "source": [
    "for col in [\"Attribute\", \"Description\",\"Dtype\"]:\n",
    "    attributes[col] = attributes[col].fillna(method='ffill')\n",
    "    \n",
    "attributes.head()"
   ]
  },
  {
   "cell_type": "markdown",
   "metadata": {},
   "source": [
    "I will check if the attributes are same in excel file and in azdias file:"
   ]
  },
  {
   "cell_type": "code",
   "execution_count": 15,
   "metadata": {},
   "outputs": [
    {
     "name": "stdout",
     "output_type": "stream",
     "text": [
      "42 qty attributes in excel file but not in azdias\n",
      "94 qty attributes in azdias but not in excel file\n",
      "272 qty attributes common in azdias and excel file\n"
     ]
    }
   ],
   "source": [
    "# Attribute lists\n",
    "attributes_excel = attributes.Attribute.unique().tolist()\n",
    "# \"azdias_col\" was previosuly defined above.\n",
    "\n",
    "# Attributes that exist in excel file but not in azdias\n",
    "not_in_azdias = list(set.difference(set(attributes_excel), set(azdias_col)))\n",
    "\n",
    "# Attributes that exist in azdias but not in excel file\n",
    "not_in_excel = list(set.difference(set(azdias_col), set(attributes_excel)))\n",
    "\n",
    "# Attributes that exist both in excel and azdias\n",
    "common_atr = list(set.intersection(set(azdias_col), set(attributes_excel)))\n",
    "\n",
    "# Sort lists\n",
    "attributes_excel.sort()\n",
    "not_in_azdias.sort()\n",
    "not_in_excel.sort()\n",
    "common_atr.sort()\n",
    "\n",
    "print(\"{} qty attributes in excel file but not in azdias\".format(len(not_in_azdias)))\n",
    "print(\"{} qty attributes in azdias but not in excel file\".format(len(not_in_excel)))\n",
    "print(\"{} qty attributes common in azdias and excel file\".format(len(common_atr)))"
   ]
  },
  {
   "cell_type": "markdown",
   "metadata": {},
   "source": [
    "I will drop the attributes that does not exist in azdias, from excel file :"
   ]
  },
  {
   "cell_type": "code",
   "execution_count": 16,
   "metadata": {},
   "outputs": [],
   "source": [
    "# Drop attributes not exist in azdias\n",
    "attributes.drop(labels = attributes[attributes.Attribute.isin(not_in_azdias)].index, axis = 0, inplace = True)"
   ]
  },
  {
   "cell_type": "markdown",
   "metadata": {},
   "source": [
    "Later, I will explore the 94 attributes that exist in azdias, but not exist in excel file;<br>\n",
    "to figure out the datatypes.                                                  "
   ]
  },
  {
   "cell_type": "markdown",
   "metadata": {},
   "source": [
    "### 2.2 Cleaning the Data"
   ]
  },
  {
   "cell_type": "markdown",
   "metadata": {},
   "source": [
    "Cleaning steps:<br>\n",
    "\n",
    "1.Explore the columns not exist in attributes excel file but exist in azdias:I will decide if i should keep the columns or not, also decide the data type if it is categorical, ordinal or numerical. In addition, conduct cleaning operations.\n",
    "\n",
    "2.Explore the columns exist both in azdias and excel file.\n",
    "\n",
    "3.Explore the whole columns in data, check the unkowns"
   ]
  },
  {
   "cell_type": "markdown",
   "metadata": {},
   "source": [
    "### 2.2.1 Explore the columns not exist in attributes excel file but exist in azdias"
   ]
  },
  {
   "cell_type": "markdown",
   "metadata": {},
   "source": [
    "There are 94 columns on which no info supplied in attributes excel file.<br>\n",
    "First i will look at columns specified as non-numeric; then explore the numeric ones.  "
   ]
  },
  {
   "cell_type": "markdown",
   "metadata": {},
   "source": [
    "#### 2.2.1.1 Attributes specified as non-numeric:"
   ]
  },
  {
   "cell_type": "code",
   "execution_count": 17,
   "metadata": {},
   "outputs": [
    {
     "data": {
      "text/html": [
       "<div>\n",
       "<style scoped>\n",
       "    .dataframe tbody tr th:only-of-type {\n",
       "        vertical-align: middle;\n",
       "    }\n",
       "\n",
       "    .dataframe tbody tr th {\n",
       "        vertical-align: top;\n",
       "    }\n",
       "\n",
       "    .dataframe thead th {\n",
       "        text-align: right;\n",
       "    }\n",
       "</style>\n",
       "<table border=\"1\" class=\"dataframe\">\n",
       "  <thead>\n",
       "    <tr style=\"text-align: right;\">\n",
       "      <th></th>\n",
       "      <th>CAMEO_INTL_2015</th>\n",
       "      <th>D19_LETZTER_KAUF_BRANCHE</th>\n",
       "      <th>EINGEFUEGT_AM</th>\n",
       "    </tr>\n",
       "  </thead>\n",
       "  <tbody>\n",
       "    <tr>\n",
       "      <th>0</th>\n",
       "      <td>NaN</td>\n",
       "      <td>NaN</td>\n",
       "      <td>NaN</td>\n",
       "    </tr>\n",
       "    <tr>\n",
       "      <th>1</th>\n",
       "      <td>51</td>\n",
       "      <td>NaN</td>\n",
       "      <td>1992-02-10 00:00:00</td>\n",
       "    </tr>\n",
       "    <tr>\n",
       "      <th>2</th>\n",
       "      <td>24</td>\n",
       "      <td>D19_UNBEKANNT</td>\n",
       "      <td>1992-02-12 00:00:00</td>\n",
       "    </tr>\n",
       "    <tr>\n",
       "      <th>3</th>\n",
       "      <td>12</td>\n",
       "      <td>D19_UNBEKANNT</td>\n",
       "      <td>1997-04-21 00:00:00</td>\n",
       "    </tr>\n",
       "    <tr>\n",
       "      <th>4</th>\n",
       "      <td>43</td>\n",
       "      <td>D19_SCHUHE</td>\n",
       "      <td>1992-02-12 00:00:00</td>\n",
       "    </tr>\n",
       "  </tbody>\n",
       "</table>\n",
       "</div>"
      ],
      "text/plain": [
       "  CAMEO_INTL_2015 D19_LETZTER_KAUF_BRANCHE        EINGEFUEGT_AM\n",
       "0             NaN                      NaN                  NaN\n",
       "1              51                      NaN  1992-02-10 00:00:00\n",
       "2              24            D19_UNBEKANNT  1992-02-12 00:00:00\n",
       "3              12            D19_UNBEKANNT  1997-04-21 00:00:00\n",
       "4              43               D19_SCHUHE  1992-02-12 00:00:00"
      ]
     },
     "execution_count": 17,
     "metadata": {},
     "output_type": "execute_result"
    }
   ],
   "source": [
    "# Columns that are specified as non_numeric \n",
    "azdias[azdias[not_in_excel].select_dtypes(exclude=np.number).columns.tolist()].head()"
   ]
  },
  {
   "cell_type": "markdown",
   "metadata": {},
   "source": [
    "I will convert EINGEFUEGT_AM to date time object and later dig into other two columns:"
   ]
  },
  {
   "cell_type": "code",
   "execution_count": 18,
   "metadata": {},
   "outputs": [],
   "source": [
    "# Converting to date time object\n",
    "azdias[\"EINGEFUEGT_AM\"] =  pd.to_datetime(azdias[\"EINGEFUEGT_AM\"], infer_datetime_format=True)"
   ]
  },
  {
   "cell_type": "code",
   "execution_count": 19,
   "metadata": {},
   "outputs": [],
   "source": [
    "# Create column \"YEAR_ADDED\", \"MONTH_ADDEDD\",\"DAY_ADDED\" columns; i will drop \"EINGEFUEGT_AM\" later\n",
    "azdias[\"YEAR_ADDED\"] = azdias[\"EINGEFUEGT_AM\"].dt.year\n",
    "azdias[\"MONTH_ADDED\"] = azdias[\"EINGEFUEGT_AM\"].dt.month\n",
    "azdias[\"DAY_ADDED\"] = azdias[\"EINGEFUEGT_AM\"].dt.day"
   ]
  },
  {
   "cell_type": "markdown",
   "metadata": {},
   "source": [
    "I will define a function to plot the distributions of columns:"
   ]
  },
  {
   "cell_type": "code",
   "execution_count": 20,
   "metadata": {},
   "outputs": [],
   "source": [
    "def plot_feature(col_name, df):\n",
    "    \"\"\"\n",
    "        input : col_name --> column name \n",
    "                df --> data frame\n",
    "        output : bar plot and value count of col_name\n",
    "    \"\"\"\n",
    "    # geting feature\n",
    "    var = df[col_name]\n",
    "    # count number of variable\n",
    "    varValue = var.value_counts()\n",
    "    # visualize\n",
    "    plt.figure(figsize = (9,2))\n",
    "    plt.bar(varValue.index, varValue, edgecolor = \"black\")\n",
    "    plt.xticks(varValue.index, varValue.index.values, rotation = 90, fontsize = 10)\n",
    "    plt.ylabel(\"Frequency\")\n",
    "    plt.title(col_name)\n",
    "    plt.show()\n",
    "    #print(\"{}: \\n {}\". format(col_name, varValue))"
   ]
  },
  {
   "cell_type": "code",
   "execution_count": 21,
   "metadata": {},
   "outputs": [
    {
     "data": {
      "image/png": "[encoded data removed]",
      "text/plain": [
       "<Figure size 648x144 with 1 Axes>"
      ]
     },
     "metadata": {
      "needs_background": "light"
     },
     "output_type": "display_data"
    },
    {
     "data": {
      "image/png": "[encoded data removed]",
      "text/plain": [
       "<Figure size 648x144 with 1 Axes>"
      ]
     },
     "metadata": {
      "needs_background": "light"
     },
     "output_type": "display_data"
    }
   ],
   "source": [
    "for col in [\"CAMEO_INTL_2015\", \"D19_LETZTER_KAUF_BRANCHE\"]:\n",
    "    plot_feature(col, azdias)"
   ]
  },
  {
   "cell_type": "markdown",
   "metadata": {},
   "source": [
    "I will add the column names and my dtype assumptions to attributes data frame:"
   ]
  },
  {
   "cell_type": "code",
   "execution_count": 22,
   "metadata": {},
   "outputs": [],
   "source": [
    "for a,b in [(\"CAMEO_INTL_2015\",\"categorical\"),\n",
    "            (\"D19_LETZTER_KAUF_BRANCHE\",\"categorical\"),\n",
    "            (\"YEAR_ADDED\",\"numerical\"),\n",
    "            (\"MONTH_ADDED\",\"numerical\"),\n",
    "            (\"DAY_ADDED\",\"numerical\")]:\n",
    "    \n",
    "    attributes = attributes.append({\"Attribute\": a, \"Dtype\": b}, ignore_index=True)  "
   ]
  },
  {
   "cell_type": "markdown",
   "metadata": {},
   "source": [
    "I will replace \"XX\" with np.NaN in CAMEO_INTL_2015:"
   ]
  },
  {
   "cell_type": "code",
   "execution_count": 23,
   "metadata": {},
   "outputs": [],
   "source": [
    "# Replace \"XX\" with NaN\n",
    "azdias.CAMEO_INTL_2015 = azdias.CAMEO_INTL_2015.replace(\"XX\", np.NaN)"
   ]
  },
  {
   "cell_type": "code",
   "execution_count": 24,
   "metadata": {},
   "outputs": [],
   "source": [
    "# Convert data type to integer of CAMEO_INTL_2015    \n",
    "azdias[\"CAMEO_INTL_2015\"] = azdias[\"CAMEO_INTL_2015\"].astype(float)    "
   ]
  },
  {
   "cell_type": "markdown",
   "metadata": {},
   "source": [
    "#### 2.2.1.2 Attributes specified as numeric:"
   ]
  },
  {
   "cell_type": "code",
   "execution_count": 25,
   "metadata": {},
   "outputs": [
    {
     "data": {
      "text/html": [
       "<div>\n",
       "<style scoped>\n",
       "    .dataframe tbody tr th:only-of-type {\n",
       "        vertical-align: middle;\n",
       "    }\n",
       "\n",
       "    .dataframe tbody tr th {\n",
       "        vertical-align: top;\n",
       "    }\n",
       "\n",
       "    .dataframe thead th {\n",
       "        text-align: right;\n",
       "    }\n",
       "</style>\n",
       "<table border=\"1\" class=\"dataframe\">\n",
       "  <thead>\n",
       "    <tr style=\"text-align: right;\">\n",
       "      <th></th>\n",
       "      <th>AKT_DAT_KL</th>\n",
       "      <th>ALTERSKATEGORIE_FEIN</th>\n",
       "      <th>ALTER_KIND1</th>\n",
       "      <th>ALTER_KIND2</th>\n",
       "      <th>ALTER_KIND3</th>\n",
       "      <th>ALTER_KIND4</th>\n",
       "      <th>ANZ_KINDER</th>\n",
       "      <th>ANZ_STATISTISCHE_HAUSHALTE</th>\n",
       "      <th>ARBEIT</th>\n",
       "      <th>CAMEO_INTL_2015</th>\n",
       "      <th>...</th>\n",
       "      <th>STRUKTURTYP</th>\n",
       "      <th>UMFELD_ALT</th>\n",
       "      <th>UMFELD_JUNG</th>\n",
       "      <th>UNGLEICHENN_FLAG</th>\n",
       "      <th>VERDICHTUNGSRAUM</th>\n",
       "      <th>VHA</th>\n",
       "      <th>VHN</th>\n",
       "      <th>VK_DHT4A</th>\n",
       "      <th>VK_DISTANZ</th>\n",
       "      <th>VK_ZG11</th>\n",
       "    </tr>\n",
       "  </thead>\n",
       "  <tbody>\n",
       "    <tr>\n",
       "      <th>0</th>\n",
       "      <td>NaN</td>\n",
       "      <td>NaN</td>\n",
       "      <td>NaN</td>\n",
       "      <td>NaN</td>\n",
       "      <td>NaN</td>\n",
       "      <td>NaN</td>\n",
       "      <td>NaN</td>\n",
       "      <td>NaN</td>\n",
       "      <td>NaN</td>\n",
       "      <td>NaN</td>\n",
       "      <td>...</td>\n",
       "      <td>NaN</td>\n",
       "      <td>NaN</td>\n",
       "      <td>NaN</td>\n",
       "      <td>NaN</td>\n",
       "      <td>NaN</td>\n",
       "      <td>NaN</td>\n",
       "      <td>NaN</td>\n",
       "      <td>NaN</td>\n",
       "      <td>NaN</td>\n",
       "      <td>NaN</td>\n",
       "    </tr>\n",
       "    <tr>\n",
       "      <th>1</th>\n",
       "      <td>9.0</td>\n",
       "      <td>21.0</td>\n",
       "      <td>NaN</td>\n",
       "      <td>NaN</td>\n",
       "      <td>NaN</td>\n",
       "      <td>NaN</td>\n",
       "      <td>0.0</td>\n",
       "      <td>12.0</td>\n",
       "      <td>3.0</td>\n",
       "      <td>51.0</td>\n",
       "      <td>...</td>\n",
       "      <td>2.0</td>\n",
       "      <td>3.0</td>\n",
       "      <td>3.0</td>\n",
       "      <td>1.0</td>\n",
       "      <td>0.0</td>\n",
       "      <td>0.0</td>\n",
       "      <td>4.0</td>\n",
       "      <td>8.0</td>\n",
       "      <td>11.0</td>\n",
       "      <td>10.0</td>\n",
       "    </tr>\n",
       "    <tr>\n",
       "      <th>2</th>\n",
       "      <td>9.0</td>\n",
       "      <td>17.0</td>\n",
       "      <td>NaN</td>\n",
       "      <td>NaN</td>\n",
       "      <td>NaN</td>\n",
       "      <td>NaN</td>\n",
       "      <td>0.0</td>\n",
       "      <td>7.0</td>\n",
       "      <td>3.0</td>\n",
       "      <td>24.0</td>\n",
       "      <td>...</td>\n",
       "      <td>3.0</td>\n",
       "      <td>2.0</td>\n",
       "      <td>5.0</td>\n",
       "      <td>0.0</td>\n",
       "      <td>1.0</td>\n",
       "      <td>0.0</td>\n",
       "      <td>2.0</td>\n",
       "      <td>9.0</td>\n",
       "      <td>9.0</td>\n",
       "      <td>6.0</td>\n",
       "    </tr>\n",
       "    <tr>\n",
       "      <th>3</th>\n",
       "      <td>1.0</td>\n",
       "      <td>13.0</td>\n",
       "      <td>NaN</td>\n",
       "      <td>NaN</td>\n",
       "      <td>NaN</td>\n",
       "      <td>NaN</td>\n",
       "      <td>0.0</td>\n",
       "      <td>2.0</td>\n",
       "      <td>2.0</td>\n",
       "      <td>12.0</td>\n",
       "      <td>...</td>\n",
       "      <td>1.0</td>\n",
       "      <td>4.0</td>\n",
       "      <td>5.0</td>\n",
       "      <td>0.0</td>\n",
       "      <td>0.0</td>\n",
       "      <td>1.0</td>\n",
       "      <td>0.0</td>\n",
       "      <td>7.0</td>\n",
       "      <td>10.0</td>\n",
       "      <td>11.0</td>\n",
       "    </tr>\n",
       "    <tr>\n",
       "      <th>4</th>\n",
       "      <td>1.0</td>\n",
       "      <td>14.0</td>\n",
       "      <td>NaN</td>\n",
       "      <td>NaN</td>\n",
       "      <td>NaN</td>\n",
       "      <td>NaN</td>\n",
       "      <td>0.0</td>\n",
       "      <td>3.0</td>\n",
       "      <td>4.0</td>\n",
       "      <td>43.0</td>\n",
       "      <td>...</td>\n",
       "      <td>3.0</td>\n",
       "      <td>4.0</td>\n",
       "      <td>3.0</td>\n",
       "      <td>0.0</td>\n",
       "      <td>1.0</td>\n",
       "      <td>0.0</td>\n",
       "      <td>2.0</td>\n",
       "      <td>3.0</td>\n",
       "      <td>5.0</td>\n",
       "      <td>4.0</td>\n",
       "    </tr>\n",
       "  </tbody>\n",
       "</table>\n",
       "<p>5 rows × 92 columns</p>\n",
       "</div>"
      ],
      "text/plain": [
       "   AKT_DAT_KL  ALTERSKATEGORIE_FEIN  ALTER_KIND1  ALTER_KIND2  ALTER_KIND3  \\\n",
       "0         NaN                   NaN          NaN          NaN          NaN   \n",
       "1         9.0                  21.0          NaN          NaN          NaN   \n",
       "2         9.0                  17.0          NaN          NaN          NaN   \n",
       "3         1.0                  13.0          NaN          NaN          NaN   \n",
       "4         1.0                  14.0          NaN          NaN          NaN   \n",
       "\n",
       "   ALTER_KIND4  ANZ_KINDER  ANZ_STATISTISCHE_HAUSHALTE  ARBEIT  \\\n",
       "0          NaN         NaN                         NaN     NaN   \n",
       "1          NaN         0.0                        12.0     3.0   \n",
       "2          NaN         0.0                         7.0     3.0   \n",
       "3          NaN         0.0                         2.0     2.0   \n",
       "4          NaN         0.0                         3.0     4.0   \n",
       "\n",
       "   CAMEO_INTL_2015  ...  STRUKTURTYP  UMFELD_ALT  UMFELD_JUNG  \\\n",
       "0              NaN  ...          NaN         NaN          NaN   \n",
       "1             51.0  ...          2.0         3.0          3.0   \n",
       "2             24.0  ...          3.0         2.0          5.0   \n",
       "3             12.0  ...          1.0         4.0          5.0   \n",
       "4             43.0  ...          3.0         4.0          3.0   \n",
       "\n",
       "   UNGLEICHENN_FLAG  VERDICHTUNGSRAUM  VHA  VHN  VK_DHT4A  VK_DISTANZ  VK_ZG11  \n",
       "0               NaN               NaN  NaN  NaN       NaN         NaN      NaN  \n",
       "1               1.0               0.0  0.0  4.0       8.0        11.0     10.0  \n",
       "2               0.0               1.0  0.0  2.0       9.0         9.0      6.0  \n",
       "3               0.0               0.0  1.0  0.0       7.0        10.0     11.0  \n",
       "4               0.0               1.0  0.0  2.0       3.0         5.0      4.0  \n",
       "\n",
       "[5 rows x 92 columns]"
      ]
     },
     "execution_count": 25,
     "metadata": {},
     "output_type": "execute_result"
    }
   ],
   "source": [
    "# Columns that are specified as numeric \n",
    "\n",
    "azdias[azdias[not_in_excel].select_dtypes(include=np.number).columns.tolist()].head()"
   ]
  },
  {
   "cell_type": "code",
   "execution_count": 26,
   "metadata": {},
   "outputs": [],
   "source": [
    "# List of numeric specified attributes \n",
    "atr_list = azdias[not_in_excel].select_dtypes(include=np.number).columns.tolist()\n",
    "\n",
    "# Remove LNR from list\n",
    "atr_list.remove(\"LNR\")"
   ]
  },
  {
   "cell_type": "code",
   "execution_count": 27,
   "metadata": {
    "scrolled": false
   },
   "outputs": [],
   "source": [
    "#for col in atr_list:\n",
    "    #plot_feature(col, azdias)"
   ]
  },
  {
   "cell_type": "markdown",
   "metadata": {},
   "source": [
    "I will create a list by manually adding datatypes of attributes.<br>\n",
    "Those are my assumptions based on attributes names, types of similar attributes given in excel file and <br>\n",
    "above graphs."
   ]
  },
  {
   "cell_type": "code",
   "execution_count": 28,
   "metadata": {},
   "outputs": [],
   "source": [
    "mapped_list = [('VERDICHTUNGSRAUM','categorical'), ('D19_SOZIALES','ordinal'), ('D19_VOLLSORTIMENT','ordinal'),\n",
    " ('D19_KINDERARTIKEL','ordinal'), ('D19_WEIN_FEINKOST','ordinal'), ('ALTERSKATEGORIE_FEIN','ordinal'),\n",
    " ('D19_VERSI_DATUM','ordinal'), ('D19_BANKEN_GROSS','ordinal'), ('RT_SCHNAEPPCHEN','categorical'),\n",
    " ('D19_VERSICHERUNGEN','ordinal'), ('CJT_TYP_4','categorical'), ('D19_TELKO_REST','ordinal'),\n",
    " ('D19_BUCH_CD','ordinal'), ('STRUKTURTYP','categorical'), ('D19_KOSMETIK','ordinal'),\n",
    " ('KBA13_KMH_210','ordinal'),('D19_NAHRUNGSERGAENZUNG','ordinal') ,('VHA','ordinal'),\n",
    " ('D19_BILDUNG','ordinal'), ('KBA13_ANTG4','ordinal'), ('D19_GARTEN','ordinal'),\n",
    " ('KK_KUNDENTYP','categorical'), ('D19_FREIZEIT','ordinal'), ('D19_BEKLEIDUNG_GEH','ordinal'),\n",
    " ('RT_UEBERGROESSE','categorical'), ('CJT_TYP_3','categorical'), ('D19_TELKO_ONLINE_QUOTE_12','ordinal'),\n",
    " ('CJT_TYP_6','categorical'), ('D19_SCHUHE','ordinal'), ('D19_BEKLEIDUNG_REST','ordinal'),\n",
    " ('ARBEIT','ordinal'), ('ALTER_KIND2','ordinal'), ('D19_TIERARTIKEL','ordinal'),\n",
    " ('SOHO_KZ','categorical'), ('D19_VERSAND_REST','ordinal'), ('KBA13_ANTG1','ordinal'),\n",
    " ('D19_BANKEN_LOKAL','ordinal'), ('D19_REISEN','ordinal'), ('KBA13_BAUMAX','ordinal'),\n",
    " ('ANZ_KINDER','numerical'), ('UNGLEICHENN_FLAG','categorical'), ('CJT_TYP_2','categorical'),\n",
    " ('RT_KEIN_ANREIZ','ordinal'), ('D19_VERSI_ONLINE_QUOTE_12','ordinal'), ('D19_VERSI_OFFLINE_DATUM','ordinal'),\n",
    " ('ALTER_KIND4','categorical'), ('DSL_FLAG','categorical'), ('EINGEZOGENAM_HH_JAHR','numerical'),\n",
    " ('VK_ZG11','categorical'), ('D19_BANKEN_REST','ordinal'), ('D19_KONSUMTYP_MAX','ordinal'),\n",
    " ('EXTSEL992','numerical'), ('CJT_TYP_1','categorical'), ('ALTER_KIND1','categorical'),\n",
    " ('D19_TELKO_MOBILE','ordinal'), ('D19_HANDWERK','ordinal'), ('VK_DHT4A','categorical'),\n",
    " ('ALTER_KIND3','categorical'), ('D19_VERSI_ONLINE_DATUM','ordinal'), ('CJT_TYP_5','categorical'),\n",
    " ('KBA13_ANTG3','ordinal'), ('MOBI_RASTER','categorical'), ('KBA13_ANTG2','ordinal'),\n",
    " ('D19_HAUS_DEKO','ordinal'), ('D19_LOTTO','ordinal'), ('GEMEINDETYP','categorical'),\n",
    " ('KOMBIALTER','categorical'), ('KBA13_CCM_1401_2500','ordinal'), ('ANZ_STATISTISCHE_HAUSHALTE','numerical'),\n",
    " ('AKT_DAT_KL','categorical'), ('KBA13_GBZ','ordinal'), ('VK_DISTANZ','ordinal'),\n",
    " ('CJT_KATALOGNUTZER','categorical'), ('D19_DROGERIEARTIKEL','ordinal'), ('D19_TECHNIK','ordinal'),\n",
    " ('D19_DIGIT_SERV','ordinal'), ('VHN','categorical'), ('KONSUMZELLE','categorical'),\n",
    " ('UMFELD_ALT','categorical'), ('UMFELD_JUNG','categorical'), ('HH_DELTA_FLAG','categorical'),\n",
    " ('D19_RATGEBER','ordinal'), ('D19_SAMMELARTIKEL','ordinal'), ('D19_BIO_OEKO','ordinal'),\n",
    " ('KBA13_HHZ','ordinal'), ('FIRMENDICHTE','categorical'), ('D19_SONSTIGE','ordinal'),\n",
    " ('D19_ENERGIE','ordinal'), ('D19_LEBENSMITTEL','ordinal'), ('D19_BANKEN_DIREKT','ordinal'),\n",
    " ('LNR','numerical')]"
   ]
  },
  {
   "cell_type": "code",
   "execution_count": 29,
   "metadata": {},
   "outputs": [],
   "source": [
    "# Append attributes and dtypes to attributes dataframe\n",
    "for a,b in mapped_list:\n",
    "    attributes = attributes.append({\"Attribute\": a, \"Dtype\": b}, ignore_index=True)  "
   ]
  },
  {
   "cell_type": "code",
   "execution_count": 30,
   "metadata": {},
   "outputs": [
    {
     "name": "stdout",
     "output_type": "stream",
     "text": [
      "368\n"
     ]
    }
   ],
   "source": [
    "# Data types for all azdias dataframe\n",
    "data_types = attributes[[\"Attribute\",\"Dtype\"]].drop_duplicates()\n",
    "\n",
    "# Create list of columns according to data types\n",
    "categoricals = data_types[data_types.Dtype == \"categorical\"].Attribute.values.tolist()\n",
    "ordinals = data_types[data_types.Dtype == \"ordinal\"].Attribute.values.tolist()\n",
    "numericals = data_types[data_types.Dtype == \"numerical\"].Attribute.values.tolist()\n",
    "\n",
    "# Check \n",
    "print(len(categoricals)+len(ordinals)+len(numericals))"
   ]
  },
  {
   "cell_type": "markdown",
   "metadata": {},
   "source": [
    "### 2.2.2 Explore the common columns exist both in azdias and excel file"
   ]
  },
  {
   "cell_type": "code",
   "execution_count": 31,
   "metadata": {},
   "outputs": [
    {
     "data": {
      "text/html": [
       "<div>\n",
       "<style scoped>\n",
       "    .dataframe tbody tr th:only-of-type {\n",
       "        vertical-align: middle;\n",
       "    }\n",
       "\n",
       "    .dataframe tbody tr th {\n",
       "        vertical-align: top;\n",
       "    }\n",
       "\n",
       "    .dataframe thead th {\n",
       "        text-align: right;\n",
       "    }\n",
       "</style>\n",
       "<table border=\"1\" class=\"dataframe\">\n",
       "  <thead>\n",
       "    <tr style=\"text-align: right;\">\n",
       "      <th></th>\n",
       "      <th>AGER_TYP</th>\n",
       "      <th>ALTERSKATEGORIE_GROB</th>\n",
       "      <th>ALTER_HH</th>\n",
       "      <th>ANREDE_KZ</th>\n",
       "      <th>ANZ_HAUSHALTE_AKTIV</th>\n",
       "      <th>ANZ_HH_TITEL</th>\n",
       "      <th>ANZ_PERSONEN</th>\n",
       "      <th>ANZ_TITEL</th>\n",
       "      <th>BALLRAUM</th>\n",
       "      <th>CAMEO_DEUG_2015</th>\n",
       "      <th>...</th>\n",
       "      <th>SEMIO_SOZ</th>\n",
       "      <th>SEMIO_TRADV</th>\n",
       "      <th>SEMIO_VERT</th>\n",
       "      <th>SHOPPER_TYP</th>\n",
       "      <th>TITEL_KZ</th>\n",
       "      <th>VERS_TYP</th>\n",
       "      <th>WOHNDAUER_2008</th>\n",
       "      <th>WOHNLAGE</th>\n",
       "      <th>W_KEIT_KIND_HH</th>\n",
       "      <th>ZABEOTYP</th>\n",
       "    </tr>\n",
       "  </thead>\n",
       "  <tbody>\n",
       "    <tr>\n",
       "      <th>0</th>\n",
       "      <td>-1</td>\n",
       "      <td>2</td>\n",
       "      <td>NaN</td>\n",
       "      <td>1</td>\n",
       "      <td>NaN</td>\n",
       "      <td>NaN</td>\n",
       "      <td>NaN</td>\n",
       "      <td>NaN</td>\n",
       "      <td>NaN</td>\n",
       "      <td>NaN</td>\n",
       "      <td>...</td>\n",
       "      <td>2</td>\n",
       "      <td>3</td>\n",
       "      <td>1</td>\n",
       "      <td>-1</td>\n",
       "      <td>NaN</td>\n",
       "      <td>-1</td>\n",
       "      <td>NaN</td>\n",
       "      <td>NaN</td>\n",
       "      <td>NaN</td>\n",
       "      <td>3</td>\n",
       "    </tr>\n",
       "    <tr>\n",
       "      <th>1</th>\n",
       "      <td>-1</td>\n",
       "      <td>1</td>\n",
       "      <td>0.0</td>\n",
       "      <td>2</td>\n",
       "      <td>11.0</td>\n",
       "      <td>0.0</td>\n",
       "      <td>2.0</td>\n",
       "      <td>0.0</td>\n",
       "      <td>6.0</td>\n",
       "      <td>8</td>\n",
       "      <td>...</td>\n",
       "      <td>5</td>\n",
       "      <td>6</td>\n",
       "      <td>1</td>\n",
       "      <td>3</td>\n",
       "      <td>0.0</td>\n",
       "      <td>2</td>\n",
       "      <td>9.0</td>\n",
       "      <td>4.0</td>\n",
       "      <td>3.0</td>\n",
       "      <td>5</td>\n",
       "    </tr>\n",
       "    <tr>\n",
       "      <th>2</th>\n",
       "      <td>-1</td>\n",
       "      <td>3</td>\n",
       "      <td>17.0</td>\n",
       "      <td>2</td>\n",
       "      <td>10.0</td>\n",
       "      <td>0.0</td>\n",
       "      <td>1.0</td>\n",
       "      <td>0.0</td>\n",
       "      <td>2.0</td>\n",
       "      <td>4</td>\n",
       "      <td>...</td>\n",
       "      <td>4</td>\n",
       "      <td>3</td>\n",
       "      <td>4</td>\n",
       "      <td>2</td>\n",
       "      <td>0.0</td>\n",
       "      <td>1</td>\n",
       "      <td>9.0</td>\n",
       "      <td>2.0</td>\n",
       "      <td>3.0</td>\n",
       "      <td>5</td>\n",
       "    </tr>\n",
       "    <tr>\n",
       "      <th>3</th>\n",
       "      <td>2</td>\n",
       "      <td>4</td>\n",
       "      <td>13.0</td>\n",
       "      <td>2</td>\n",
       "      <td>1.0</td>\n",
       "      <td>0.0</td>\n",
       "      <td>0.0</td>\n",
       "      <td>0.0</td>\n",
       "      <td>4.0</td>\n",
       "      <td>2</td>\n",
       "      <td>...</td>\n",
       "      <td>5</td>\n",
       "      <td>4</td>\n",
       "      <td>4</td>\n",
       "      <td>1</td>\n",
       "      <td>0.0</td>\n",
       "      <td>1</td>\n",
       "      <td>9.0</td>\n",
       "      <td>7.0</td>\n",
       "      <td>NaN</td>\n",
       "      <td>3</td>\n",
       "    </tr>\n",
       "    <tr>\n",
       "      <th>4</th>\n",
       "      <td>-1</td>\n",
       "      <td>3</td>\n",
       "      <td>20.0</td>\n",
       "      <td>1</td>\n",
       "      <td>3.0</td>\n",
       "      <td>0.0</td>\n",
       "      <td>4.0</td>\n",
       "      <td>0.0</td>\n",
       "      <td>2.0</td>\n",
       "      <td>6</td>\n",
       "      <td>...</td>\n",
       "      <td>6</td>\n",
       "      <td>2</td>\n",
       "      <td>7</td>\n",
       "      <td>2</td>\n",
       "      <td>0.0</td>\n",
       "      <td>2</td>\n",
       "      <td>9.0</td>\n",
       "      <td>3.0</td>\n",
       "      <td>2.0</td>\n",
       "      <td>4</td>\n",
       "    </tr>\n",
       "  </tbody>\n",
       "</table>\n",
       "<p>5 rows × 272 columns</p>\n",
       "</div>"
      ],
      "text/plain": [
       "   AGER_TYP  ALTERSKATEGORIE_GROB  ALTER_HH  ANREDE_KZ  ANZ_HAUSHALTE_AKTIV  \\\n",
       "0        -1                     2       NaN          1                  NaN   \n",
       "1        -1                     1       0.0          2                 11.0   \n",
       "2        -1                     3      17.0          2                 10.0   \n",
       "3         2                     4      13.0          2                  1.0   \n",
       "4        -1                     3      20.0          1                  3.0   \n",
       "\n",
       "   ANZ_HH_TITEL  ANZ_PERSONEN  ANZ_TITEL  BALLRAUM CAMEO_DEUG_2015  ...  \\\n",
       "0           NaN           NaN        NaN       NaN             NaN  ...   \n",
       "1           0.0           2.0        0.0       6.0               8  ...   \n",
       "2           0.0           1.0        0.0       2.0               4  ...   \n",
       "3           0.0           0.0        0.0       4.0               2  ...   \n",
       "4           0.0           4.0        0.0       2.0               6  ...   \n",
       "\n",
       "  SEMIO_SOZ  SEMIO_TRADV  SEMIO_VERT  SHOPPER_TYP  TITEL_KZ  VERS_TYP  \\\n",
       "0         2            3           1           -1       NaN        -1   \n",
       "1         5            6           1            3       0.0         2   \n",
       "2         4            3           4            2       0.0         1   \n",
       "3         5            4           4            1       0.0         1   \n",
       "4         6            2           7            2       0.0         2   \n",
       "\n",
       "   WOHNDAUER_2008  WOHNLAGE  W_KEIT_KIND_HH  ZABEOTYP  \n",
       "0             NaN       NaN             NaN         3  \n",
       "1             9.0       4.0             3.0         5  \n",
       "2             9.0       2.0             3.0         5  \n",
       "3             9.0       7.0             NaN         3  \n",
       "4             9.0       3.0             2.0         4  \n",
       "\n",
       "[5 rows x 272 columns]"
      ]
     },
     "execution_count": 31,
     "metadata": {},
     "output_type": "execute_result"
    }
   ],
   "source": [
    "# Prewiew common columns in azdias\n",
    "azdias[common_atr].head()"
   ]
  },
  {
   "cell_type": "markdown",
   "metadata": {},
   "source": [
    "#### 2.2.2.1 Non-numeric specified columns in commons"
   ]
  },
  {
   "cell_type": "code",
   "execution_count": 32,
   "metadata": {},
   "outputs": [
    {
     "data": {
      "text/html": [
       "<div>\n",
       "<style scoped>\n",
       "    .dataframe tbody tr th:only-of-type {\n",
       "        vertical-align: middle;\n",
       "    }\n",
       "\n",
       "    .dataframe tbody tr th {\n",
       "        vertical-align: top;\n",
       "    }\n",
       "\n",
       "    .dataframe thead th {\n",
       "        text-align: right;\n",
       "    }\n",
       "</style>\n",
       "<table border=\"1\" class=\"dataframe\">\n",
       "  <thead>\n",
       "    <tr style=\"text-align: right;\">\n",
       "      <th></th>\n",
       "      <th>CAMEO_DEUG_2015</th>\n",
       "      <th>CAMEO_DEU_2015</th>\n",
       "      <th>OST_WEST_KZ</th>\n",
       "    </tr>\n",
       "  </thead>\n",
       "  <tbody>\n",
       "    <tr>\n",
       "      <th>0</th>\n",
       "      <td>NaN</td>\n",
       "      <td>NaN</td>\n",
       "      <td>NaN</td>\n",
       "    </tr>\n",
       "    <tr>\n",
       "      <th>1</th>\n",
       "      <td>8</td>\n",
       "      <td>8A</td>\n",
       "      <td>W</td>\n",
       "    </tr>\n",
       "    <tr>\n",
       "      <th>2</th>\n",
       "      <td>4</td>\n",
       "      <td>4C</td>\n",
       "      <td>W</td>\n",
       "    </tr>\n",
       "    <tr>\n",
       "      <th>3</th>\n",
       "      <td>2</td>\n",
       "      <td>2A</td>\n",
       "      <td>W</td>\n",
       "    </tr>\n",
       "    <tr>\n",
       "      <th>4</th>\n",
       "      <td>6</td>\n",
       "      <td>6B</td>\n",
       "      <td>W</td>\n",
       "    </tr>\n",
       "  </tbody>\n",
       "</table>\n",
       "</div>"
      ],
      "text/plain": [
       "  CAMEO_DEUG_2015 CAMEO_DEU_2015 OST_WEST_KZ\n",
       "0             NaN            NaN         NaN\n",
       "1               8             8A           W\n",
       "2               4             4C           W\n",
       "3               2             2A           W\n",
       "4               6             6B           W"
      ]
     },
     "execution_count": 32,
     "metadata": {},
     "output_type": "execute_result"
    }
   ],
   "source": [
    "# Non-numeric specified columns in common colums in azdias\n",
    "azdias[common_atr].select_dtypes(exclude = np.number).head()"
   ]
  },
  {
   "cell_type": "code",
   "execution_count": 33,
   "metadata": {},
   "outputs": [
    {
     "data": {
      "image/png": "[encoded data removed]",
      "text/plain": [
       "<Figure size 648x144 with 1 Axes>"
      ]
     },
     "metadata": {
      "needs_background": "light"
     },
     "output_type": "display_data"
    },
    {
     "data": {
      "image/png": "[encoded data removed]",
      "text/plain": [
       "<Figure size 648x144 with 1 Axes>"
      ]
     },
     "metadata": {
      "needs_background": "light"
     },
     "output_type": "display_data"
    },
    {
     "data": {
      "image/png": "[encoded data removed]",
      "text/plain": [
       "<Figure size 648x144 with 1 Axes>"
      ]
     },
     "metadata": {
      "needs_background": "light"
     },
     "output_type": "display_data"
    }
   ],
   "source": [
    "# Plot non-numerics in commons\n",
    "for col in [\"CAMEO_DEUG_2015\",\"CAMEO_DEU_2015\",\"OST_WEST_KZ\"]:\n",
    "    plot_feature(col, azdias)"
   ]
  },
  {
   "cell_type": "code",
   "execution_count": 34,
   "metadata": {},
   "outputs": [],
   "source": [
    "# Replace \"X\" and \"XX\" with NaN in columns \"CAMEO_DEUG_2015\",\"CAMEO_DEU_2015\"\n",
    "azdias.CAMEO_DEUG_2015 = azdias.CAMEO_DEUG_2015.replace(\"X\", np.NaN)\n",
    "azdias.CAMEO_DEU_2015 = azdias.CAMEO_DEU_2015.replace(\"XX\", np.NaN)"
   ]
  },
  {
   "cell_type": "code",
   "execution_count": 35,
   "metadata": {},
   "outputs": [],
   "source": [
    "# Conver data type\n",
    "azdias.CAMEO_DEUG_2015 = azdias.CAMEO_DEUG_2015.astype(float)"
   ]
  },
  {
   "cell_type": "code",
   "execution_count": 36,
   "metadata": {},
   "outputs": [],
   "source": [
    "# Replace \"W\" and \"O\" with 0 and 1.\n",
    "azdias.OST_WEST_KZ = azdias.OST_WEST_KZ.replace(\"W\", 0).replace(\"O\",1)"
   ]
  },
  {
   "cell_type": "code",
   "execution_count": 37,
   "metadata": {},
   "outputs": [],
   "source": [
    "# Replace values with numbers in CAMEO_DEU_2015\n",
    "\n",
    "# Create dictionary to store values\n",
    "map_dict = dict()\n",
    "k = 0\n",
    "for each in azdias.CAMEO_DEU_2015.value_counts().index.sort_values().tolist():\n",
    "    map_dict[each]= k\n",
    "    k = k + 1\n",
    "\n",
    "# Replace    \n",
    "azdias[\"CAMEO_DEU_2015\"] = azdias[\"CAMEO_DEU_2015\"].replace(map_dict)    "
   ]
  },
  {
   "cell_type": "markdown",
   "metadata": {},
   "source": [
    "#### 2.2.2.2 Numeric specified columns in commons"
   ]
  },
  {
   "cell_type": "code",
   "execution_count": 38,
   "metadata": {
    "scrolled": false
   },
   "outputs": [
    {
     "data": {
      "text/html": [
       "<div>\n",
       "<style scoped>\n",
       "    .dataframe tbody tr th:only-of-type {\n",
       "        vertical-align: middle;\n",
       "    }\n",
       "\n",
       "    .dataframe tbody tr th {\n",
       "        vertical-align: top;\n",
       "    }\n",
       "\n",
       "    .dataframe thead th {\n",
       "        text-align: right;\n",
       "    }\n",
       "</style>\n",
       "<table border=\"1\" class=\"dataframe\">\n",
       "  <thead>\n",
       "    <tr style=\"text-align: right;\">\n",
       "      <th></th>\n",
       "      <th>AGER_TYP</th>\n",
       "      <th>ALTERSKATEGORIE_GROB</th>\n",
       "      <th>ALTER_HH</th>\n",
       "      <th>ANREDE_KZ</th>\n",
       "      <th>ANZ_HAUSHALTE_AKTIV</th>\n",
       "      <th>ANZ_HH_TITEL</th>\n",
       "      <th>ANZ_PERSONEN</th>\n",
       "      <th>ANZ_TITEL</th>\n",
       "      <th>BALLRAUM</th>\n",
       "      <th>CAMEO_DEUG_2015</th>\n",
       "      <th>...</th>\n",
       "      <th>SEMIO_SOZ</th>\n",
       "      <th>SEMIO_TRADV</th>\n",
       "      <th>SEMIO_VERT</th>\n",
       "      <th>SHOPPER_TYP</th>\n",
       "      <th>TITEL_KZ</th>\n",
       "      <th>VERS_TYP</th>\n",
       "      <th>WOHNDAUER_2008</th>\n",
       "      <th>WOHNLAGE</th>\n",
       "      <th>W_KEIT_KIND_HH</th>\n",
       "      <th>ZABEOTYP</th>\n",
       "    </tr>\n",
       "  </thead>\n",
       "  <tbody>\n",
       "    <tr>\n",
       "      <th>0</th>\n",
       "      <td>-1</td>\n",
       "      <td>2</td>\n",
       "      <td>NaN</td>\n",
       "      <td>1</td>\n",
       "      <td>NaN</td>\n",
       "      <td>NaN</td>\n",
       "      <td>NaN</td>\n",
       "      <td>NaN</td>\n",
       "      <td>NaN</td>\n",
       "      <td>NaN</td>\n",
       "      <td>...</td>\n",
       "      <td>2</td>\n",
       "      <td>3</td>\n",
       "      <td>1</td>\n",
       "      <td>-1</td>\n",
       "      <td>NaN</td>\n",
       "      <td>-1</td>\n",
       "      <td>NaN</td>\n",
       "      <td>NaN</td>\n",
       "      <td>NaN</td>\n",
       "      <td>3</td>\n",
       "    </tr>\n",
       "    <tr>\n",
       "      <th>1</th>\n",
       "      <td>-1</td>\n",
       "      <td>1</td>\n",
       "      <td>0.0</td>\n",
       "      <td>2</td>\n",
       "      <td>11.0</td>\n",
       "      <td>0.0</td>\n",
       "      <td>2.0</td>\n",
       "      <td>0.0</td>\n",
       "      <td>6.0</td>\n",
       "      <td>8.0</td>\n",
       "      <td>...</td>\n",
       "      <td>5</td>\n",
       "      <td>6</td>\n",
       "      <td>1</td>\n",
       "      <td>3</td>\n",
       "      <td>0.0</td>\n",
       "      <td>2</td>\n",
       "      <td>9.0</td>\n",
       "      <td>4.0</td>\n",
       "      <td>3.0</td>\n",
       "      <td>5</td>\n",
       "    </tr>\n",
       "    <tr>\n",
       "      <th>2</th>\n",
       "      <td>-1</td>\n",
       "      <td>3</td>\n",
       "      <td>17.0</td>\n",
       "      <td>2</td>\n",
       "      <td>10.0</td>\n",
       "      <td>0.0</td>\n",
       "      <td>1.0</td>\n",
       "      <td>0.0</td>\n",
       "      <td>2.0</td>\n",
       "      <td>4.0</td>\n",
       "      <td>...</td>\n",
       "      <td>4</td>\n",
       "      <td>3</td>\n",
       "      <td>4</td>\n",
       "      <td>2</td>\n",
       "      <td>0.0</td>\n",
       "      <td>1</td>\n",
       "      <td>9.0</td>\n",
       "      <td>2.0</td>\n",
       "      <td>3.0</td>\n",
       "      <td>5</td>\n",
       "    </tr>\n",
       "    <tr>\n",
       "      <th>3</th>\n",
       "      <td>2</td>\n",
       "      <td>4</td>\n",
       "      <td>13.0</td>\n",
       "      <td>2</td>\n",
       "      <td>1.0</td>\n",
       "      <td>0.0</td>\n",
       "      <td>0.0</td>\n",
       "      <td>0.0</td>\n",
       "      <td>4.0</td>\n",
       "      <td>2.0</td>\n",
       "      <td>...</td>\n",
       "      <td>5</td>\n",
       "      <td>4</td>\n",
       "      <td>4</td>\n",
       "      <td>1</td>\n",
       "      <td>0.0</td>\n",
       "      <td>1</td>\n",
       "      <td>9.0</td>\n",
       "      <td>7.0</td>\n",
       "      <td>NaN</td>\n",
       "      <td>3</td>\n",
       "    </tr>\n",
       "    <tr>\n",
       "      <th>4</th>\n",
       "      <td>-1</td>\n",
       "      <td>3</td>\n",
       "      <td>20.0</td>\n",
       "      <td>1</td>\n",
       "      <td>3.0</td>\n",
       "      <td>0.0</td>\n",
       "      <td>4.0</td>\n",
       "      <td>0.0</td>\n",
       "      <td>2.0</td>\n",
       "      <td>6.0</td>\n",
       "      <td>...</td>\n",
       "      <td>6</td>\n",
       "      <td>2</td>\n",
       "      <td>7</td>\n",
       "      <td>2</td>\n",
       "      <td>0.0</td>\n",
       "      <td>2</td>\n",
       "      <td>9.0</td>\n",
       "      <td>3.0</td>\n",
       "      <td>2.0</td>\n",
       "      <td>4</td>\n",
       "    </tr>\n",
       "  </tbody>\n",
       "</table>\n",
       "<p>5 rows × 272 columns</p>\n",
       "</div>"
      ],
      "text/plain": [
       "   AGER_TYP  ALTERSKATEGORIE_GROB  ALTER_HH  ANREDE_KZ  ANZ_HAUSHALTE_AKTIV  \\\n",
       "0        -1                     2       NaN          1                  NaN   \n",
       "1        -1                     1       0.0          2                 11.0   \n",
       "2        -1                     3      17.0          2                 10.0   \n",
       "3         2                     4      13.0          2                  1.0   \n",
       "4        -1                     3      20.0          1                  3.0   \n",
       "\n",
       "   ANZ_HH_TITEL  ANZ_PERSONEN  ANZ_TITEL  BALLRAUM  CAMEO_DEUG_2015  ...  \\\n",
       "0           NaN           NaN        NaN       NaN              NaN  ...   \n",
       "1           0.0           2.0        0.0       6.0              8.0  ...   \n",
       "2           0.0           1.0        0.0       2.0              4.0  ...   \n",
       "3           0.0           0.0        0.0       4.0              2.0  ...   \n",
       "4           0.0           4.0        0.0       2.0              6.0  ...   \n",
       "\n",
       "   SEMIO_SOZ  SEMIO_TRADV  SEMIO_VERT  SHOPPER_TYP  TITEL_KZ  VERS_TYP  \\\n",
       "0          2            3           1           -1       NaN        -1   \n",
       "1          5            6           1            3       0.0         2   \n",
       "2          4            3           4            2       0.0         1   \n",
       "3          5            4           4            1       0.0         1   \n",
       "4          6            2           7            2       0.0         2   \n",
       "\n",
       "   WOHNDAUER_2008  WOHNLAGE  W_KEIT_KIND_HH  ZABEOTYP  \n",
       "0             NaN       NaN             NaN         3  \n",
       "1             9.0       4.0             3.0         5  \n",
       "2             9.0       2.0             3.0         5  \n",
       "3             9.0       7.0             NaN         3  \n",
       "4             9.0       3.0             2.0         4  \n",
       "\n",
       "[5 rows x 272 columns]"
      ]
     },
     "execution_count": 38,
     "metadata": {},
     "output_type": "execute_result"
    }
   ],
   "source": [
    "# Numeric specified columns in common colums in azdias\n",
    "azdias[common_atr].select_dtypes(include = np.number).head()"
   ]
  },
  {
   "cell_type": "code",
   "execution_count": 39,
   "metadata": {},
   "outputs": [],
   "source": [
    "# Plot non-numerics in commons\n",
    "#for col in azdias[common_atr].select_dtypes(include = np.number).columns.tolist():\n",
    "    #plot_feature(col, azdias)"
   ]
  },
  {
   "cell_type": "markdown",
   "metadata": {},
   "source": [
    "### 2.2.3 Explore whole azdias data, check unkowns"
   ]
  },
  {
   "cell_type": "markdown",
   "metadata": {},
   "source": [
    "From above graphs, we see that some columns have values like -1.<br>\n",
    "In the exel file, under \"Value\" column; it is explained that -1 for all columns and 0 for some columns, mean \"unknown\". Also it shows that, 9 means \"unknown\" for some columns. I will convert those to NaN."
   ]
  },
  {
   "cell_type": "code",
   "execution_count": 40,
   "metadata": {},
   "outputs": [
    {
     "data": {
      "text/html": [
       "<div>\n",
       "<style scoped>\n",
       "    .dataframe tbody tr th:only-of-type {\n",
       "        vertical-align: middle;\n",
       "    }\n",
       "\n",
       "    .dataframe tbody tr th {\n",
       "        vertical-align: top;\n",
       "    }\n",
       "\n",
       "    .dataframe thead th {\n",
       "        text-align: right;\n",
       "    }\n",
       "</style>\n",
       "<table border=\"1\" class=\"dataframe\">\n",
       "  <thead>\n",
       "    <tr style=\"text-align: right;\">\n",
       "      <th></th>\n",
       "      <th>Attribute</th>\n",
       "      <th>Value</th>\n",
       "    </tr>\n",
       "  </thead>\n",
       "  <tbody>\n",
       "    <tr>\n",
       "      <th>0</th>\n",
       "      <td>AGER_TYP</td>\n",
       "      <td>-1</td>\n",
       "    </tr>\n",
       "    <tr>\n",
       "      <th>1</th>\n",
       "      <td>AGER_TYP</td>\n",
       "      <td>0</td>\n",
       "    </tr>\n",
       "    <tr>\n",
       "      <th>5</th>\n",
       "      <td>ALTERSKATEGORIE_GROB</td>\n",
       "      <td>-1, 0</td>\n",
       "    </tr>\n",
       "    <tr>\n",
       "      <th>11</th>\n",
       "      <td>ALTER_HH</td>\n",
       "      <td>0</td>\n",
       "    </tr>\n",
       "    <tr>\n",
       "      <th>33</th>\n",
       "      <td>ANREDE_KZ</td>\n",
       "      <td>-1, 0</td>\n",
       "    </tr>\n",
       "  </tbody>\n",
       "</table>\n",
       "</div>"
      ],
      "text/plain": [
       "               Attribute  Value\n",
       "0               AGER_TYP     -1\n",
       "1               AGER_TYP      0\n",
       "5   ALTERSKATEGORIE_GROB  -1, 0\n",
       "11              ALTER_HH      0\n",
       "33             ANREDE_KZ  -1, 0"
      ]
     },
     "execution_count": 40,
     "metadata": {},
     "output_type": "execute_result"
    }
   ],
   "source": [
    "# Create dataframe includes Attribute, Value, Meaning\n",
    "meanings = attributes.dropna(axis = 0, subset = [\"Meaning\"])[[\"Attribute\",\"Value\",\"Meaning\"]]\n",
    "\n",
    "# Filter datafrane for the rows contains unknowns\n",
    "unknowns = meanings[meanings.Meaning.str.contains(\"unknown\")|\n",
    "         meanings.Meaning.str.contains(\"no classification\")|\n",
    "         meanings.Meaning.str.contains(\"no transaction\")|\n",
    "         meanings.Meaning.str.contains(\"no transactions\")|\n",
    "         meanings.Meaning.str.contains(\"no online\")].drop_duplicates()[[\"Attribute\",\"Value\"]]\n",
    "unknowns.head()"
   ]
  },
  {
   "cell_type": "code",
   "execution_count": 41,
   "metadata": {},
   "outputs": [],
   "source": [
    "# Loop through azdias dataframe and replace necessary values with NaN\n",
    "\n",
    "# Loop in attributes that have unknowns\n",
    "for attribute in unknowns.Attribute.unique():\n",
    "    # Loop in unkown values\n",
    "    for value in unknowns[unknowns.Attribute == attribute].Value.values.tolist():\n",
    "        # get indices\n",
    "        idx = azdias.loc[:,attribute] == value\n",
    "        # replace with NaN\n",
    "        azdias.loc[idx,attribute] = np.NaN          "
   ]
  },
  {
   "cell_type": "code",
   "execution_count": 42,
   "metadata": {},
   "outputs": [
    {
     "data": {
      "text/html": [
       "<div>\n",
       "<style scoped>\n",
       "    .dataframe tbody tr th:only-of-type {\n",
       "        vertical-align: middle;\n",
       "    }\n",
       "\n",
       "    .dataframe tbody tr th {\n",
       "        vertical-align: top;\n",
       "    }\n",
       "\n",
       "    .dataframe thead th {\n",
       "        text-align: right;\n",
       "    }\n",
       "</style>\n",
       "<table border=\"1\" class=\"dataframe\">\n",
       "  <thead>\n",
       "    <tr style=\"text-align: right;\">\n",
       "      <th></th>\n",
       "      <th>LNR</th>\n",
       "      <th>AGER_TYP</th>\n",
       "      <th>AKT_DAT_KL</th>\n",
       "      <th>ALTER_HH</th>\n",
       "      <th>ALTER_KIND1</th>\n",
       "      <th>ALTER_KIND2</th>\n",
       "      <th>ALTER_KIND3</th>\n",
       "      <th>ALTER_KIND4</th>\n",
       "      <th>ALTERSKATEGORIE_FEIN</th>\n",
       "      <th>ANZ_HAUSHALTE_AKTIV</th>\n",
       "      <th>...</th>\n",
       "      <th>VK_ZG11</th>\n",
       "      <th>W_KEIT_KIND_HH</th>\n",
       "      <th>WOHNDAUER_2008</th>\n",
       "      <th>WOHNLAGE</th>\n",
       "      <th>ZABEOTYP</th>\n",
       "      <th>ANREDE_KZ</th>\n",
       "      <th>ALTERSKATEGORIE_GROB</th>\n",
       "      <th>YEAR_ADDED</th>\n",
       "      <th>MONTH_ADDED</th>\n",
       "      <th>DAY_ADDED</th>\n",
       "    </tr>\n",
       "  </thead>\n",
       "  <tbody>\n",
       "    <tr>\n",
       "      <th>0</th>\n",
       "      <td>910215</td>\n",
       "      <td>NaN</td>\n",
       "      <td>NaN</td>\n",
       "      <td>NaN</td>\n",
       "      <td>NaN</td>\n",
       "      <td>NaN</td>\n",
       "      <td>NaN</td>\n",
       "      <td>NaN</td>\n",
       "      <td>NaN</td>\n",
       "      <td>NaN</td>\n",
       "      <td>...</td>\n",
       "      <td>NaN</td>\n",
       "      <td>NaN</td>\n",
       "      <td>NaN</td>\n",
       "      <td>NaN</td>\n",
       "      <td>3.0</td>\n",
       "      <td>1.0</td>\n",
       "      <td>2.0</td>\n",
       "      <td>NaN</td>\n",
       "      <td>NaN</td>\n",
       "      <td>NaN</td>\n",
       "    </tr>\n",
       "    <tr>\n",
       "      <th>1</th>\n",
       "      <td>910220</td>\n",
       "      <td>NaN</td>\n",
       "      <td>9.0</td>\n",
       "      <td>NaN</td>\n",
       "      <td>NaN</td>\n",
       "      <td>NaN</td>\n",
       "      <td>NaN</td>\n",
       "      <td>NaN</td>\n",
       "      <td>21.0</td>\n",
       "      <td>11.0</td>\n",
       "      <td>...</td>\n",
       "      <td>10.0</td>\n",
       "      <td>3.0</td>\n",
       "      <td>9.0</td>\n",
       "      <td>4.0</td>\n",
       "      <td>5.0</td>\n",
       "      <td>2.0</td>\n",
       "      <td>1.0</td>\n",
       "      <td>1992.0</td>\n",
       "      <td>2.0</td>\n",
       "      <td>10.0</td>\n",
       "    </tr>\n",
       "    <tr>\n",
       "      <th>2</th>\n",
       "      <td>910225</td>\n",
       "      <td>NaN</td>\n",
       "      <td>9.0</td>\n",
       "      <td>17.0</td>\n",
       "      <td>NaN</td>\n",
       "      <td>NaN</td>\n",
       "      <td>NaN</td>\n",
       "      <td>NaN</td>\n",
       "      <td>17.0</td>\n",
       "      <td>10.0</td>\n",
       "      <td>...</td>\n",
       "      <td>6.0</td>\n",
       "      <td>3.0</td>\n",
       "      <td>9.0</td>\n",
       "      <td>2.0</td>\n",
       "      <td>5.0</td>\n",
       "      <td>2.0</td>\n",
       "      <td>3.0</td>\n",
       "      <td>1992.0</td>\n",
       "      <td>2.0</td>\n",
       "      <td>12.0</td>\n",
       "    </tr>\n",
       "    <tr>\n",
       "      <th>3</th>\n",
       "      <td>910226</td>\n",
       "      <td>2.0</td>\n",
       "      <td>1.0</td>\n",
       "      <td>13.0</td>\n",
       "      <td>NaN</td>\n",
       "      <td>NaN</td>\n",
       "      <td>NaN</td>\n",
       "      <td>NaN</td>\n",
       "      <td>13.0</td>\n",
       "      <td>1.0</td>\n",
       "      <td>...</td>\n",
       "      <td>11.0</td>\n",
       "      <td>NaN</td>\n",
       "      <td>9.0</td>\n",
       "      <td>7.0</td>\n",
       "      <td>3.0</td>\n",
       "      <td>2.0</td>\n",
       "      <td>4.0</td>\n",
       "      <td>1997.0</td>\n",
       "      <td>4.0</td>\n",
       "      <td>21.0</td>\n",
       "    </tr>\n",
       "    <tr>\n",
       "      <th>4</th>\n",
       "      <td>910241</td>\n",
       "      <td>NaN</td>\n",
       "      <td>1.0</td>\n",
       "      <td>20.0</td>\n",
       "      <td>NaN</td>\n",
       "      <td>NaN</td>\n",
       "      <td>NaN</td>\n",
       "      <td>NaN</td>\n",
       "      <td>14.0</td>\n",
       "      <td>3.0</td>\n",
       "      <td>...</td>\n",
       "      <td>4.0</td>\n",
       "      <td>2.0</td>\n",
       "      <td>9.0</td>\n",
       "      <td>3.0</td>\n",
       "      <td>4.0</td>\n",
       "      <td>1.0</td>\n",
       "      <td>3.0</td>\n",
       "      <td>1992.0</td>\n",
       "      <td>2.0</td>\n",
       "      <td>12.0</td>\n",
       "    </tr>\n",
       "  </tbody>\n",
       "</table>\n",
       "<p>5 rows × 369 columns</p>\n",
       "</div>"
      ],
      "text/plain": [
       "      LNR  AGER_TYP  AKT_DAT_KL  ALTER_HH  ALTER_KIND1  ALTER_KIND2  \\\n",
       "0  910215       NaN         NaN       NaN          NaN          NaN   \n",
       "1  910220       NaN         9.0       NaN          NaN          NaN   \n",
       "2  910225       NaN         9.0      17.0          NaN          NaN   \n",
       "3  910226       2.0         1.0      13.0          NaN          NaN   \n",
       "4  910241       NaN         1.0      20.0          NaN          NaN   \n",
       "\n",
       "   ALTER_KIND3  ALTER_KIND4  ALTERSKATEGORIE_FEIN  ANZ_HAUSHALTE_AKTIV  ...  \\\n",
       "0          NaN          NaN                   NaN                  NaN  ...   \n",
       "1          NaN          NaN                  21.0                 11.0  ...   \n",
       "2          NaN          NaN                  17.0                 10.0  ...   \n",
       "3          NaN          NaN                  13.0                  1.0  ...   \n",
       "4          NaN          NaN                  14.0                  3.0  ...   \n",
       "\n",
       "   VK_ZG11  W_KEIT_KIND_HH  WOHNDAUER_2008  WOHNLAGE  ZABEOTYP  ANREDE_KZ  \\\n",
       "0      NaN             NaN             NaN       NaN       3.0        1.0   \n",
       "1     10.0             3.0             9.0       4.0       5.0        2.0   \n",
       "2      6.0             3.0             9.0       2.0       5.0        2.0   \n",
       "3     11.0             NaN             9.0       7.0       3.0        2.0   \n",
       "4      4.0             2.0             9.0       3.0       4.0        1.0   \n",
       "\n",
       "   ALTERSKATEGORIE_GROB  YEAR_ADDED  MONTH_ADDED  DAY_ADDED  \n",
       "0                   2.0         NaN          NaN        NaN  \n",
       "1                   1.0      1992.0          2.0       10.0  \n",
       "2                   3.0      1992.0          2.0       12.0  \n",
       "3                   4.0      1997.0          4.0       21.0  \n",
       "4                   3.0      1992.0          2.0       12.0  \n",
       "\n",
       "[5 rows x 369 columns]"
      ]
     },
     "execution_count": 42,
     "metadata": {},
     "output_type": "execute_result"
    }
   ],
   "source": [
    "azdias.head()"
   ]
  },
  {
   "cell_type": "markdown",
   "metadata": {},
   "source": [
    "### 2.3 Handle Missing Data"
   ]
  },
  {
   "cell_type": "markdown",
   "metadata": {},
   "source": [
    "#### 2.3.1 Handle Missing Data in columns"
   ]
  },
  {
   "cell_type": "markdown",
   "metadata": {},
   "source": [
    "I will investigate the columns and rows to understand how many or what percentage of missing values they have."
   ]
  },
  {
   "cell_type": "code",
   "execution_count": 43,
   "metadata": {},
   "outputs": [
    {
     "data": {
      "image/png": "[encoded data removed]",
      "text/plain": [
       "<Figure size 1296x360 with 1 Axes>"
      ]
     },
     "metadata": {
      "needs_background": "light"
     },
     "output_type": "display_data"
    }
   ],
   "source": [
    "# Show missing percentage of columns in bar plot \n",
    "x = np.arange(azdias.shape[1])\n",
    "y = azdias.isnull().mean().sort_values(ascending = False)\n",
    "plt.figure(figsize = (18,5))\n",
    "plt.bar(x,y)\n",
    "plt.xlabel(\"Columns\")\n",
    "plt.ylabel(\"Percentage of missing values\")\n",
    "plt.title(\"Percentage of Missing Values by Columns in Azdias Data\");"
   ]
  },
  {
   "cell_type": "code",
   "execution_count": 44,
   "metadata": {},
   "outputs": [
    {
     "data": {
      "image/png": "[encoded data removed]",
      "text/plain": [
       "<Figure size 432x288 with 1 Axes>"
      ]
     },
     "metadata": {
      "needs_background": "light"
     },
     "output_type": "display_data"
    }
   ],
   "source": [
    "# Distribution of missing percentage\n",
    "x = azdias.isnull().mean()\n",
    "plt.hist(x,bins = 10)\n",
    "plt.yticks(np.arange(0,240,20))\n",
    "plt.xticks(np.arange(0,1,0.1))\n",
    "plt.xlabel(\"Missing percentage\")\n",
    "plt.ylabel(\"Frequency - Columns\")\n",
    "plt.title(\"Distribution of missing percentage of columns of Azdias\");"
   ]
  },
  {
   "cell_type": "markdown",
   "metadata": {},
   "source": [
    "From above, we can say that,almost:<br>\n",
    "* 100 columns have less than 0.1% missing value,\n",
    "* 220 columns have less than 0.2% missing value,\n",
    "* Rest of the colums have more than 0.2% missing value.<br>\n",
    "I will drop the columns have more than 0.2% missing value. I would like to know that how many columns exactly to be dropped."
   ]
  },
  {
   "cell_type": "code",
   "execution_count": 45,
   "metadata": {},
   "outputs": [
    {
     "name": "stdout",
     "output_type": "stream",
     "text": [
      "We have 40 colums having missing value more than 0.2%\n",
      "------------------------------------------------------------\n",
      "['D19_VERSI_ONLINE_QUOTE_12', 'D19_VERSAND_ONLINE_QUOTE_12', 'D19_BANKEN_ONLINE_QUOTE_12', 'D19_TELKO_ONLINE_QUOTE_12', 'D19_LOTTO', 'D19_SOZIALES', 'D19_LETZTER_KAUF_BRANCHE', 'D19_KONSUMTYP', 'D19_GESAMT_ONLINE_QUOTE_12', 'ALTERSKATEGORIE_FEIN', 'ALTER_HH', 'D19_GESAMT_DATUM', 'D19_VERSAND_DATUM', 'D19_GESAMT_ONLINE_DATUM', 'D19_VERSAND_ONLINE_DATUM', 'D19_GESAMT_ANZ_24', 'D19_GESAMT_OFFLINE_DATUM', 'D19_VERSAND_ANZ_24', 'KK_KUNDENTYP', 'D19_GESAMT_ANZ_12', 'D19_VERSAND_OFFLINE_DATUM', 'D19_VERSAND_ANZ_12', 'EXTSEL992', 'D19_TELKO_DATUM', 'D19_BANKEN_DATUM', 'AGER_TYP', 'D19_BANKEN_ONLINE_DATUM', 'D19_VERSI_ANZ_24', 'D19_BANKEN_ANZ_24', 'ALTER_KIND1', 'D19_TELKO_OFFLINE_DATUM', 'D19_VERSI_ANZ_12', 'D19_TELKO_ANZ_24', 'D19_BANKEN_ANZ_12', 'D19_TELKO_ANZ_12', 'ALTER_KIND2', 'D19_BANKEN_OFFLINE_DATUM', 'D19_TELKO_ONLINE_DATUM', 'ALTER_KIND3', 'ALTER_KIND4', 'LNR', 'EINGEFUEGT_AM']\n"
     ]
    }
   ],
   "source": [
    "print(\"We have {} colums having missing value more than 0.2%\"\\\n",
    "      .format(len(azdias.isnull().mean()[azdias.isnull().mean()>0.2])))\n",
    "print(\"------------------------------------------------------------\")\n",
    "\n",
    "# Columns to drop\n",
    "cols_to_drop = azdias.isnull().mean().sort_values()[azdias.isnull().mean()>0.2].index.tolist()\n",
    "\n",
    "# Append \"LNR\" ; it has ID's specific for customers, azdias.LNR.nunique() == azdias.shape[0]\n",
    "cols_to_drop.append(\"LNR\")\n",
    "\n",
    "# Append \"EINGEFUEGT_AM\"; three colums had been derived from it before; not need it\n",
    "cols_to_drop.append(\"EINGEFUEGT_AM\")\n",
    "\n",
    "print(cols_to_drop)"
   ]
  },
  {
   "cell_type": "code",
   "execution_count": 46,
   "metadata": {},
   "outputs": [
    {
     "name": "stdout",
     "output_type": "stream",
     "text": [
      "Now, there are 327 columns in Azdias!\n"
     ]
    }
   ],
   "source": [
    "# Drop columns from Azdias\n",
    "azdias.drop(cols_to_drop, axis = 1 , inplace = True)\n",
    "\n",
    "print(\"Now, there are {} columns in Azdias!\".format(azdias.shape[1]))"
   ]
  },
  {
   "cell_type": "markdown",
   "metadata": {},
   "source": [
    "#### 2.3.2 Handle Missing Data in Rows"
   ]
  },
  {
   "cell_type": "code",
   "execution_count": 47,
   "metadata": {},
   "outputs": [
    {
     "data": {
      "image/png": "[encoded data removed]",
      "text/plain": [
       "<Figure size 432x288 with 1 Axes>"
      ]
     },
     "metadata": {
      "needs_background": "light"
     },
     "output_type": "display_data"
    }
   ],
   "source": [
    "# Distribution of missing percentage of Rows\n",
    "x = azdias.isnull().mean(axis=1)\n",
    "plt.hist(x,bins = 5)\n",
    "plt.yticks(np.arange(0,800000,50000))\n",
    "plt.xticks(np.arange(0,1,0.15), rotation =45)\n",
    "plt.xlabel(\"Missing percentage\")\n",
    "plt.ylabel(\"Frequency - Rows\")\n",
    "plt.title(\"Distribution of missing percentage of rows of Azdias\");"
   ]
  },
  {
   "cell_type": "markdown",
   "metadata": {},
   "source": [
    "Almost;<br>\n",
    "* 750000 rows have missing values with less than 0.15%.\n",
    "* Rest of the rows have missing values more than 0.15%.\n",
    "* I will drop the rows that have missings more than 0.15%."
   ]
  },
  {
   "cell_type": "code",
   "execution_count": 48,
   "metadata": {},
   "outputs": [
    {
     "name": "stdout",
     "output_type": "stream",
     "text": [
      "139890 rows have missing values more than 0.15% and will be dropped!\n",
      "Now, there are 751331 rows in Azdias!\n"
     ]
    }
   ],
   "source": [
    "# Drop missing rows from Azdias\n",
    "\n",
    "print(\"{} rows have missing values more than 0.15% and will be dropped!\"\\\n",
    "      .format(azdias.isnull().mean(axis=1)[azdias.isnull().mean(axis=1)>0.15].shape[0]))\n",
    "\n",
    "# Create indexes of rows to be dropped\n",
    "rows_to_drop = azdias.isnull().mean(axis=1)[azdias.isnull().mean(axis=1)>0.15].index\n",
    "\n",
    "# Drop rows\n",
    "azdias.drop(rows_to_drop, axis = 0, inplace = True)\n",
    "\n",
    "print(\"Now, there are {} rows in Azdias!\".format(azdias.shape[0]))"
   ]
  },
  {
   "cell_type": "markdown",
   "metadata": {},
   "source": [
    "#### 2.3.3 Imputation of Missing Values"
   ]
  },
  {
   "cell_type": "markdown",
   "metadata": {},
   "source": [
    "* I will fill missing values with:\n",
    "- most frequent value in categorical (nominal and ordinal) columns,<br>\n",
    "- mean in numericals"
   ]
  },
  {
   "cell_type": "code",
   "execution_count": 49,
   "metadata": {},
   "outputs": [
    {
     "name": "stdout",
     "output_type": "stream",
     "text": [
      "Count of categoricals before update: 55\n",
      "Count of categoricals after update: 48\n",
      "Count of ordinals before update: 296\n",
      "Count of ordinals after update: 264\n",
      "Count of numericals before update: 17\n",
      "Count of numericals after update: 15\n"
     ]
    }
   ],
   "source": [
    "# Update the list of categorical columns, by removing dropped columns from list\n",
    "print(\"Count of categoricals before update:\", len(categoricals))\n",
    "categoricals = list(set.intersection(set(azdias.columns.tolist()), set(categoricals)))\n",
    "print(\"Count of categoricals after update:\", len(categoricals))\n",
    "\n",
    "\n",
    "# Update the list of ordinal columns, by removing dropped columns from list\n",
    "print(\"Count of ordinals before update:\", len(ordinals))\n",
    "ordinals = list(set.intersection(set(azdias.columns.tolist()), set(ordinals)))\n",
    "print(\"Count of ordinals after update:\", len(ordinals))\n",
    "\n",
    "\n",
    "# Update the list of numerical columns, by removing dropped columns from list\n",
    "print(\"Count of numericals before update:\", len(numericals))\n",
    "numericals = list(set.intersection(set(azdias.columns.tolist()), set(numericals)))\n",
    "print(\"Count of numericals after update:\", len(numericals))"
   ]
  },
  {
   "cell_type": "code",
   "execution_count": 50,
   "metadata": {},
   "outputs": [],
   "source": [
    "# For categorical columns: Fill missings with most frequent value\n",
    "for col in categoricals:\n",
    "    azdias[col] = azdias[col].fillna(azdias[col].value_counts().index[0])\n",
    "\n",
    "# For ordinal columns: Fill missings with most frequent value\n",
    "for col in ordinals:\n",
    "    azdias[col] = azdias[col].fillna(azdias[col].value_counts().index[0])  \n",
    "    \n",
    "# For numerical columns: Fill missings with mean\n",
    "for col in numericals:\n",
    "    azdias[col] = azdias[col].fillna(azdias[col].mean())"
   ]
  },
  {
   "cell_type": "code",
   "execution_count": 51,
   "metadata": {},
   "outputs": [
    {
     "name": "stdout",
     "output_type": "stream",
     "text": [
      "We have 0 nulls in categorical columns of Azdias\n",
      "We have 0 nulls in numerical columns of Azdias\n",
      "We have 0 nulls in ordinal columns of Azdias\n"
     ]
    }
   ],
   "source": [
    "# Check the nulls\n",
    "print(\"We have {} nulls in categorical columns of Azdias\"\\\n",
    "      .format((azdias[categoricals].isnull().mean()>0).sum()))\n",
    "\n",
    "print(\"We have {} nulls in numerical columns of Azdias\"\\\n",
    "      .format((azdias[numericals].isnull().mean()>0).sum()))\n",
    "\n",
    "print(\"We have {} nulls in ordinal columns of Azdias\"\\\n",
    "      .format((azdias[ordinals].isnull().mean()>0).sum()))\n"
   ]
  },
  {
   "cell_type": "markdown",
   "metadata": {},
   "source": [
    "### 2.4 Handling Outliers"
   ]
  },
  {
   "cell_type": "code",
   "execution_count": 52,
   "metadata": {},
   "outputs": [
    {
     "data": {
      "image/png": "[encoded data removed]",
      "text/plain": [
       "<Figure size 720x432 with 1 Axes>"
      ]
     },
     "metadata": {
      "needs_background": "light"
     },
     "output_type": "display_data"
    }
   ],
   "source": [
    "# Glance at numerical variables\n",
    "azdias[numericals].boxplot(rot = 90, figsize =(10,6));"
   ]
  },
  {
   "cell_type": "code",
   "execution_count": 53,
   "metadata": {},
   "outputs": [],
   "source": [
    "def detect_outliers(df,features_of_df):\n",
    "    \n",
    "    '''\n",
    "    input --> df : Data frame of which colums to be investigated\n",
    "              features_of_df : List of column names in which outliers to be investigated\n",
    "              \n",
    "    output --> list of row-index of outliers that exist in more than 2 features  \n",
    "    '''\n",
    "    \n",
    "    outlier_indices_list=[]\n",
    "    \n",
    "    for each in features_of_df:\n",
    "        # first quartile Q1\n",
    "        Q1 = np.percentile(df[[each]], 25)\n",
    "        # third quartile Q3\n",
    "        Q3 = np.percentile(df[[each]], 75)\n",
    "        # IQR = Q3 - Q1\n",
    "        IQR = Q3 - Q1\n",
    "        # outlier step = IQR x 1.5\n",
    "        outlier_step = IQR*1.5\n",
    "        # outliers = Q1 - outlier step or Q3 + outlier_step \n",
    "        outliers = (df[each] < Q1 - outlier_step) |(df[each]>Q3 + outlier_step) \n",
    "        # detect indeces of outliers in features of df\n",
    "        outlier_indices= df[outliers].index\n",
    "        # store indices\n",
    "        outlier_indices_list.extend(outlier_indices)\n",
    "    outlier_indices = Counter(outlier_indices_list)\n",
    "    multiple_outliers = list(i for i, v in outlier_indices.items() if v > 2)\n",
    "    return multiple_outliers"
   ]
  },
  {
   "cell_type": "code",
   "execution_count": 54,
   "metadata": {},
   "outputs": [
    {
     "name": "stdout",
     "output_type": "stream",
     "text": [
      "There are 1047 rows where outliers exist for three columns!\n"
     ]
    }
   ],
   "source": [
    "# Find outliers for three columns\n",
    "outliers_index = detect_outliers(azdias,['ANZ_HAUSHALTE_AKTIV','ANZ_STATISTISCHE_HAUSHALTE','KBA13_ANZAHL_PKW'])\n",
    "print(\"There are {} rows where outliers exist for three columns!\".format(len(outliers_index)))"
   ]
  },
  {
   "cell_type": "code",
   "execution_count": 55,
   "metadata": {},
   "outputs": [
    {
     "name": "stdout",
     "output_type": "stream",
     "text": [
      "There are 751331 rows before dropping outliers!\n",
      "There are 750284 rows after dropping outliers!\n"
     ]
    }
   ],
   "source": [
    "# Drop outliers\n",
    "print(\"There are {} rows before dropping outliers!\".format(azdias.shape[0]))\n",
    "azdias = azdias.drop(outliers_index, axis = 0)\n",
    "print(\"There are {} rows after dropping outliers!\".format(azdias.shape[0]))"
   ]
  },
  {
   "cell_type": "markdown",
   "metadata": {},
   "source": [
    "### 2.5 Feature Encoding"
   ]
  },
  {
   "cell_type": "markdown",
   "metadata": {},
   "source": [
    "Previously i categorized all columns, according to data types, into three categories:\n",
    "* Categorical, Numerical and Ordinal <br>\n",
    "For numerical columns, i will keep them as they are.<br>\n",
    "For categorical columns, i will make dummy encoding.<br>\n",
    "For ordinal columns, i will keep them as they are."
   ]
  },
  {
   "cell_type": "code",
   "execution_count": 56,
   "metadata": {},
   "outputs": [],
   "source": [
    "# Create dummy variables for categorical columns\n",
    "azdias = pd.get_dummies(azdias, columns = categoricals, drop_first = True )"
   ]
  },
  {
   "cell_type": "code",
   "execution_count": 57,
   "metadata": {},
   "outputs": [
    {
     "name": "stdout",
     "output_type": "stream",
     "text": [
      "After dummy encoding; Azdias have 615 columns!\n"
     ]
    }
   ],
   "source": [
    "print(\"After dummy encoding; Azdias have {} columns!\"\\\n",
    "      .format(azdias.shape[1]))"
   ]
  },
  {
   "cell_type": "markdown",
   "metadata": {},
   "source": [
    "### 2.6 Define a function to clean Customer data"
   ]
  },
  {
   "cell_type": "code",
   "execution_count": 116,
   "metadata": {},
   "outputs": [],
   "source": [
    "def clean_df(df, unknowns, cols_to_drop, categoricals, ordinals, numericals):\n",
    "    \n",
    "    # Converting to date time object\n",
    "    df[\"EINGEFUEGT_AM\"] =  pd.to_datetime(df[\"EINGEFUEGT_AM\"], infer_datetime_format=True)\n",
    "    \n",
    "    # Create column \"YEAR_ADDED\", \"MONTH_ADDEDD\",\"DAY_ADDED\" columns; i will drop \"EINGEFUEGT_AM\" later\n",
    "    df[\"YEAR_ADDED\"] = df[\"EINGEFUEGT_AM\"].dt.year\n",
    "    df[\"MONTH_ADDED\"] = df[\"EINGEFUEGT_AM\"].dt.month\n",
    "    df[\"DAY_ADDED\"] = df[\"EINGEFUEGT_AM\"].dt.day\n",
    "    \n",
    "    # Replace \"XX\" with NaN\n",
    "    df.CAMEO_INTL_2015 = df.CAMEO_INTL_2015.replace(\"XX\", np.NaN)\n",
    "    \n",
    "    # Convert data type to float of CAMEO_INTL_2015    \n",
    "    df[\"CAMEO_INTL_2015\"] = df[\"CAMEO_INTL_2015\"].astype(float)  \n",
    "\n",
    "    \n",
    "    \n",
    "    # Replace \"X\" and \"XX\" with NaN in columns \"CAMEO_DEUG_2015\",\"CAMEO_DEU_2015\"\n",
    "    df.CAMEO_DEUG_2015 = df.CAMEO_DEUG_2015.replace(\"X\", np.NaN)\n",
    "    df.CAMEO_DEU_2015 = df.CAMEO_DEU_2015.replace(\"XX\", np.NaN)\n",
    "    \n",
    "    # Conver data type\n",
    "    df.CAMEO_DEUG_2015 = df.CAMEO_DEUG_2015.astype(float)\n",
    "    \n",
    "    # Replace \"W\" and \"O\" with 0 and 1.\n",
    "    df.OST_WEST_KZ = df.OST_WEST_KZ.replace(\"W\", 0).replace(\"O\",1)\n",
    "    \n",
    "    # Replace values with numbers in CAMEO_DEU_2015\n",
    "    # Create dictionary to store values\n",
    "    map_dict = dict()\n",
    "    k = 0\n",
    "    for each in df.CAMEO_DEU_2015.value_counts().index.sort_values().tolist():\n",
    "        map_dict[each]= k\n",
    "        k = k + 1\n",
    "\n",
    "    # Replace    \n",
    "    df[\"CAMEO_DEU_2015\"] = df[\"CAMEO_DEU_2015\"].replace(map_dict) \n",
    "        \n",
    "    # Loop through azdias dataframe and replace necessary values with NaN\n",
    "    # Loop in attributes that have unknowns\n",
    "    for attribute in unknowns.Attribute.unique():\n",
    "        # Loop in unkown values\n",
    "        for value in unknowns[unknowns.Attribute == attribute].Value.values.tolist():\n",
    "            # get indices\n",
    "            idx = df.loc[:,attribute] == value\n",
    "            # replace with NaN\n",
    "            df.loc[idx,attribute] = np.NaN \n",
    "\n",
    "    \n",
    "    # Drop columns from df\n",
    "    df.drop(cols_to_drop, axis = 1 , inplace = True)\n",
    "    print(\"{} columns are dropped!\".format(len(cols_to_drop)))\n",
    "    \n",
    "    # Create indexes of rows to be dropped\n",
    "    rows_to_drop = df.isnull().mean(axis=1)[df.isnull().mean(axis=1)>0.15].index\n",
    "    \n",
    "    # Drop rows\n",
    "    df.drop(rows_to_drop, axis = 0, inplace = True)\n",
    "    print(\"{} rows are dropped!\".format(len(rows_to_drop)))\n",
    "    \n",
    "   \n",
    "    # For categorical columns: Fill missings with most frequent value\n",
    "    for col in categoricals:\n",
    "        df[col] = df[col].fillna(df[col].value_counts().index[0])\n",
    "\n",
    "    # For ordinal columns: Fill missings with most frequent value\n",
    "    for col in ordinals:\n",
    "        df[col] = df[col].fillna(df[col].value_counts().index[0])  \n",
    "\n",
    "    # For numerical columns: Fill missings with mean\n",
    "    for col in numericals:\n",
    "        df[col] = df[col].fillna(df[col].mean())    \n",
    "        \n",
    "    # Find outliers for three columns\n",
    "    outliers_index = detect_outliers(df,['ANZ_HAUSHALTE_AKTIV','ANZ_STATISTISCHE_HAUSHALTE','KBA13_ANZAHL_PKW'])\n",
    "    \n",
    "    # Drop outliers\n",
    "    df = df.drop(outliers_index, axis = 0)\n",
    "    print(\"{} rows of outliers are dropped!\".format(len(outliers_index)))\n",
    "    \n",
    "    # Create dummy variables for categorical columns\n",
    "    df = pd.get_dummies(df, columns = categoricals, drop_first = True )\n",
    "    print(\"{} columns are dummy-encoded!\".format(len(categoricals)))\n",
    "    \n",
    "    print(\"Final data has {} rows and {} colums!\".format(df.shape[0], df.shape[1]))\n",
    "    \n",
    "    return df"
   ]
  },
  {
   "cell_type": "code",
   "execution_count": 59,
   "metadata": {},
   "outputs": [],
   "source": [
    "# Clean the Customer data frame\n",
    "customers = clean_df(customers, unknowns, cols_to_drop, categoricals, ordinals, numericals)"
   ]
  },
  {
   "cell_type": "code",
   "execution_count": 60,
   "metadata": {},
   "outputs": [
    {
     "data": {
      "text/plain": [
       "False"
      ]
     },
     "execution_count": 60,
     "metadata": {},
     "output_type": "execute_result"
    }
   ],
   "source": [
    "# Check if the nulls handled in Customers\n",
    "customers.isnull().mean().sum() > 0"
   ]
  },
  {
   "cell_type": "code",
   "execution_count": 61,
   "metadata": {},
   "outputs": [
    {
     "data": {
      "text/plain": [
       "(615, 613)"
      ]
     },
     "execution_count": 61,
     "metadata": {},
     "output_type": "execute_result"
    }
   ],
   "source": [
    "# Check the number of columns\n",
    "(azdias.shape[1], customers.shape[1])"
   ]
  },
  {
   "cell_type": "code",
   "execution_count": 62,
   "metadata": {},
   "outputs": [
    {
     "name": "stdout",
     "output_type": "stream",
     "text": [
      "Columns exist in Azdias but not exist in Customers: ['GEBAEUDETYP_5.0', 'TITEL_KZ_2.0']\n"
     ]
    }
   ],
   "source": [
    "col_difference = list(set.difference(set(azdias.columns.tolist()), set(customers.columns.tolist())))\n",
    "print(\"Columns exist in Azdias but not exist in Customers: {}\".format(col_difference))"
   ]
  },
  {
   "cell_type": "code",
   "execution_count": 63,
   "metadata": {},
   "outputs": [],
   "source": [
    "# Drop the different columns from Azdias\n",
    "azdias.drop(col_difference, axis = 1, inplace = True)"
   ]
  },
  {
   "cell_type": "markdown",
   "metadata": {},
   "source": [
    "### 2.7 Feature Scaling of Azdias and Customer Data"
   ]
  },
  {
   "cell_type": "code",
   "execution_count": 64,
   "metadata": {},
   "outputs": [],
   "source": [
    "# Apply scaling to Azdias data frame\n",
    "scaler = StandardScaler()\n",
    "azdias_scaled = pd.DataFrame(scaler.fit_transform(azdias), columns = azdias.columns)"
   ]
  },
  {
   "cell_type": "code",
   "execution_count": 65,
   "metadata": {},
   "outputs": [],
   "source": [
    "# Apply scaling to Customers data frame\n",
    "customers_scaled = pd.DataFrame(scaler.fit_transform(customers), columns = customers.columns)"
   ]
  },
  {
   "cell_type": "code",
   "execution_count": 66,
   "metadata": {},
   "outputs": [
    {
     "data": {
      "text/html": [
       "<div>\n",
       "<style scoped>\n",
       "    .dataframe tbody tr th:only-of-type {\n",
       "        vertical-align: middle;\n",
       "    }\n",
       "\n",
       "    .dataframe tbody tr th {\n",
       "        vertical-align: top;\n",
       "    }\n",
       "\n",
       "    .dataframe thead th {\n",
       "        text-align: right;\n",
       "    }\n",
       "</style>\n",
       "<table border=\"1\" class=\"dataframe\">\n",
       "  <thead>\n",
       "    <tr style=\"text-align: right;\">\n",
       "      <th></th>\n",
       "      <th>ANZ_HAUSHALTE_AKTIV</th>\n",
       "      <th>ANZ_HH_TITEL</th>\n",
       "      <th>ANZ_KINDER</th>\n",
       "      <th>ANZ_PERSONEN</th>\n",
       "      <th>ANZ_STATISTISCHE_HAUSHALTE</th>\n",
       "      <th>ANZ_TITEL</th>\n",
       "      <th>ARBEIT</th>\n",
       "      <th>BALLRAUM</th>\n",
       "      <th>CAMEO_DEUG_2015</th>\n",
       "      <th>D19_BANKEN_DIREKT</th>\n",
       "      <th>...</th>\n",
       "      <th>CJT_KATALOGNUTZER_2.0</th>\n",
       "      <th>CJT_KATALOGNUTZER_3.0</th>\n",
       "      <th>CJT_KATALOGNUTZER_4.0</th>\n",
       "      <th>CJT_KATALOGNUTZER_5.0</th>\n",
       "      <th>UMFELD_ALT_2.0</th>\n",
       "      <th>UMFELD_ALT_3.0</th>\n",
       "      <th>UMFELD_ALT_4.0</th>\n",
       "      <th>UMFELD_ALT_5.0</th>\n",
       "      <th>HEALTH_TYP_2.0</th>\n",
       "      <th>HEALTH_TYP_3.0</th>\n",
       "    </tr>\n",
       "  </thead>\n",
       "  <tbody>\n",
       "    <tr>\n",
       "      <th>0</th>\n",
       "      <td>0.164806</td>\n",
       "      <td>-0.128564</td>\n",
       "      <td>-0.296945</td>\n",
       "      <td>0.233102</td>\n",
       "      <td>0.299032</td>\n",
       "      <td>-0.060641</td>\n",
       "      <td>-0.190917</td>\n",
       "      <td>0.851585</td>\n",
       "      <td>0.959614</td>\n",
       "      <td>-0.463353</td>\n",
       "      <td>...</td>\n",
       "      <td>-0.380336</td>\n",
       "      <td>-0.475087</td>\n",
       "      <td>-0.510021</td>\n",
       "      <td>-0.628016</td>\n",
       "      <td>-0.428276</td>\n",
       "      <td>1.653195</td>\n",
       "      <td>-0.645069</td>\n",
       "      <td>-0.433863</td>\n",
       "      <td>-0.760700</td>\n",
       "      <td>1.125754</td>\n",
       "    </tr>\n",
       "    <tr>\n",
       "      <th>1</th>\n",
       "      <td>0.100299</td>\n",
       "      <td>-0.128564</td>\n",
       "      <td>-0.296945</td>\n",
       "      <td>-0.627052</td>\n",
       "      <td>-0.051397</td>\n",
       "      <td>-0.060641</td>\n",
       "      <td>-0.190917</td>\n",
       "      <td>-0.975151</td>\n",
       "      <td>-0.645583</td>\n",
       "      <td>-0.463353</td>\n",
       "      <td>...</td>\n",
       "      <td>2.629253</td>\n",
       "      <td>-0.475087</td>\n",
       "      <td>-0.510021</td>\n",
       "      <td>-0.628016</td>\n",
       "      <td>2.334940</td>\n",
       "      <td>-0.604889</td>\n",
       "      <td>-0.645069</td>\n",
       "      <td>-0.433863</td>\n",
       "      <td>-0.760700</td>\n",
       "      <td>1.125754</td>\n",
       "    </tr>\n",
       "    <tr>\n",
       "      <th>2</th>\n",
       "      <td>-0.480267</td>\n",
       "      <td>-0.128564</td>\n",
       "      <td>-0.296945</td>\n",
       "      <td>-1.487206</td>\n",
       "      <td>-0.401826</td>\n",
       "      <td>-0.060641</td>\n",
       "      <td>-1.195786</td>\n",
       "      <td>-0.061783</td>\n",
       "      <td>-1.448181</td>\n",
       "      <td>-0.463353</td>\n",
       "      <td>...</td>\n",
       "      <td>-0.380336</td>\n",
       "      <td>2.104876</td>\n",
       "      <td>-0.510021</td>\n",
       "      <td>-0.628016</td>\n",
       "      <td>-0.428276</td>\n",
       "      <td>-0.604889</td>\n",
       "      <td>1.550222</td>\n",
       "      <td>-0.433863</td>\n",
       "      <td>1.314579</td>\n",
       "      <td>-0.888294</td>\n",
       "    </tr>\n",
       "    <tr>\n",
       "      <th>3</th>\n",
       "      <td>-0.351253</td>\n",
       "      <td>-0.128564</td>\n",
       "      <td>-0.296945</td>\n",
       "      <td>1.953409</td>\n",
       "      <td>-0.331740</td>\n",
       "      <td>-0.060641</td>\n",
       "      <td>0.813952</td>\n",
       "      <td>-0.975151</td>\n",
       "      <td>0.157015</td>\n",
       "      <td>0.019100</td>\n",
       "      <td>...</td>\n",
       "      <td>-0.380336</td>\n",
       "      <td>2.104876</td>\n",
       "      <td>-0.510021</td>\n",
       "      <td>-0.628016</td>\n",
       "      <td>-0.428276</td>\n",
       "      <td>-0.604889</td>\n",
       "      <td>1.550222</td>\n",
       "      <td>-0.433863</td>\n",
       "      <td>-0.760700</td>\n",
       "      <td>1.125754</td>\n",
       "    </tr>\n",
       "    <tr>\n",
       "      <th>4</th>\n",
       "      <td>-0.222238</td>\n",
       "      <td>-0.128564</td>\n",
       "      <td>-0.296945</td>\n",
       "      <td>-0.627052</td>\n",
       "      <td>-0.401826</td>\n",
       "      <td>-0.060641</td>\n",
       "      <td>-1.195786</td>\n",
       "      <td>0.851585</td>\n",
       "      <td>0.959614</td>\n",
       "      <td>-0.463353</td>\n",
       "      <td>...</td>\n",
       "      <td>-0.380336</td>\n",
       "      <td>-0.475087</td>\n",
       "      <td>-0.510021</td>\n",
       "      <td>1.592317</td>\n",
       "      <td>-0.428276</td>\n",
       "      <td>1.653195</td>\n",
       "      <td>-0.645069</td>\n",
       "      <td>-0.433863</td>\n",
       "      <td>-0.760700</td>\n",
       "      <td>1.125754</td>\n",
       "    </tr>\n",
       "  </tbody>\n",
       "</table>\n",
       "<p>5 rows × 613 columns</p>\n",
       "</div>"
      ],
      "text/plain": [
       "   ANZ_HAUSHALTE_AKTIV  ANZ_HH_TITEL  ANZ_KINDER  ANZ_PERSONEN  \\\n",
       "0             0.164806     -0.128564   -0.296945      0.233102   \n",
       "1             0.100299     -0.128564   -0.296945     -0.627052   \n",
       "2            -0.480267     -0.128564   -0.296945     -1.487206   \n",
       "3            -0.351253     -0.128564   -0.296945      1.953409   \n",
       "4            -0.222238     -0.128564   -0.296945     -0.627052   \n",
       "\n",
       "   ANZ_STATISTISCHE_HAUSHALTE  ANZ_TITEL    ARBEIT  BALLRAUM  CAMEO_DEUG_2015  \\\n",
       "0                    0.299032  -0.060641 -0.190917  0.851585         0.959614   \n",
       "1                   -0.051397  -0.060641 -0.190917 -0.975151        -0.645583   \n",
       "2                   -0.401826  -0.060641 -1.195786 -0.061783        -1.448181   \n",
       "3                   -0.331740  -0.060641  0.813952 -0.975151         0.157015   \n",
       "4                   -0.401826  -0.060641 -1.195786  0.851585         0.959614   \n",
       "\n",
       "   D19_BANKEN_DIREKT  ...  CJT_KATALOGNUTZER_2.0  CJT_KATALOGNUTZER_3.0  \\\n",
       "0          -0.463353  ...              -0.380336              -0.475087   \n",
       "1          -0.463353  ...               2.629253              -0.475087   \n",
       "2          -0.463353  ...              -0.380336               2.104876   \n",
       "3           0.019100  ...              -0.380336               2.104876   \n",
       "4          -0.463353  ...              -0.380336              -0.475087   \n",
       "\n",
       "   CJT_KATALOGNUTZER_4.0  CJT_KATALOGNUTZER_5.0  UMFELD_ALT_2.0  \\\n",
       "0              -0.510021              -0.628016       -0.428276   \n",
       "1              -0.510021              -0.628016        2.334940   \n",
       "2              -0.510021              -0.628016       -0.428276   \n",
       "3              -0.510021              -0.628016       -0.428276   \n",
       "4              -0.510021               1.592317       -0.428276   \n",
       "\n",
       "   UMFELD_ALT_3.0  UMFELD_ALT_4.0  UMFELD_ALT_5.0  HEALTH_TYP_2.0  \\\n",
       "0        1.653195       -0.645069       -0.433863       -0.760700   \n",
       "1       -0.604889       -0.645069       -0.433863       -0.760700   \n",
       "2       -0.604889        1.550222       -0.433863        1.314579   \n",
       "3       -0.604889        1.550222       -0.433863       -0.760700   \n",
       "4        1.653195       -0.645069       -0.433863       -0.760700   \n",
       "\n",
       "   HEALTH_TYP_3.0  \n",
       "0        1.125754  \n",
       "1        1.125754  \n",
       "2       -0.888294  \n",
       "3        1.125754  \n",
       "4        1.125754  \n",
       "\n",
       "[5 rows x 613 columns]"
      ]
     },
     "execution_count": 66,
     "metadata": {},
     "output_type": "execute_result"
    }
   ],
   "source": [
    "azdias_scaled.head()"
   ]
  },
  {
   "cell_type": "code",
   "execution_count": 67,
   "metadata": {},
   "outputs": [
    {
     "data": {
      "text/html": [
       "<div>\n",
       "<style scoped>\n",
       "    .dataframe tbody tr th:only-of-type {\n",
       "        vertical-align: middle;\n",
       "    }\n",
       "\n",
       "    .dataframe tbody tr th {\n",
       "        vertical-align: top;\n",
       "    }\n",
       "\n",
       "    .dataframe thead th {\n",
       "        text-align: right;\n",
       "    }\n",
       "</style>\n",
       "<table border=\"1\" class=\"dataframe\">\n",
       "  <thead>\n",
       "    <tr style=\"text-align: right;\">\n",
       "      <th></th>\n",
       "      <th>ANZ_HAUSHALTE_AKTIV</th>\n",
       "      <th>ANZ_HH_TITEL</th>\n",
       "      <th>ANZ_KINDER</th>\n",
       "      <th>ANZ_PERSONEN</th>\n",
       "      <th>ANZ_STATISTISCHE_HAUSHALTE</th>\n",
       "      <th>ANZ_TITEL</th>\n",
       "      <th>ARBEIT</th>\n",
       "      <th>BALLRAUM</th>\n",
       "      <th>CAMEO_DEUG_2015</th>\n",
       "      <th>D19_BANKEN_DIREKT</th>\n",
       "      <th>...</th>\n",
       "      <th>CJT_KATALOGNUTZER_2.0</th>\n",
       "      <th>CJT_KATALOGNUTZER_3.0</th>\n",
       "      <th>CJT_KATALOGNUTZER_4.0</th>\n",
       "      <th>CJT_KATALOGNUTZER_5.0</th>\n",
       "      <th>UMFELD_ALT_2.0</th>\n",
       "      <th>UMFELD_ALT_3.0</th>\n",
       "      <th>UMFELD_ALT_4.0</th>\n",
       "      <th>UMFELD_ALT_5.0</th>\n",
       "      <th>HEALTH_TYP_2.0</th>\n",
       "      <th>HEALTH_TYP_3.0</th>\n",
       "    </tr>\n",
       "  </thead>\n",
       "  <tbody>\n",
       "    <tr>\n",
       "      <th>0</th>\n",
       "      <td>-0.279911</td>\n",
       "      <td>-0.128558</td>\n",
       "      <td>-0.264907</td>\n",
       "      <td>-0.203160</td>\n",
       "      <td>-0.263158</td>\n",
       "      <td>-0.134519</td>\n",
       "      <td>-1.818381</td>\n",
       "      <td>-0.611942</td>\n",
       "      <td>-1.40217</td>\n",
       "      <td>-0.426604</td>\n",
       "      <td>...</td>\n",
       "      <td>-0.279164</td>\n",
       "      <td>-0.414208</td>\n",
       "      <td>2.12445</td>\n",
       "      <td>-0.931878</td>\n",
       "      <td>-0.486942</td>\n",
       "      <td>-0.605694</td>\n",
       "      <td>1.876075</td>\n",
       "      <td>-0.404837</td>\n",
       "      <td>-0.839815</td>\n",
       "      <td>-0.624524</td>\n",
       "    </tr>\n",
       "    <tr>\n",
       "      <th>1</th>\n",
       "      <td>-0.279911</td>\n",
       "      <td>-0.128558</td>\n",
       "      <td>-0.264907</td>\n",
       "      <td>-0.917164</td>\n",
       "      <td>-0.263158</td>\n",
       "      <td>-0.134519</td>\n",
       "      <td>0.165508</td>\n",
       "      <td>1.277295</td>\n",
       "      <td>0.27563</td>\n",
       "      <td>-0.426604</td>\n",
       "      <td>...</td>\n",
       "      <td>-0.279164</td>\n",
       "      <td>-0.414208</td>\n",
       "      <td>-0.47071</td>\n",
       "      <td>1.073102</td>\n",
       "      <td>-0.486942</td>\n",
       "      <td>-0.605694</td>\n",
       "      <td>-0.533028</td>\n",
       "      <td>-0.404837</td>\n",
       "      <td>1.190739</td>\n",
       "      <td>-0.624524</td>\n",
       "    </tr>\n",
       "    <tr>\n",
       "      <th>2</th>\n",
       "      <td>-0.352184</td>\n",
       "      <td>0.000796</td>\n",
       "      <td>-0.264907</td>\n",
       "      <td>-1.631168</td>\n",
       "      <td>-0.263158</td>\n",
       "      <td>-0.134519</td>\n",
       "      <td>-1.818381</td>\n",
       "      <td>1.277295</td>\n",
       "      <td>-0.14382</td>\n",
       "      <td>-0.426604</td>\n",
       "      <td>...</td>\n",
       "      <td>-0.279164</td>\n",
       "      <td>-0.414208</td>\n",
       "      <td>-0.47071</td>\n",
       "      <td>1.073102</td>\n",
       "      <td>-0.486942</td>\n",
       "      <td>1.650998</td>\n",
       "      <td>-0.533028</td>\n",
       "      <td>-0.404837</td>\n",
       "      <td>1.190739</td>\n",
       "      <td>-0.624524</td>\n",
       "    </tr>\n",
       "    <tr>\n",
       "      <th>3</th>\n",
       "      <td>0.153723</td>\n",
       "      <td>-0.128558</td>\n",
       "      <td>-0.264907</td>\n",
       "      <td>1.224848</td>\n",
       "      <td>0.174495</td>\n",
       "      <td>-0.134519</td>\n",
       "      <td>0.165508</td>\n",
       "      <td>-0.611942</td>\n",
       "      <td>1.11453</td>\n",
       "      <td>2.089999</td>\n",
       "      <td>...</td>\n",
       "      <td>-0.279164</td>\n",
       "      <td>-0.414208</td>\n",
       "      <td>2.12445</td>\n",
       "      <td>-0.931878</td>\n",
       "      <td>2.053634</td>\n",
       "      <td>-0.605694</td>\n",
       "      <td>-0.533028</td>\n",
       "      <td>-0.404837</td>\n",
       "      <td>-0.839815</td>\n",
       "      <td>1.601221</td>\n",
       "    </tr>\n",
       "    <tr>\n",
       "      <th>4</th>\n",
       "      <td>-0.279911</td>\n",
       "      <td>-0.128558</td>\n",
       "      <td>-0.264907</td>\n",
       "      <td>-0.203160</td>\n",
       "      <td>-0.263158</td>\n",
       "      <td>-0.134519</td>\n",
       "      <td>0.165508</td>\n",
       "      <td>1.277295</td>\n",
       "      <td>0.27563</td>\n",
       "      <td>-0.426604</td>\n",
       "      <td>...</td>\n",
       "      <td>-0.279164</td>\n",
       "      <td>2.414246</td>\n",
       "      <td>-0.47071</td>\n",
       "      <td>-0.931878</td>\n",
       "      <td>2.053634</td>\n",
       "      <td>-0.605694</td>\n",
       "      <td>-0.533028</td>\n",
       "      <td>-0.404837</td>\n",
       "      <td>-0.839815</td>\n",
       "      <td>1.601221</td>\n",
       "    </tr>\n",
       "  </tbody>\n",
       "</table>\n",
       "<p>5 rows × 613 columns</p>\n",
       "</div>"
      ],
      "text/plain": [
       "   ANZ_HAUSHALTE_AKTIV  ANZ_HH_TITEL  ANZ_KINDER  ANZ_PERSONEN  \\\n",
       "0            -0.279911     -0.128558   -0.264907     -0.203160   \n",
       "1            -0.279911     -0.128558   -0.264907     -0.917164   \n",
       "2            -0.352184      0.000796   -0.264907     -1.631168   \n",
       "3             0.153723     -0.128558   -0.264907      1.224848   \n",
       "4            -0.279911     -0.128558   -0.264907     -0.203160   \n",
       "\n",
       "   ANZ_STATISTISCHE_HAUSHALTE  ANZ_TITEL    ARBEIT  BALLRAUM  CAMEO_DEUG_2015  \\\n",
       "0                   -0.263158  -0.134519 -1.818381 -0.611942         -1.40217   \n",
       "1                   -0.263158  -0.134519  0.165508  1.277295          0.27563   \n",
       "2                   -0.263158  -0.134519 -1.818381  1.277295         -0.14382   \n",
       "3                    0.174495  -0.134519  0.165508 -0.611942          1.11453   \n",
       "4                   -0.263158  -0.134519  0.165508  1.277295          0.27563   \n",
       "\n",
       "   D19_BANKEN_DIREKT  ...  CJT_KATALOGNUTZER_2.0  CJT_KATALOGNUTZER_3.0  \\\n",
       "0          -0.426604  ...              -0.279164              -0.414208   \n",
       "1          -0.426604  ...              -0.279164              -0.414208   \n",
       "2          -0.426604  ...              -0.279164              -0.414208   \n",
       "3           2.089999  ...              -0.279164              -0.414208   \n",
       "4          -0.426604  ...              -0.279164               2.414246   \n",
       "\n",
       "   CJT_KATALOGNUTZER_4.0  CJT_KATALOGNUTZER_5.0  UMFELD_ALT_2.0  \\\n",
       "0                2.12445              -0.931878       -0.486942   \n",
       "1               -0.47071               1.073102       -0.486942   \n",
       "2               -0.47071               1.073102       -0.486942   \n",
       "3                2.12445              -0.931878        2.053634   \n",
       "4               -0.47071              -0.931878        2.053634   \n",
       "\n",
       "   UMFELD_ALT_3.0  UMFELD_ALT_4.0  UMFELD_ALT_5.0  HEALTH_TYP_2.0  \\\n",
       "0       -0.605694        1.876075       -0.404837       -0.839815   \n",
       "1       -0.605694       -0.533028       -0.404837        1.190739   \n",
       "2        1.650998       -0.533028       -0.404837        1.190739   \n",
       "3       -0.605694       -0.533028       -0.404837       -0.839815   \n",
       "4       -0.605694       -0.533028       -0.404837       -0.839815   \n",
       "\n",
       "   HEALTH_TYP_3.0  \n",
       "0       -0.624524  \n",
       "1       -0.624524  \n",
       "2       -0.624524  \n",
       "3        1.601221  \n",
       "4        1.601221  \n",
       "\n",
       "[5 rows x 613 columns]"
      ]
     },
     "execution_count": 67,
     "metadata": {},
     "output_type": "execute_result"
    }
   ],
   "source": [
    "customers_scaled.head()"
   ]
  },
  {
   "cell_type": "markdown",
   "metadata": {},
   "source": [
    "#### Dumping Scaled Azdias & Customers data into pickle"
   ]
  },
  {
   "cell_type": "code",
   "execution_count": 68,
   "metadata": {},
   "outputs": [],
   "source": [
    "#pickle.dump(azdias_scaled, open(r\"U:\\arvato_data\\azdias_scaled.pickle\", \"wb\"))"
   ]
  },
  {
   "cell_type": "code",
   "execution_count": 69,
   "metadata": {},
   "outputs": [],
   "source": [
    "#pickle.dump(customers_scaled, open(r\"U:\\arvato_data\\customers_scaled.pickle\", \"wb\"))"
   ]
  },
  {
   "cell_type": "markdown",
   "metadata": {},
   "source": [
    "### 2.8 Cleaning Train and Test Data "
   ]
  },
  {
   "cell_type": "markdown",
   "metadata": {},
   "source": [
    "#### 2.8.1 Train Data"
   ]
  },
  {
   "cell_type": "code",
   "execution_count": 117,
   "metadata": {},
   "outputs": [],
   "source": [
    "# Read the data of Udacity_MAILOUT_052018_TRAIN\n",
    "train = pd.read_csv(r\"U:\\arvato_data\\Udacity_MAILOUT_052018_TRAIN.csv\", \n",
    "                     delimiter=\";\",\n",
    "                    dtype = {\"CAMEO_DEUG_2015\": \"str\",\"CAMEO_INTL_2015\": \"str\" })"
   ]
  },
  {
   "cell_type": "code",
   "execution_count": 118,
   "metadata": {},
   "outputs": [
    {
     "data": {
      "text/plain": [
       "(42962, 367)"
      ]
     },
     "execution_count": 118,
     "metadata": {},
     "output_type": "execute_result"
    }
   ],
   "source": [
    "# Shape before cleaning\n",
    "train.shape"
   ]
  },
  {
   "cell_type": "code",
   "execution_count": 119,
   "metadata": {},
   "outputs": [
    {
     "data": {
      "text/plain": [
       "42"
      ]
     },
     "execution_count": 119,
     "metadata": {},
     "output_type": "execute_result"
    }
   ],
   "source": [
    "# Count of columns to be droppen\n",
    "len(cols_to_drop)"
   ]
  },
  {
   "cell_type": "code",
   "execution_count": 120,
   "metadata": {},
   "outputs": [
    {
     "data": {
      "text/plain": [
       "8748"
      ]
     },
     "execution_count": 120,
     "metadata": {},
     "output_type": "execute_result"
    }
   ],
   "source": [
    "# Check if there is any row having null\n",
    "len(train.isnull().mean(axis=1)[train.isnull().mean(axis=1)>0.15].index)"
   ]
  },
  {
   "cell_type": "code",
   "execution_count": 121,
   "metadata": {},
   "outputs": [
    {
     "data": {
      "text/plain": [
       "273"
      ]
     },
     "execution_count": 121,
     "metadata": {},
     "output_type": "execute_result"
    }
   ],
   "source": [
    "# Check if there is any column having at least 1 null (There is not)\n",
    "len(train.isnull().mean(axis=0)[train.isnull().mean(axis=0)>0].index)"
   ]
  },
  {
   "cell_type": "code",
   "execution_count": 122,
   "metadata": {},
   "outputs": [
    {
     "data": {
      "text/plain": [
       "0"
      ]
     },
     "execution_count": 122,
     "metadata": {},
     "output_type": "execute_result"
    }
   ],
   "source": [
    "# Find outliers for three columns, count of rows to be dropped\n",
    "len(detect_outliers(train,['ANZ_HAUSHALTE_AKTIV','ANZ_STATISTISCHE_HAUSHALTE','KBA13_ANZAHL_PKW']))"
   ]
  },
  {
   "cell_type": "code",
   "execution_count": 123,
   "metadata": {},
   "outputs": [
    {
     "name": "stdout",
     "output_type": "stream",
     "text": [
      "42 columns are dropped!\n",
      "8748 rows are dropped!\n",
      "49 rows of outliers are dropped!\n",
      "48 columns are dummy-encoded!\n",
      "Final data has 34165 rows and 614 colums!\n"
     ]
    }
   ],
   "source": [
    "# Clean train data and encode\n",
    "train_cleaned = clean_df(train, unknowns, cols_to_drop, categoricals, ordinals, numericals)"
   ]
  },
  {
   "cell_type": "code",
   "execution_count": 131,
   "metadata": {},
   "outputs": [
    {
     "data": {
      "text/plain": [
       "0"
      ]
     },
     "execution_count": 131,
     "metadata": {},
     "output_type": "execute_result"
    }
   ],
   "source": [
    "# Check null in cleaned data\n",
    "(train_cleaned.isnull().sum()>0).sum()"
   ]
  },
  {
   "cell_type": "code",
   "execution_count": 124,
   "metadata": {},
   "outputs": [
    {
     "data": {
      "text/plain": [
       "0    33742\n",
       "1      423\n",
       "Name: RESPONSE, dtype: int64"
      ]
     },
     "execution_count": 124,
     "metadata": {},
     "output_type": "execute_result"
    }
   ],
   "source": [
    "train_cleaned.RESPONSE.value_counts()"
   ]
  },
  {
   "cell_type": "markdown",
   "metadata": {},
   "source": [
    "#### 2.8.2 Test Data"
   ]
  },
  {
   "cell_type": "code",
   "execution_count": 134,
   "metadata": {},
   "outputs": [],
   "source": [
    "# Update Clean Function for test data: I dont want to drop any rows\n",
    "\n",
    "def clean_df_test(df, unknowns, cols_to_drop, categoricals, ordinals, numericals):\n",
    "    \n",
    "    # Converting to date time object\n",
    "    df[\"EINGEFUEGT_AM\"] =  pd.to_datetime(df[\"EINGEFUEGT_AM\"], infer_datetime_format=True)\n",
    "    \n",
    "    # Create column \"YEAR_ADDED\", \"MONTH_ADDEDD\",\"DAY_ADDED\" columns; i will drop \"EINGEFUEGT_AM\" later\n",
    "    df[\"YEAR_ADDED\"] = df[\"EINGEFUEGT_AM\"].dt.year\n",
    "    df[\"MONTH_ADDED\"] = df[\"EINGEFUEGT_AM\"].dt.month\n",
    "    df[\"DAY_ADDED\"] = df[\"EINGEFUEGT_AM\"].dt.day\n",
    "    \n",
    "    # Replace \"XX\" with NaN\n",
    "    df.CAMEO_INTL_2015 = df.CAMEO_INTL_2015.replace(\"XX\", np.NaN)\n",
    "    \n",
    "    # Convert data type to float of CAMEO_INTL_2015    \n",
    "    df[\"CAMEO_INTL_2015\"] = df[\"CAMEO_INTL_2015\"].astype(float)  \n",
    "\n",
    "    \n",
    "    \n",
    "    # Replace \"X\" and \"XX\" with NaN in columns \"CAMEO_DEUG_2015\",\"CAMEO_DEU_2015\"\n",
    "    df.CAMEO_DEUG_2015 = df.CAMEO_DEUG_2015.replace(\"X\", np.NaN)\n",
    "    df.CAMEO_DEU_2015 = df.CAMEO_DEU_2015.replace(\"XX\", np.NaN)\n",
    "    \n",
    "    # Conver data type\n",
    "    df.CAMEO_DEUG_2015 = df.CAMEO_DEUG_2015.astype(float)\n",
    "    \n",
    "    # Replace \"W\" and \"O\" with 0 and 1.\n",
    "    df.OST_WEST_KZ = df.OST_WEST_KZ.replace(\"W\", 0).replace(\"O\",1)\n",
    "    \n",
    "    # Replace values with numbers in CAMEO_DEU_2015\n",
    "    # Create dictionary to store values\n",
    "    map_dict = dict()\n",
    "    k = 0\n",
    "    for each in df.CAMEO_DEU_2015.value_counts().index.sort_values().tolist():\n",
    "        map_dict[each]= k\n",
    "        k = k + 1\n",
    "\n",
    "    # Replace    \n",
    "    df[\"CAMEO_DEU_2015\"] = df[\"CAMEO_DEU_2015\"].replace(map_dict) \n",
    "        \n",
    "    # Loop through azdias dataframe and replace necessary values with NaN\n",
    "    # Loop in attributes that have unknowns\n",
    "    for attribute in unknowns.Attribute.unique():\n",
    "        # Loop in unkown values\n",
    "        for value in unknowns[unknowns.Attribute == attribute].Value.values.tolist():\n",
    "            # get indices\n",
    "            idx = df.loc[:,attribute] == value\n",
    "            # replace with NaN\n",
    "            df.loc[idx,attribute] = np.NaN \n",
    "\n",
    "    \n",
    "    # Drop columns from df\n",
    "    df.drop(cols_to_drop, axis = 1 , inplace = True)\n",
    "    print(\"{} columns are dropped!\".format(len(cols_to_drop)))\n",
    "    \n",
    "    # Create indexes of rows to be dropped\n",
    "    #rows_to_drop = df.isnull().mean(axis=1)[df.isnull().mean(axis=1)>0.15].index\n",
    "    \n",
    "    # Drop rows\n",
    "    #df.drop(rows_to_drop, axis = 0, inplace = True)\n",
    "    #print(\"{} rows are dropped!\".format(len(rows_to_drop)))\n",
    "    \n",
    "   \n",
    "    # For categorical columns: Fill missings with most frequent value\n",
    "    for col in categoricals:\n",
    "        df[col] = df[col].fillna(df[col].value_counts().index[0])\n",
    "\n",
    "    # For ordinal columns: Fill missings with most frequent value\n",
    "    for col in ordinals:\n",
    "        df[col] = df[col].fillna(df[col].value_counts().index[0])  \n",
    "\n",
    "    # For numerical columns: Fill missings with mean\n",
    "    for col in numericals:\n",
    "        df[col] = df[col].fillna(df[col].mean())    \n",
    "        \n",
    "    # Find outliers for three columns\n",
    "    #outliers_index = detect_outliers(df,['ANZ_HAUSHALTE_AKTIV','ANZ_STATISTISCHE_HAUSHALTE','KBA13_ANZAHL_PKW'])\n",
    "    \n",
    "    # Drop outliers\n",
    "    #df = df.drop(outliers_index, axis = 0)\n",
    "    #print(\"{} rows of outliers are dropped!\".format(len(outliers_index)))\n",
    "    \n",
    "    # Create dummy variables for categorical columns\n",
    "    df = pd.get_dummies(df, columns = categoricals, drop_first = True )\n",
    "    print(\"{} columns are dummy-encoded!\".format(len(categoricals)))\n",
    "    \n",
    "    print(\"Final data has {} rows and {} colums!\".format(df.shape[0], df.shape[1]))\n",
    "    \n",
    "    return df"
   ]
  },
  {
   "cell_type": "code",
   "execution_count": 132,
   "metadata": {},
   "outputs": [],
   "source": [
    "# Read the data of Udacity_MAILOUT_052018_TEST.csv\n",
    "test = pd.read_csv(r\"U:\\arvato_data\\Udacity_MAILOUT_052018_TEST.csv\", \n",
    "                     delimiter=\";\",\n",
    "                    dtype = {\"CAMEO_DEUG_2015\": \"str\",\"CAMEO_INTL_2015\": \"str\" })"
   ]
  },
  {
   "cell_type": "code",
   "execution_count": 136,
   "metadata": {},
   "outputs": [
    {
     "data": {
      "text/plain": [
       "(42833, 366)"
      ]
     },
     "execution_count": 136,
     "metadata": {},
     "output_type": "execute_result"
    }
   ],
   "source": [
    "# Shape before cleaning\n",
    "test.shape"
   ]
  },
  {
   "cell_type": "code",
   "execution_count": 137,
   "metadata": {},
   "outputs": [
    {
     "name": "stdout",
     "output_type": "stream",
     "text": [
      "42 columns are dropped!\n",
      "48 columns are dummy-encoded!\n",
      "Final data has 42833 rows and 613 colums!\n"
     ]
    }
   ],
   "source": [
    "# Clean test data\n",
    "test_cleaned = clean_df_test(test, unknowns, cols_to_drop, categoricals, ordinals, numericals)"
   ]
  },
  {
   "cell_type": "markdown",
   "metadata": {},
   "source": [
    "Check the column differences between final train and test data"
   ]
  },
  {
   "cell_type": "code",
   "execution_count": 138,
   "metadata": {},
   "outputs": [
    {
     "data": {
      "text/plain": [
       "{'RESPONSE'}"
      ]
     },
     "execution_count": 138,
     "metadata": {},
     "output_type": "execute_result"
    }
   ],
   "source": [
    "set.difference(set(train_cleaned.columns), set(test_cleaned.columns))"
   ]
  },
  {
   "cell_type": "markdown",
   "metadata": {},
   "source": [
    "#### Dump cleaned and encoded data into pickle"
   ]
  },
  {
   "cell_type": "code",
   "execution_count": 140,
   "metadata": {},
   "outputs": [],
   "source": [
    "pickle.dump(train_cleaned, open(r\"U:\\arvato_data\\train_cleaned.pickle\", \"wb\"))"
   ]
  },
  {
   "cell_type": "code",
   "execution_count": 141,
   "metadata": {},
   "outputs": [],
   "source": [
    "pickle.dump(test_cleaned, open(r\"U:\\arvato_data\\test_cleaned.pickle\", \"wb\"))"
   ]
  },
  {
   "cell_type": "markdown",
   "metadata": {},
   "source": [
    "                                          Notebook Continues with the \"3. Part 1: Customer Segmentation Report\"--->"
   ]
  }
 ],
 "metadata": {
  "kernelspec": {
   "display_name": "Python 3",
   "language": "python",
   "name": "python3"
  },
  "language_info": {
   "codemirror_mode": {
    "name": "ipython",
    "version": 3
   },
   "file_extension": ".py",
   "mimetype": "text/x-python",
   "name": "python",
   "nbconvert_exporter": "python",
   "pygments_lexer": "ipython3",
   "version": "3.7.3"
  }
 },
 "nbformat": 4,
 "nbformat_minor": 4
}
